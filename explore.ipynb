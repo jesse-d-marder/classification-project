{
 "cells": [
  {
   "cell_type": "code",
   "execution_count": 294,
   "id": "5eb7e8ce-4f58-46cd-87ba-c1614c41e4e8",
   "metadata": {},
   "outputs": [],
   "source": [
    "from acquire import get_telco_data\n",
    "from prepare import train_validate_test_split\n",
    "import pandas as pd\n",
    "import numpy as np\n",
    "import matplotlib.pyplot as plt\n",
    "import seaborn as sns\n",
    "import explore\n",
    "from scipy import stats"
   ]
  },
  {
   "cell_type": "code",
   "execution_count": 313,
   "id": "0a70fbe3-d8de-463e-8b51-ab73ea9c4089",
   "metadata": {},
   "outputs": [
    {
     "name": "stdout",
     "output_type": "stream",
     "text": [
      "Using cached data\n"
     ]
    }
   ],
   "source": [
    "df = get_telco_data()"
   ]
  },
  {
   "cell_type": "markdown",
   "id": "807c2d17-2660-4b11-814e-cccd9c32d91c",
   "metadata": {
    "tags": []
   },
   "source": [
    "# Prepare Exploration (Pre-split)"
   ]
  },
  {
   "cell_type": "code",
   "execution_count": 314,
   "id": "d3bdc45d-d4d3-4ba2-82da-7478beb35454",
   "metadata": {},
   "outputs": [
    {
     "data": {
      "text/plain": [
       "customer_id               object\n",
       "gender                    object\n",
       "senior_citizen             int64\n",
       "partner                   object\n",
       "dependents                object\n",
       "tenure                     int64\n",
       "phone_service             object\n",
       "multiple_lines            object\n",
       "online_security           object\n",
       "online_backup             object\n",
       "device_protection         object\n",
       "tech_support              object\n",
       "streaming_tv              object\n",
       "streaming_movies          object\n",
       "paperless_billing         object\n",
       "monthly_charges          float64\n",
       "total_charges            float64\n",
       "churn                     object\n",
       "contract_type             object\n",
       "internet_service_type     object\n",
       "payment_type              object\n",
       "dtype: object"
      ]
     },
     "execution_count": 314,
     "metadata": {},
     "output_type": "execute_result"
    }
   ],
   "source": [
    "# Initially drop redundant columns\n",
    "df = df.drop(columns = ['payment_type_id','internet_service_type_id','contract_type_id'])\n",
    "\n",
    "# From prior exploration of dataset a small number of the total_charges are just whitespace - these are all new customers who haven't been with the company for >1 month.\n",
    "# Given that it is a very small proportion of the total dataset these rows will be deleted for ease of computation later on\n",
    "(df == \" \").sum()\n",
    "\n",
    "df = df.drop(df[df.total_charges == \" \"].index)\n",
    "\n",
    "# Confirm no more blanks\n",
    "(df == \" \").sum().sum()\n",
    "\n",
    "# Confirm no nulls\n",
    "(df.isna().sum()).sum()\n",
    "\n",
    "# Convert total_charges to float for later analysis\n",
    "df.total_charges = df.total_charges.astype('float64')\n",
    "\n",
    "# Confirm dtypes\n",
    "df.dtypes"
   ]
  },
  {
   "cell_type": "code",
   "execution_count": 324,
   "id": "da88beae-4d10-4fff-bf92-950454690b7d",
   "metadata": {},
   "outputs": [
    {
     "data": {
      "text/plain": [
       "1    5512\n",
       "0    1520\n",
       "Name: has_internet_service, dtype: int64"
      ]
     },
     "execution_count": 324,
     "metadata": {},
     "output_type": "execute_result"
    }
   ],
   "source": [
    "df.has_internet_service.value_counts()"
   ]
  },
  {
   "cell_type": "code",
   "execution_count": 316,
   "id": "0126b4dd-8dea-449d-ae59-4456bf3d9fb4",
   "metadata": {},
   "outputs": [],
   "source": [
    "df = df.rename(columns={'senior_citizen':'is_senior_citizen'})\n",
    "df.churn = df.churn.map({'Yes':1,'No':0})\n",
    "df['is_male'] = df.gender.map({'Male':1,'Female':0})\n",
    "df['has_phone'] = df.phone_service.map({'Yes':1,'No':0})\n",
    "df['has_internet_service'] = df.internet_service_type.map({'Fiber optic':1,'DSL':1,'None':0})\n",
    "df['has_partner']= df.partner.map({'Yes':1,'No':0})\n",
    "df['has_dependent'] = df.dependents.map({'Yes':1,'No':0})\n",
    "df['is_paperless'] = df.paperless_billing.map({'Yes':1,'No':0})\n",
    "df['is_month_to_month'] = df.contract_type.map({'Two year':0,'One year':0, 'Month-to-month':1})\n",
    "df['is_autopay'] = df.payment_type.map({'Electronic check': 0, 'Mailed check': 0, 'Bank transfer (automatic)':1, 'Credit card (automatic)': 1})"
   ]
  },
  {
   "cell_type": "code",
   "execution_count": 317,
   "id": "f3202c1f-2bea-41d3-b5fb-bc15984cead0",
   "metadata": {},
   "outputs": [
    {
     "data": {
      "text/plain": [
       "Index(['customer_id', 'gender', 'is_senior_citizen', 'partner', 'dependents',\n",
       "       'tenure', 'phone_service', 'multiple_lines', 'online_security',\n",
       "       'online_backup', 'device_protection', 'tech_support', 'streaming_tv',\n",
       "       'streaming_movies', 'paperless_billing', 'monthly_charges',\n",
       "       'total_charges', 'churn', 'contract_type', 'internet_service_type',\n",
       "       'payment_type', 'is_male', 'has_phone', 'has_internet_service',\n",
       "       'has_partner', 'has_dependent', 'is_paperless', 'is_month_to_month',\n",
       "       'is_autopay'],\n",
       "      dtype='object')"
      ]
     },
     "execution_count": 317,
     "metadata": {},
     "output_type": "execute_result"
    }
   ],
   "source": [
    "df.columns"
   ]
  },
  {
   "cell_type": "code",
   "execution_count": 318,
   "id": "05e7f975-a3c2-408b-ad4c-f8807882ba64",
   "metadata": {},
   "outputs": [],
   "source": [
    "# # Determine the categorical variables - here defined as object data type (non-numeric) and with fewer than 5 values\n",
    "# catcol = df.columns[(df.nunique()<5)&(df.dtypes == 'object')]\n",
    "# # Encode categoricals\n",
    "# dummy_df = pd.get_dummies(df[catcol], dummy_na=False, drop_first=True)\n",
    "# # Concatenate dummy df to original df\n",
    "# df = pd.concat([df,dummy_df],axis=1)\n",
    "# # Remove the original categorical columns after encoding\n",
    "# df = df.drop(columns=catcol)"
   ]
  },
  {
   "cell_type": "markdown",
   "id": "b52692e3-6e5f-44cd-a067-ce8289f7b809",
   "metadata": {},
   "source": [
    "# Exploration (Post-split)"
   ]
  },
  {
   "cell_type": "markdown",
   "id": "df995b77-df66-4222-a5e1-f6afaf717a0f",
   "metadata": {},
   "source": [
    "### Question to explore:\n",
    "    - Do any groups churn at higher than the overall average rate?\n",
    "    - Do any groups churn at lower than the overall average rate?\n",
    "    - Of the groups that churn at higher than overall average, do any particular sub groups churn higher?\n",
    "    - Which groups make the most money for the company? Any above the overall average?\n",
    "    - Do any of these groups align with the the groups that churn the most? With the least churn rate?\n",
    " \n",
    "    "
   ]
  },
  {
   "cell_type": "code",
   "execution_count": 319,
   "id": "83531997-db1d-445f-8ba6-21916044ac9d",
   "metadata": {},
   "outputs": [],
   "source": [
    "train, validate, test = train_validate_test_split(df, target = 'churn', seed =123)"
   ]
  },
  {
   "cell_type": "code",
   "execution_count": 320,
   "id": "573ab61d-252d-44b9-9737-bd3024f765fe",
   "metadata": {},
   "outputs": [
    {
     "data": {
      "text/plain": [
       "((3937, 29), (1688, 29), (1407, 29))"
      ]
     },
     "execution_count": 320,
     "metadata": {},
     "output_type": "execute_result"
    }
   ],
   "source": [
    "train.shape, validate.shape, test.shape"
   ]
  },
  {
   "cell_type": "code",
   "execution_count": 403,
   "id": "1b491684-4e04-4932-8465-99b145816051",
   "metadata": {},
   "outputs": [],
   "source": [
    "# Baseline churn rate\n",
    "baseline_churn = (train.churn == 1).mean()"
   ]
  },
  {
   "cell_type": "markdown",
   "id": "c83fbbc6-2d8c-45d9-a8f6-2531dd947649",
   "metadata": {},
   "source": [
    "## Do any groups churn at rates significantly above or below the overall (baseline) mean?\n",
    "\n",
    "### Groups defined as:\n",
    "    - senior citizen\n",
    "    - male vs female\n",
    "    - partner vs no partner\n",
    "    - dependent vs no dependent\n",
    "    - Auto vs manual payers\n",
    "    - Paperless billing vs not\n",
    "    - Month to month vs long term\n",
    "    - Internet service or not\n",
    "    - Phone service or not\n",
    "    \n",
    "### Will perform chi square test\n",
    "#### Enough samples to assume normal distribution\n",
    "    "
   ]
  },
  {
   "cell_type": "code",
   "execution_count": 322,
   "id": "c3c9abd5-4dd0-4dda-9c3e-75962f903b24",
   "metadata": {},
   "outputs": [],
   "source": [
    "alpha = 0.05"
   ]
  },
  {
   "cell_type": "code",
   "execution_count": 323,
   "id": "460d4866-bee3-43cd-8f31-bba28a9c73e6",
   "metadata": {},
   "outputs": [
    {
     "data": {
      "text/plain": [
       "Index(['customer_id', 'gender', 'is_senior_citizen', 'partner', 'dependents',\n",
       "       'tenure', 'phone_service', 'multiple_lines', 'online_security',\n",
       "       'online_backup', 'device_protection', 'tech_support', 'streaming_tv',\n",
       "       'streaming_movies', 'paperless_billing', 'monthly_charges',\n",
       "       'total_charges', 'churn', 'contract_type', 'internet_service_type',\n",
       "       'payment_type', 'is_male', 'has_phone', 'has_internet_service',\n",
       "       'has_partner', 'has_dependent', 'is_paperless', 'is_month_to_month',\n",
       "       'is_autopay'],\n",
       "      dtype='object')"
      ]
     },
     "execution_count": 323,
     "metadata": {},
     "output_type": "execute_result"
    }
   ],
   "source": [
    "train.columns"
   ]
  },
  {
   "cell_type": "code",
   "execution_count": 525,
   "id": "5b65910b-38d7-4406-995e-a6dfba751759",
   "metadata": {},
   "outputs": [
    {
     "name": "stdout",
     "output_type": "stream",
     "text": [
      "For is_male 0.4998503909528952 0.0003750617495743298\n",
      "For is_senior_citizen 6.657399538355316e-16 8.200566219243903\n",
      "For has_partner 8.13331609478488e-13 -7.110579138485949\n",
      "For has_dependent 1.0112048946230359e-24 -10.427077128848588\n",
      "For is_paperless 6.257952653084417e-13 7.139016011077522\n",
      "For is_autopay 9.41555705559799e-28 -11.041538009099208\n",
      "For is_month_to_month 2.0592279592357914e-50 15.27620998607843\n",
      "For has_phone 0.37969038010059053 0.30631757033098383\n",
      "For has_internet_service 7.104763737818995e-11 6.435707727568809\n"
     ]
    }
   ],
   "source": [
    "groups = ['is_male', 'is_senior_citizen', 'has_partner', 'has_dependent', 'is_paperless','is_autopay','is_month_to_month','has_phone','has_internet_service']\n",
    "ts={}\n",
    "p_over_2s={}\n",
    "churn_rate = {}\n",
    "\n",
    "for group in groups:\n",
    "    t, p = stats.ttest_1samp(train.churn[train[group] == 1], train.churn.mean())\n",
    "    print(f'For {group} {p/2} {t}')\n",
    "    \n",
    "    ts[group] = t\n",
    "    p_over_2s[group] = p/2\n",
    "    churn_rate[group] = (train.churn[train[group] == 1]).mean()\n",
    "\n",
    "results = pd.DataFrame(data = [ts, p_over_2s,churn_rate], index= ['t','p_over_2','churn_rate']).T\n",
    "\n",
    "results['significantly_greater'] = (results.p_over_2<alpha) & (results.t>0)\n",
    "results['significantly_lower'] = (results.p_over_2<alpha) & (results.t<0)\n",
    "results['significant'] = (results.significantly_greater) | (results.significantly_lower)\n",
    "results = results.sort_values(by = 'churn_rate')"
   ]
  },
  {
   "cell_type": "code",
   "execution_count": 531,
   "id": "f97f0469-aabf-4cf0-b8a4-ce424bbca911",
   "metadata": {},
   "outputs": [
    {
     "name": "stdout",
     "output_type": "stream",
     "text": [
      "is_male\n",
      "We fail to reject the null hypothesis\n",
      "is_senior_citizen\n",
      "We reject the null hypothesis\n",
      "has_partner\n",
      "We reject the null hypothesis\n",
      "has_dependent\n",
      "We reject the null hypothesis\n",
      "is_paperless\n",
      "We reject the null hypothesis\n",
      "is_autopay\n",
      "We reject the null hypothesis\n",
      "is_month_to_month\n",
      "We reject the null hypothesis\n",
      "has_phone\n",
      "We fail to reject the null hypothesis\n",
      "has_internet_service\n",
      "We reject the null hypothesis\n"
     ]
    }
   ],
   "source": [
    "groups = ['is_male', 'is_senior_citizen', 'has_partner', 'has_dependent', 'is_paperless','is_autopay','is_month_to_month','has_phone','has_internet_service']\n",
    "reject_null = []\n",
    "\n",
    "for group in groups:\n",
    "    observed = pd.crosstab(train.churn, train[group])\n",
    "    chi2, p, dof, expected = stats.chi2_contingency(observed)\n",
    "    print(group)\n",
    "    # print('Observed\\n')\n",
    "    # print(observed.values)\n",
    "    # print('---\\nExpected\\n')\n",
    "    # print(expected.astype(int))\n",
    "    # print('---\\n')\n",
    "    # print(f'chi^2 = {chi2:.4f}')\n",
    "    # print(f'p     = {p:.4f}')\n",
    "    if p < alpha:\n",
    "        print(\"We reject the null hypothesis\")\n",
    "        reject_null.append(group)\n",
    "    else:\n",
    "        print(\"We fail to reject the null hypothesis\")"
   ]
  },
  {
   "cell_type": "code",
   "execution_count": 533,
   "id": "0b64ef1a-f8dd-4097-b7f7-18af7ecdb1d5",
   "metadata": {},
   "outputs": [
    {
     "data": {
      "text/plain": [
       "['is_senior_citizen',\n",
       " 'has_partner',\n",
       " 'has_dependent',\n",
       " 'is_paperless',\n",
       " 'is_autopay',\n",
       " 'is_month_to_month',\n",
       " 'has_internet_service']"
      ]
     },
     "execution_count": 533,
     "metadata": {},
     "output_type": "execute_result"
    }
   ],
   "source": [
    "reject_null"
   ]
  },
  {
   "cell_type": "code",
   "execution_count": 412,
   "id": "71bf514b-4cc9-4146-81fc-9b102fb8e84b",
   "metadata": {},
   "outputs": [
    {
     "data": {
      "text/html": [
       "<div>\n",
       "<style scoped>\n",
       "    .dataframe tbody tr th:only-of-type {\n",
       "        vertical-align: middle;\n",
       "    }\n",
       "\n",
       "    .dataframe tbody tr th {\n",
       "        vertical-align: top;\n",
       "    }\n",
       "\n",
       "    .dataframe thead th {\n",
       "        text-align: right;\n",
       "    }\n",
       "</style>\n",
       "<table border=\"1\" class=\"dataframe\">\n",
       "  <thead>\n",
       "    <tr style=\"text-align: right;\">\n",
       "      <th></th>\n",
       "      <th>t</th>\n",
       "      <th>p_over_2</th>\n",
       "      <th>churn_rate</th>\n",
       "      <th>significantly_greater</th>\n",
       "      <th>significantly_lower</th>\n",
       "      <th>significant</th>\n",
       "    </tr>\n",
       "  </thead>\n",
       "  <tbody>\n",
       "    <tr>\n",
       "      <th>has_dependent</th>\n",
       "      <td>-10.427077</td>\n",
       "      <td>1.011205e-24</td>\n",
       "      <td>0.156040</td>\n",
       "      <td>False</td>\n",
       "      <td>True</td>\n",
       "      <td>True</td>\n",
       "    </tr>\n",
       "    <tr>\n",
       "      <th>is_autopay</th>\n",
       "      <td>-11.041538</td>\n",
       "      <td>9.415557e-28</td>\n",
       "      <td>0.167331</td>\n",
       "      <td>False</td>\n",
       "      <td>True</td>\n",
       "      <td>True</td>\n",
       "    </tr>\n",
       "    <tr>\n",
       "      <th>has_partner</th>\n",
       "      <td>-7.110579</td>\n",
       "      <td>8.133316e-13</td>\n",
       "      <td>0.200524</td>\n",
       "      <td>False</td>\n",
       "      <td>True</td>\n",
       "      <td>True</td>\n",
       "    </tr>\n",
       "    <tr>\n",
       "      <th>is_male</th>\n",
       "      <td>0.000375</td>\n",
       "      <td>4.998504e-01</td>\n",
       "      <td>0.265688</td>\n",
       "      <td>False</td>\n",
       "      <td>False</td>\n",
       "      <td>False</td>\n",
       "    </tr>\n",
       "    <tr>\n",
       "      <th>has_phone</th>\n",
       "      <td>0.306318</td>\n",
       "      <td>3.796904e-01</td>\n",
       "      <td>0.267957</td>\n",
       "      <td>False</td>\n",
       "      <td>False</td>\n",
       "      <td>False</td>\n",
       "    </tr>\n",
       "    <tr>\n",
       "      <th>has_internet_service</th>\n",
       "      <td>6.435708</td>\n",
       "      <td>7.104764e-11</td>\n",
       "      <td>0.319870</td>\n",
       "      <td>True</td>\n",
       "      <td>False</td>\n",
       "      <td>True</td>\n",
       "    </tr>\n",
       "    <tr>\n",
       "      <th>is_paperless</th>\n",
       "      <td>7.139016</td>\n",
       "      <td>6.257953e-13</td>\n",
       "      <td>0.335628</td>\n",
       "      <td>True</td>\n",
       "      <td>False</td>\n",
       "      <td>True</td>\n",
       "    </tr>\n",
       "    <tr>\n",
       "      <th>is_senior_citizen</th>\n",
       "      <td>8.200566</td>\n",
       "      <td>6.657400e-16</td>\n",
       "      <td>0.426772</td>\n",
       "      <td>True</td>\n",
       "      <td>False</td>\n",
       "      <td>True</td>\n",
       "    </tr>\n",
       "    <tr>\n",
       "      <th>is_month_to_month</th>\n",
       "      <td>15.276210</td>\n",
       "      <td>2.059228e-50</td>\n",
       "      <td>0.428176</td>\n",
       "      <td>True</td>\n",
       "      <td>False</td>\n",
       "      <td>True</td>\n",
       "    </tr>\n",
       "  </tbody>\n",
       "</table>\n",
       "</div>"
      ],
      "text/plain": [
       "                              t      p_over_2  churn_rate  \\\n",
       "has_dependent        -10.427077  1.011205e-24    0.156040   \n",
       "is_autopay           -11.041538  9.415557e-28    0.167331   \n",
       "has_partner           -7.110579  8.133316e-13    0.200524   \n",
       "is_male                0.000375  4.998504e-01    0.265688   \n",
       "has_phone              0.306318  3.796904e-01    0.267957   \n",
       "has_internet_service   6.435708  7.104764e-11    0.319870   \n",
       "is_paperless           7.139016  6.257953e-13    0.335628   \n",
       "is_senior_citizen      8.200566  6.657400e-16    0.426772   \n",
       "is_month_to_month     15.276210  2.059228e-50    0.428176   \n",
       "\n",
       "                      significantly_greater  significantly_lower  significant  \n",
       "has_dependent                         False                 True         True  \n",
       "is_autopay                            False                 True         True  \n",
       "has_partner                           False                 True         True  \n",
       "is_male                               False                False        False  \n",
       "has_phone                             False                False        False  \n",
       "has_internet_service                   True                False         True  \n",
       "is_paperless                           True                False         True  \n",
       "is_senior_citizen                      True                False         True  \n",
       "is_month_to_month                      True                False         True  "
      ]
     },
     "execution_count": 412,
     "metadata": {},
     "output_type": "execute_result"
    }
   ],
   "source": [
    "results"
   ]
  },
  {
   "cell_type": "code",
   "execution_count": 413,
   "id": "27ee1a4f-97ad-4c9f-a291-fcbf9e90d9d3",
   "metadata": {},
   "outputs": [
    {
     "data": {
      "text/plain": [
       "<matplotlib.lines.Line2D at 0x7fe417eeb2b0>"
      ]
     },
     "execution_count": 413,
     "metadata": {},
     "output_type": "execute_result"
    },
    {
     "data": {
      "image/png": "[encoded data removed]",
      "text/plain": [
       "<Figure size 1008x648 with 1 Axes>"
      ]
     },
     "metadata": {},
     "output_type": "display_data"
    }
   ],
   "source": [
    "sns.set(rc={'figure.figsize':(14,9)})\n",
    "sns.barplot(data = results, x = results.index ,y = 'churn_rate', hue = 'significant')\n",
    "plt.tight_layout()\n",
    "plt.title('Churn Rates by Group - T-Test results\\nGreen line shows baseline churn rate')\n",
    "plt.axhline(y=baseline_churn, color = 'green')\n",
    "# plt.bar_label(splot.containers[0])"
   ]
  },
  {
   "cell_type": "markdown",
   "id": "74d71306-44ab-4ccd-8e52-b60f5b60df36",
   "metadata": {},
   "source": [
    "## Four groups churn at rates significantly higher than the overall mean:\n",
    "    - Senior citizens: 43%\n",
    "    - Paperless billing: 34%\n",
    "    - Month to Month: 43%\n",
    "    - Those with internet service: 32%"
   ]
  },
  {
   "cell_type": "code",
   "execution_count": null,
   "id": "370722c4-c2d2-422a-865b-7d314e195fcd",
   "metadata": {},
   "outputs": [],
   "source": []
  },
  {
   "cell_type": "markdown",
   "id": "a12e05b0-a606-408e-93a8-e163109160f1",
   "metadata": {},
   "source": [
    "## If more time - add monthly charge bins as category"
   ]
  },
  {
   "cell_type": "markdown",
   "id": "17f37a1c-5eb3-4f22-9599-e34d3b225fc2",
   "metadata": {
    "tags": []
   },
   "source": [
    "## Of the groups that churn at higher than overall average, do any particular sub groups churn higher? Chi Square test\n",
    "    - Focus on internet customers: Fiber vs DSL"
   ]
  },
  {
   "cell_type": "code",
   "execution_count": 436,
   "id": "fe2c8f16-abb7-49fb-a51d-c425808924a1",
   "metadata": {},
   "outputs": [],
   "source": [
    "# DF of just internet customers from train\n",
    "internet = train[train.has_internet_service == 1]\n",
    "\n",
    "observed = pd.crosstab(internet.churn, internet.internet_service_type)\n",
    "\n",
    "observed"
   ]
  },
  {
   "cell_type": "code",
   "execution_count": 432,
   "id": "25e06991-7249-4c67-aad7-758adcc87278",
   "metadata": {},
   "outputs": [],
   "source": [
    "chi2, p, dof, expected = stats.chi2_contingency(observed)"
   ]
  },
  {
   "cell_type": "code",
   "execution_count": 433,
   "id": "928d2b00-c90d-48cc-9fa5-61e96491a622",
   "metadata": {},
   "outputs": [
    {
     "name": "stdout",
     "output_type": "stream",
     "text": [
      "Observed\n",
      "\n",
      "[[1101  987]\n",
      " [ 247  735]]\n",
      "---\n",
      "Expected\n",
      "\n",
      "[[ 916 1171]\n",
      " [ 431  550]]\n",
      "---\n",
      "\n",
      "chi^2 = 205.1136\n",
      "p     = 0.0000\n",
      "We reject the null hypothesis\n"
     ]
    }
   ],
   "source": [
    "print('Observed\\n')\n",
    "print(observed.values)\n",
    "print('---\\nExpected\\n')\n",
    "print(expected.astype(int))\n",
    "print('---\\n')\n",
    "print(f'chi^2 = {chi2:.4f}')\n",
    "print(f'p     = {p:.4f}')\n",
    "if p < alpha:\n",
    "    print(\"We reject the null hypothesis\")\n",
    "else:\n",
    "    print(\"We fail to reject the null hypothesis\")"
   ]
  },
  {
   "cell_type": "code",
   "execution_count": 441,
   "id": "861ff511-c211-4864-bb5f-648d690d95b6",
   "metadata": {},
   "outputs": [],
   "source": []
  },
  {
   "cell_type": "code",
   "execution_count": 488,
   "id": "5f29f564-b613-4213-a322-edff882d9308",
   "metadata": {},
   "outputs": [
    {
     "data": {
      "text/html": [
       "<div>\n",
       "<style scoped>\n",
       "    .dataframe tbody tr th:only-of-type {\n",
       "        vertical-align: middle;\n",
       "    }\n",
       "\n",
       "    .dataframe tbody tr th {\n",
       "        vertical-align: top;\n",
       "    }\n",
       "\n",
       "    .dataframe thead th {\n",
       "        text-align: right;\n",
       "    }\n",
       "</style>\n",
       "<table border=\"1\" class=\"dataframe\">\n",
       "  <thead>\n",
       "    <tr style=\"text-align: right;\">\n",
       "      <th>internet_service_type</th>\n",
       "      <th>DSL</th>\n",
       "      <th>Fiber optic</th>\n",
       "    </tr>\n",
       "    <tr>\n",
       "      <th>churn</th>\n",
       "      <th></th>\n",
       "      <th></th>\n",
       "    </tr>\n",
       "  </thead>\n",
       "  <tbody>\n",
       "    <tr>\n",
       "      <th>0</th>\n",
       "      <td>1101</td>\n",
       "      <td>987</td>\n",
       "    </tr>\n",
       "    <tr>\n",
       "      <th>1</th>\n",
       "      <td>247</td>\n",
       "      <td>735</td>\n",
       "    </tr>\n",
       "  </tbody>\n",
       "</table>\n",
       "</div>"
      ],
      "text/plain": [
       "internet_service_type   DSL  Fiber optic\n",
       "churn                                   \n",
       "0                      1101          987\n",
       "1                       247          735"
      ]
     },
     "execution_count": 488,
     "metadata": {},
     "output_type": "execute_result"
    }
   ],
   "source": [
    "observed"
   ]
  },
  {
   "cell_type": "code",
   "execution_count": 527,
   "id": "b6128a55-e873-4f2d-9021-932cc013bbd0",
   "metadata": {},
   "outputs": [
    {
     "data": {
      "text/plain": [
       "(0.31986970684039084,\n",
       " 0.3198697068403909,\n",
       " 0.18323442136498516,\n",
       " 0.4268292682926829)"
      ]
     },
     "execution_count": 527,
     "metadata": {},
     "output_type": "execute_result"
    }
   ],
   "source": [
    "\n",
    "expected_df = pd.DataFrame(expected,index=[0,1], columns=['DSL','Fiber optic'])\n",
    "expected_dsl_churn = expected_df['DSL'].iloc[1]/expected_df['DSL'].sum()\n",
    "expected_fiber_churn = expected_df['Fiber optic'].iloc[1]/expected_df['Fiber optic'].sum()\n",
    "observed_dsl_churn = observed['DSL'].iloc[1]/observed['DSL'].sum()\n",
    "observed_fiber_churn = observed['Fiber optic'].iloc[1]/observed['Fiber optic'].sum()\n",
    "\n",
    "expected_dsl_churn, expected_fiber_churn, observed_dsl_churn, observed_fiber_churn"
   ]
  },
  {
   "cell_type": "markdown",
   "id": "8b368203-ef4f-4391-b823-a4285ff103f0",
   "metadata": {
    "tags": []
   },
   "source": [
    "### Churn and the type of internet service are not independent.\n",
    "### We expect the following churn %:\n",
    "    - DSL: 432/(432+917) = 32%\n",
    "    - Fiber: 551/(551+1171) = 32 %\n",
    "### Actual churn %:\n",
    "    - DSL: 247/(247+1101) = 14%\n",
    "    - Fiber: 735/(735+987) = 42%\n",
    "    "
   ]
  },
  {
   "cell_type": "markdown",
   "id": "dbe28cf3-7d2f-435a-bbbe-85fb0b8a7fcc",
   "metadata": {},
   "source": [
    "### Within fiber customers - is there a particular option that is resulting in greater or less churn?"
   ]
  },
  {
   "cell_type": "markdown",
   "id": "6a4809c8-a78e-4456-b346-e410ae5ae158",
   "metadata": {},
   "source": [
    "#### Looking at the internet service group, there are several options:\n",
    "    - Streaming TV\n",
    "    - Streaming movies\n",
    "    - Tech support\n",
    "    - Online security\n",
    "    - Device protection\n",
    "    - Online backup\n",
    "### Is whether a fiber customer churns independent of the options he or she has?"
   ]
  },
  {
   "cell_type": "code",
   "execution_count": 454,
   "id": "1fcc4d79-3d72-4fbb-8e42-48b95732615e",
   "metadata": {},
   "outputs": [],
   "source": [
    "# create df of train customers who are fiber internet\n",
    "fiber = train[train.internet_service_type == 'Fiber optic']"
   ]
  },
  {
   "cell_type": "code",
   "execution_count": 455,
   "id": "679dafcf-d377-4484-ba9f-1ee7bb5fc199",
   "metadata": {},
   "outputs": [
    {
     "data": {
      "text/plain": [
       "(1722, 29)"
      ]
     },
     "execution_count": 455,
     "metadata": {},
     "output_type": "execute_result"
    }
   ],
   "source": [
    "# plenty of samples\n",
    "fiber.shape"
   ]
  },
  {
   "cell_type": "code",
   "execution_count": 456,
   "id": "00908bd5-8e23-478b-82f8-72125d95e2b3",
   "metadata": {},
   "outputs": [
    {
     "data": {
      "text/plain": [
       "Index(['customer_id', 'gender', 'is_senior_citizen', 'partner', 'dependents',\n",
       "       'tenure', 'phone_service', 'multiple_lines', 'online_security',\n",
       "       'online_backup', 'device_protection', 'tech_support', 'streaming_tv',\n",
       "       'streaming_movies', 'paperless_billing', 'monthly_charges',\n",
       "       'total_charges', 'churn', 'contract_type', 'internet_service_type',\n",
       "       'payment_type', 'is_male', 'has_phone', 'has_internet_service',\n",
       "       'has_partner', 'has_dependent', 'is_paperless', 'is_month_to_month',\n",
       "       'is_autopay'],\n",
       "      dtype='object')"
      ]
     },
     "execution_count": 456,
     "metadata": {},
     "output_type": "execute_result"
    }
   ],
   "source": [
    "fiber.columns"
   ]
  },
  {
   "cell_type": "markdown",
   "id": "10508635-ac9b-4bab-bd2a-dadf9bcb27b5",
   "metadata": {},
   "source": [
    "## First testing whether having streaming or not makes a difference. Is the churn rate of those fiber customers with streaming signicantly higher than the fiber average? \n",
    "### Use a one sample t-test - > 30 samples, normal assumed"
   ]
  },
  {
   "cell_type": "code",
   "execution_count": 491,
   "id": "c34b4b12-db0e-45b8-a4a5-7074353a0ee9",
   "metadata": {},
   "outputs": [
    {
     "name": "stderr",
     "output_type": "stream",
     "text": [
      "/var/folders/tt/99v8dp0d60sfw82fs51dhr4m0000gn/T/ipykernel_39583/3818559347.py:1: SettingWithCopyWarning: \n",
      "A value is trying to be set on a copy of a slice from a DataFrame.\n",
      "Try using .loc[row_indexer,col_indexer] = value instead\n",
      "\n",
      "See the caveats in the documentation: https://pandas.pydata.org/pandas-docs/stable/user_guide/indexing.html#returning-a-view-versus-a-copy\n",
      "  fiber['has_streaming'] = ((fiber.streaming_movies == 'Yes')|(fiber.streaming_tv == 'Yes'))\n"
     ]
    }
   ],
   "source": [
    "fiber['has_streaming'] = ((fiber.streaming_movies == 'Yes')|(fiber.streaming_tv == 'Yes'))"
   ]
  },
  {
   "cell_type": "code",
   "execution_count": 492,
   "id": "1994d485-53aa-438c-9a1b-4f37019b2751",
   "metadata": {},
   "outputs": [
    {
     "data": {
      "text/plain": [
       "1222"
      ]
     },
     "execution_count": 492,
     "metadata": {},
     "output_type": "execute_result"
    }
   ],
   "source": [
    "fiber.has_streaming.sum()"
   ]
  },
  {
   "cell_type": "code",
   "execution_count": 495,
   "id": "a246805d-8e84-429a-a029-17b75b01724d",
   "metadata": {},
   "outputs": [
    {
     "data": {
      "text/plain": [
       "0.395253682487725"
      ]
     },
     "execution_count": 495,
     "metadata": {},
     "output_type": "execute_result"
    }
   ],
   "source": [
    "(fiber.churn[fiber.has_streaming]).mean()"
   ]
  },
  {
   "cell_type": "code",
   "execution_count": 506,
   "id": "fb09357d-9cbf-4842-8110-6f849a7a0724",
   "metadata": {},
   "outputs": [],
   "source": [
    "t, p = stats.ttest_1samp(fiber.churn[fiber.has_streaming], fiber.churn.mean())"
   ]
  },
  {
   "cell_type": "markdown",
   "id": "e216d80a-a99c-4e54-8cc3-3775de47e06d",
   "metadata": {},
   "source": [
    "- $H_0$: fiber customers with streaming churn rate are not significantly higher than average\n",
    "- $H_a$: fiber customers with streaming churn at significantly higher rate than the average"
   ]
  },
  {
   "cell_type": "code",
   "execution_count": 507,
   "id": "832db8e7-b5cc-4068-af6c-ae76fce49bde",
   "metadata": {},
   "outputs": [
    {
     "data": {
      "text/plain": [
       "(-2.2567563328604066, 0.012099752899478358)"
      ]
     },
     "execution_count": 507,
     "metadata": {},
     "output_type": "execute_result"
    }
   ],
   "source": [
    "t,p/2"
   ]
  },
  {
   "cell_type": "code",
   "execution_count": 508,
   "id": "1fe7b1ae-0170-42f3-a53d-e342548e6762",
   "metadata": {},
   "outputs": [
    {
     "data": {
      "text/plain": [
       "(False, True)"
      ]
     },
     "execution_count": 508,
     "metadata": {},
     "output_type": "execute_result"
    }
   ],
   "source": [
    "t>0, p/2<alpha"
   ]
  },
  {
   "cell_type": "code",
   "execution_count": 509,
   "id": "8636dd0d-21d0-42c7-9e4d-404f1da7a83b",
   "metadata": {},
   "outputs": [],
   "source": [
    "# not significant higher - in fact looks to be lower. Suggests those without streaming churn more"
   ]
  },
  {
   "cell_type": "code",
   "execution_count": 511,
   "id": "c0719daa-929e-45dd-abb8-0494999288f7",
   "metadata": {},
   "outputs": [
    {
     "name": "stdout",
     "output_type": "stream",
     "text": [
      "Fiber streaming churn rate: 0.395253682487725\n",
      "Fiber non-streaming churn rate: 0.504\n"
     ]
    }
   ],
   "source": [
    "print(f\"Fiber streaming churn rate: {(fiber.churn[fiber.has_streaming]).mean()}\")\n",
    "print(f\"Fiber non-streaming churn rate: {(fiber.churn[~fiber.has_streaming]).mean()}\")\n"
   ]
  },
  {
   "cell_type": "markdown",
   "id": "26858e21-8949-483d-880e-dd4fb9a61f06",
   "metadata": {},
   "source": [
    "## The churn rate of fiber customers with streaming is not higher than the average fiber customer. Customers seem to be happy with our streaming service. The churn rate of non-streaming customers is actually higher than average!"
   ]
  },
  {
   "cell_type": "markdown",
   "id": "b2f44a19-4c26-4d5b-a3b6-b2c543fe530c",
   "metadata": {},
   "source": [
    "### looking at the non-streamers - is there a specific option that leads to lower churn rate?"
   ]
  },
  {
   "cell_type": "code",
   "execution_count": 513,
   "id": "8dc53587-cbe3-4a1a-92c3-e1b35fc339e5",
   "metadata": {},
   "outputs": [],
   "source": [
    "fiber_non_streamers = fiber[~fiber.has_streaming]"
   ]
  },
  {
   "cell_type": "code",
   "execution_count": 515,
   "id": "b5b566fe-d64f-47ba-93a8-011ebf550dff",
   "metadata": {},
   "outputs": [
    {
     "data": {
      "text/plain": [
       "(500, 30)"
      ]
     },
     "execution_count": 515,
     "metadata": {},
     "output_type": "execute_result"
    }
   ],
   "source": [
    "fiber_non_streamers.shape"
   ]
  },
  {
   "cell_type": "code",
   "execution_count": 516,
   "id": "740b89dd-6225-4e25-929f-0c88116e44db",
   "metadata": {},
   "outputs": [],
   "source": [
    "internet_options = ['online_security',\n",
    "       'online_backup', 'device_protection', 'tech_support']"
   ]
  },
  {
   "cell_type": "code",
   "execution_count": 517,
   "id": "c456c02b-9338-4124-8ab7-54b0d9b97b5d",
   "metadata": {},
   "outputs": [
    {
     "data": {
      "text/plain": [
       "online_security  online_backup  device_protection  tech_support\n",
       "No               No             No                 No              219\n",
       "                 Yes            No                 No               65\n",
       "                 No             Yes                No               46\n",
       "Yes              No             No                 No               28\n",
       "No               Yes            Yes                No               25\n",
       "Yes              Yes            Yes                No               18\n",
       "No               Yes            Yes                Yes              15\n",
       "Yes              Yes            No                 No               15\n",
       "No               No             Yes                Yes              13\n",
       "Yes              No             Yes                No               13\n",
       "No               No             No                 Yes              11\n",
       "Yes              Yes            No                 Yes              11\n",
       "No               Yes            No                 Yes               6\n",
       "Yes              Yes            Yes                Yes               6\n",
       "                 No             No                 Yes               5\n",
       "                                Yes                Yes               4\n",
       "dtype: int64"
      ]
     },
     "execution_count": 517,
     "metadata": {},
     "output_type": "execute_result"
    }
   ],
   "source": [
    "fiber_non_streamers[internet_options].value_counts()"
   ]
  },
  {
   "cell_type": "markdown",
   "id": "c989ebb4-3509-446c-954d-4366db03ba8b",
   "metadata": {},
   "source": [
    "### Must make independent samples to compare churn rates between them. For simplicity and to ensure adequate sample size will consider only the following:\n",
    "    - Online backup only\n",
    "    - Device protection only"
   ]
  },
  {
   "cell_type": "code",
   "execution_count": 523,
   "id": "69a22cd2-2c4e-418e-946f-235df76d8b10",
   "metadata": {},
   "outputs": [
    {
     "name": "stdout",
     "output_type": "stream",
     "text": [
      "For online_backup 0.0011773125170673332 -3.0908592931031555\n",
      "For device_protection 0.0013755000813576806 -3.048838012954188\n"
     ]
    }
   ],
   "source": [
    "options = ['online_backup','device_protection']\n",
    "ts={}\n",
    "p_over_2s={}\n",
    "churn_rate = {}\n",
    "\n",
    "for option in options:\n",
    "    t, p = stats.ttest_1samp(fiber_non_streamers.churn[fiber_non_streamers[option] == 'Yes'], fiber_non_streamers.churn.mean())\n",
    "    print(f'For {option} {p/2} {t}')\n",
    "    \n",
    "    ts[option] = t\n",
    "    p_over_2s[option] = p/2\n",
    "    churn_rate[option] = (fiber_non_streamers.churn[fiber_non_streamers[option] == 'Yes]).mean()\n",
    "\n",
    "results = pd.DataFrame(data = [ts, p_over_2s,churn_rate], index= ['t','p_over_2','churn_rate']).T\n",
    "\n",
    "results['significantly_greater'] = (results.p_over_2<alpha) & (results.t>0)\n",
    "results['significantly_lower'] = (results.p_over_2<alpha) & (results.t<0)\n",
    "results['significant'] = (results.significantly_greater) | (results.significantly_lower)\n",
    "results = results.sort_values(by = 'churn_rate')"
   ]
  },
  {
   "cell_type": "code",
   "execution_count": 453,
   "id": "d5883c80-0319-40cb-b259-8e9c590e54e9",
   "metadata": {},
   "outputs": [
    {
     "data": {
      "text/plain": [
       "175"
      ]
     },
     "execution_count": 453,
     "metadata": {},
     "output_type": "execute_result"
    }
   ],
   "source": [
    "((fiber.tech_support == 'Yes')&(fiber.device_protection == 'No')).sum()"
   ]
  },
  {
   "cell_type": "markdown",
   "id": "3b1408ef-eb60-48e4-812f-b8d990f22ffc",
   "metadata": {
    "tags": []
   },
   "source": [
    "## Categorical variables"
   ]
  },
  {
   "cell_type": "markdown",
   "id": "1b6c60f8-5f0e-4df5-93b8-a89aa8f002af",
   "metadata": {},
   "source": [
    "### Takeaways:\n",
    "- Evenly distributed by gender and partner\n",
    "- Two broad categories lead to subcategories that would be worthwhile to look at individually:\n",
    "    - Phone service or not: \n",
    "        - Multiple lines\n",
    "    - Internet Service or not:\n",
    "        - online security\n",
    "        - online backup\n",
    "        - tech support\n",
    "        - device protection\n",
    "        - streaming tv\n",
    "        - streaming movies\n",
    "        - service type (DSL vs Fiber)\n",
    "     "
   ]
  },
  {
   "cell_type": "code",
   "execution_count": 19,
   "id": "b0413969-e391-46ef-945d-ba5cda327002",
   "metadata": {},
   "outputs": [],
   "source": [
    "target = 'churn'"
   ]
  },
  {
   "cell_type": "code",
   "execution_count": 12,
   "id": "c8595dce-6105-4c7a-9ffb-d8f18d85bdfd",
   "metadata": {},
   "outputs": [
    {
     "data": {
      "text/plain": [
       "Index(['gender', 'partner', 'dependents', 'phone_service', 'multiple_lines',\n",
       "       'online_security', 'online_backup', 'device_protection', 'tech_support',\n",
       "       'streaming_tv', 'streaming_movies', 'paperless_billing', 'churn',\n",
       "       'contract_type', 'internet_service_type', 'payment_type'],\n",
       "      dtype='object')"
      ]
     },
     "execution_count": 12,
     "metadata": {},
     "output_type": "execute_result"
    }
   ],
   "source": [
    "catcol"
   ]
  },
  {
   "cell_type": "code",
   "execution_count": 30,
   "id": "31eb4d34-4f2d-48c4-92c0-7e6a7b3c7478",
   "metadata": {},
   "outputs": [
    {
     "data": {
      "text/plain": [
       "5310    Yes\n",
       "3790    Yes\n",
       "4398    Yes\n",
       "2635     No\n",
       "2986    Yes\n",
       "       ... \n",
       "6230    Yes\n",
       "356      No\n",
       "2128    Yes\n",
       "3586     No\n",
       "6817    Yes\n",
       "Name: partner, Length: 3943, dtype: object"
      ]
     },
     "execution_count": 30,
     "metadata": {},
     "output_type": "execute_result"
    }
   ],
   "source": [
    "train['partner']"
   ]
  },
  {
   "cell_type": "code",
   "execution_count": null,
   "id": "355686bc-3b46-41b7-b976-5dafaba9f3ff",
   "metadata": {},
   "outputs": [],
   "source": []
  }
 ],
 "metadata": {
  "kernelspec": {
   "display_name": "Python 3.9.7 64-bit ('base': conda)",
   "language": "python",
   "name": "python397jvsc74a57bd038cca0c38332a56087b24af0bc80247f4fced29cb4f7f437d91dc159adec9c4e"
  },
  "language_info": {
   "codemirror_mode": {
    "name": "ipython",
    "version": 3
   },
   "file_extension": ".py",
   "mimetype": "text/x-python",
   "name": "python",
   "nbconvert_exporter": "python",
   "pygments_lexer": "ipython3",
   "version": "3.9.7"
  }
 },
 "nbformat": 4,
 "nbformat_minor": 5
}
