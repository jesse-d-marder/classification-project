{
 "cells": [
  {
   "cell_type": "code",
   "execution_count": 73,
   "id": "5eb7e8ce-4f58-46cd-87ba-c1614c41e4e8",
   "metadata": {},
   "outputs": [],
   "source": [
    "from acquire import get_telco_data\n",
    "from prepare import train_validate_test_split, prep_telco\n",
    "import pandas as pd\n",
    "import numpy as np\n",
    "import matplotlib.pyplot as plt\n",
    "import seaborn as sns\n",
    "from scipy import stats\n",
    "\n",
    "from sklearn.tree import DecisionTreeClassifier, plot_tree\n",
    "from sklearn.ensemble import RandomForestClassifier\n",
    "from sklearn.metrics import accuracy_score, classification_report, confusion_matrix\n",
    "from sklearn.neighbors import KNeighborsClassifier\n",
    "from sklearn.linear_model import LogisticRegression\n",
    "\n",
    "import warnings\n",
    "warnings.filterwarnings(\"ignore\")"
   ]
  },
  {
   "cell_type": "code",
   "execution_count": 74,
   "id": "0a70fbe3-d8de-463e-8b51-ab73ea9c4089",
   "metadata": {},
   "outputs": [
    {
     "name": "stdout",
     "output_type": "stream",
     "text": [
      "Using cached data\n"
     ]
    }
   ],
   "source": [
    "df = get_telco_data()"
   ]
  },
  {
   "cell_type": "code",
   "execution_count": 125,
   "id": "fe35531e-2268-499f-8763-9f26bbb154b7",
   "metadata": {},
   "outputs": [
    {
     "data": {
      "text/plain": [
       "Electronic check             2365\n",
       "Mailed check                 1604\n",
       "Bank transfer (automatic)    1542\n",
       "Credit card (automatic)      1521\n",
       "Name: payment_type, dtype: int64"
      ]
     },
     "execution_count": 125,
     "metadata": {},
     "output_type": "execute_result"
    }
   ],
   "source": [
    "df.payment_type.value_counts()"
   ]
  },
  {
   "cell_type": "markdown",
   "id": "807c2d17-2660-4b11-814e-cccd9c32d91c",
   "metadata": {
    "tags": []
   },
   "source": [
    "# Prepare Exploration (Pre-split)"
   ]
  },
  {
   "cell_type": "code",
   "execution_count": 75,
   "id": "d3bdc45d-d4d3-4ba2-82da-7478beb35454",
   "metadata": {},
   "outputs": [],
   "source": [
    "# # Initially drop redundant columns\n",
    "# df = df.drop(columns = ['payment_type_id','internet_service_type_id','contract_type_id'])\n",
    "\n",
    "# # From prior exploration of dataset a small number of the total_charges are just whitespace - these are all new customers who haven't been with the company for >1 month.\n",
    "# # Given that it is a very small proportion of the total dataset these rows will be deleted for ease of computation later on\n",
    "# (df == \" \").sum()\n",
    "\n",
    "# df = df.drop(df[df.total_charges == \" \"].index)\n",
    "\n",
    "# # Confirm no more blanks\n",
    "# (df == \" \").sum().sum()\n",
    "\n",
    "# # Confirm no nulls\n",
    "# (df.isna().sum()).sum()\n",
    "\n",
    "# # Convert total_charges to float for later analysis\n",
    "# df.total_charges = df.total_charges.astype('float64')\n",
    "\n",
    "# # Confirm dtypes\n",
    "# df.dtypes"
   ]
  },
  {
   "cell_type": "code",
   "execution_count": 76,
   "id": "0126b4dd-8dea-449d-ae59-4456bf3d9fb4",
   "metadata": {},
   "outputs": [],
   "source": [
    "# df = df.rename(columns={'senior_citizen':'is_senior_citizen'})\n",
    "# df.churn = df.churn.map({'Yes':1,'No':0})\n",
    "# df['is_male'] = df.gender.map({'Male':1,'Female':0})\n",
    "# df['has_phone'] = df.phone_service.map({'Yes':1,'No':0})\n",
    "# df['has_internet_service'] = df.internet_service_type.map({'Fiber optic':1,'DSL':1,'None':0})\n",
    "# df['has_partner']= df.partner.map({'Yes':1,'No':0})\n",
    "# df['has_dependent'] = df.dependents.map({'Yes':1,'No':0})\n",
    "# df['is_paperless'] = df.paperless_billing.map({'Yes':1,'No':0})\n",
    "# df['is_month_to_month'] = df.contract_type.map({'Two year':0,'One year':0, 'Month-to-month':1})\n",
    "# df['is_autopay'] = df.payment_type.map({'Electronic check': 0, 'Mailed check': 0, 'Bank transfer (automatic)':1, 'Credit card (automatic)': 1})\n",
    "# df['has_streaming'] = ((df.streaming_movies == 'Yes')|(df.streaming_tv == 'Yes'))"
   ]
  },
  {
   "cell_type": "code",
   "execution_count": 77,
   "id": "f3202c1f-2bea-41d3-b5fb-bc15984cead0",
   "metadata": {},
   "outputs": [],
   "source": [
    "# df.columns"
   ]
  },
  {
   "cell_type": "code",
   "execution_count": 78,
   "id": "05e7f975-a3c2-408b-ad4c-f8807882ba64",
   "metadata": {},
   "outputs": [],
   "source": [
    "# # Determine the categorical variables - here defined as object data type (non-numeric) and with fewer than 5 values\n",
    "# catcol = df.columns[(df.nunique()<5)&(df.dtypes == 'object')]\n",
    "# # Encode categoricals\n",
    "# dummy_df = pd.get_dummies(df[catcol], dummy_na=False, drop_first=True)\n",
    "# # Concatenate dummy df to original df\n",
    "# df = pd.concat([df,dummy_df],axis=1)\n",
    "# # Remove the original categorical columns after encoding\n",
    "# df = df.drop(columns=catcol)"
   ]
  },
  {
   "cell_type": "code",
   "execution_count": 79,
   "id": "1a9eb3e5-faf5-4010-97c4-886f41156bef",
   "metadata": {},
   "outputs": [],
   "source": [
    "df = prep_telco(df)"
   ]
  },
  {
   "cell_type": "markdown",
   "id": "b52692e3-6e5f-44cd-a067-ce8289f7b809",
   "metadata": {},
   "source": [
    "# Exploration (Post-split)"
   ]
  },
  {
   "cell_type": "markdown",
   "id": "df995b77-df66-4222-a5e1-f6afaf717a0f",
   "metadata": {},
   "source": [
    "### Question to explore:\n",
    "    - Do any groups churn at higher than the overall average rate? YES\n",
    "    - Do any groups churn at lower than the overall average rate? YES\n",
    "    - For the month to month plan - do churners pay more than non churners? YES\n",
    "    - Of the groups that churn at higher than overall average, do any particular sub groups churn higher? Internet customers - Fiber\n",
    "    - Within the sub groups do any specific options lead to higher churn? NO for fiber non streamer\n",
    "    \n",
    "    \n",
    "    - Which groups make the most money for the company? Any above the overall average?\n",
    "    - Do any of these groups align with the the groups that churn the most? With the least churn rate?\n",
    " \n",
    "    "
   ]
  },
  {
   "cell_type": "code",
   "execution_count": 80,
   "id": "83531997-db1d-445f-8ba6-21916044ac9d",
   "metadata": {},
   "outputs": [],
   "source": [
    "train, validate, test = train_validate_test_split(df, target = 'churn', seed =123)"
   ]
  },
  {
   "cell_type": "code",
   "execution_count": 81,
   "id": "573ab61d-252d-44b9-9737-bd3024f765fe",
   "metadata": {},
   "outputs": [
    {
     "data": {
      "text/plain": [
       "((3937, 26), (1688, 26), (1407, 26))"
      ]
     },
     "execution_count": 81,
     "metadata": {},
     "output_type": "execute_result"
    }
   ],
   "source": [
    "train.shape, validate.shape, test.shape"
   ]
  },
  {
   "cell_type": "code",
   "execution_count": 82,
   "id": "1b491684-4e04-4932-8465-99b145816051",
   "metadata": {},
   "outputs": [],
   "source": [
    "# Baseline churn rate\n",
    "baseline_churn = (train.churn == 1).mean()"
   ]
  },
  {
   "cell_type": "code",
   "execution_count": 83,
   "id": "39c2f11e-8671-4a47-8c05-23b983b36479",
   "metadata": {},
   "outputs": [
    {
     "name": "stdout",
     "output_type": "stream",
     "text": [
      "0.2656845313690627\n"
     ]
    }
   ],
   "source": [
    "print(baseline_churn)"
   ]
  },
  {
   "cell_type": "code",
   "execution_count": 84,
   "id": "cb83e722-9a59-4ea7-b8a4-cf67bc229cf3",
   "metadata": {},
   "outputs": [],
   "source": [
    "churn_df = pd.DataFrame({'Yes':train.churn.sum(),'No':(train.churn == 0).sum()}, index = ['Churn']).T"
   ]
  },
  {
   "cell_type": "code",
   "execution_count": 85,
   "id": "4be02aac-d14e-4e26-8c8c-60196a678ad5",
   "metadata": {},
   "outputs": [
    {
     "data": {
      "text/html": [
       "<div>\n",
       "<style scoped>\n",
       "    .dataframe tbody tr th:only-of-type {\n",
       "        vertical-align: middle;\n",
       "    }\n",
       "\n",
       "    .dataframe tbody tr th {\n",
       "        vertical-align: top;\n",
       "    }\n",
       "\n",
       "    .dataframe thead th {\n",
       "        text-align: right;\n",
       "    }\n",
       "</style>\n",
       "<table border=\"1\" class=\"dataframe\">\n",
       "  <thead>\n",
       "    <tr style=\"text-align: right;\">\n",
       "      <th></th>\n",
       "      <th>Churn</th>\n",
       "    </tr>\n",
       "  </thead>\n",
       "  <tbody>\n",
       "    <tr>\n",
       "      <th>Yes</th>\n",
       "      <td>1046</td>\n",
       "    </tr>\n",
       "    <tr>\n",
       "      <th>No</th>\n",
       "      <td>2891</td>\n",
       "    </tr>\n",
       "  </tbody>\n",
       "</table>\n",
       "</div>"
      ],
      "text/plain": [
       "     Churn\n",
       "Yes   1046\n",
       "No    2891"
      ]
     },
     "execution_count": 85,
     "metadata": {},
     "output_type": "execute_result"
    }
   ],
   "source": [
    "churn_df"
   ]
  },
  {
   "cell_type": "code",
   "execution_count": 86,
   "id": "dfc3db94-b0cd-4578-8995-23d6db15523b",
   "metadata": {},
   "outputs": [
    {
     "data": {
      "image/png": "[encoded data removed]",
      "text/plain": [
       "<Figure size 1008x648 with 1 Axes>"
      ]
     },
     "metadata": {},
     "output_type": "display_data"
    }
   ],
   "source": [
    "# Provide context of target variable through a visualization:\n",
    "plot = churn_df.plot.pie(y='Churn')"
   ]
  },
  {
   "cell_type": "code",
   "execution_count": 87,
   "id": "c8899bf2-5882-4006-b2cc-bb2f2dd7e51a",
   "metadata": {},
   "outputs": [
    {
     "data": {
      "text/plain": [
       "Index(['Yes', 'No'], dtype='object')"
      ]
     },
     "execution_count": 87,
     "metadata": {},
     "output_type": "execute_result"
    }
   ],
   "source": [
    "churn_df.index"
   ]
  },
  {
   "cell_type": "code",
   "execution_count": 90,
   "id": "f5851c63-8229-4b8e-adc5-76ab3808093e",
   "metadata": {},
   "outputs": [
    {
     "data": {
      "text/plain": [
       "([<matplotlib.patches.Wedge at 0x7ff07b3d9a60>,\n",
       "  <matplotlib.patches.Wedge at 0x7ff07b3eb430>],\n",
       " [Text(-0.8151844122535971, 0.7385623697554309, 'Yes'),\n",
       "  Text(0.8892920860948331, -0.805704403369561, 'No')],\n",
       " [Text(-0.4446460430474165, 0.4028522016847804, '26.6%'),\n",
       "  Text(0.5187537168886526, -0.4699942352989105, '73.4%')])"
      ]
     },
     "execution_count": 90,
     "metadata": {},
     "output_type": "execute_result"
    },
    {
     "data": {
      "image/png": "[encoded data removed]",
      "text/plain": [
       "<Figure size 1008x648 with 1 Axes>"
      ]
     },
     "metadata": {},
     "output_type": "display_data"
    }
   ],
   "source": [
    "labels = churn_df.index\n",
    "sizes = churn_df.Churn\n",
    "explode = (0, 0.1)\n",
    "fig1, ax1 = plt.subplots()\n",
    "ax1.pie(sizes, explode=explode, labels=labels, autopct='%1.1f%%',\n",
    "        shadow=True, startangle=90)\n",
    "# ax1.axis('equal') "
   ]
  },
  {
   "cell_type": "markdown",
   "id": "c83fbbc6-2d8c-45d9-a8f6-2531dd947649",
   "metadata": {
    "tags": []
   },
   "source": [
    "## Do any groups churn at rates significantly above or below the overall (baseline) mean?\n",
    "\n",
    "### Groups defined as:\n",
    "    - senior citizen\n",
    "    - male vs female\n",
    "    - partner vs no partner\n",
    "    - dependent vs no dependent\n",
    "    - Auto vs manual payers\n",
    "    - Paperless billing vs not\n",
    "    - Month to month vs long term\n",
    "    - Internet service or not\n",
    "    - Phone service or not\n",
    "\n",
    "    \n",
    "### Will perform chi square test\n",
    "#### Enough samples to assume normal distribution\n",
    "    "
   ]
  },
  {
   "cell_type": "code",
   "execution_count": 91,
   "id": "c3c9abd5-4dd0-4dda-9c3e-75962f903b24",
   "metadata": {},
   "outputs": [],
   "source": [
    "alpha = 0.05"
   ]
  },
  {
   "cell_type": "code",
   "execution_count": 92,
   "id": "460d4866-bee3-43cd-8f31-bba28a9c73e6",
   "metadata": {},
   "outputs": [
    {
     "data": {
      "text/plain": [
       "Index(['customer_id', 'is_senior_citizen', 'tenure', 'multiple_lines',\n",
       "       'online_security', 'online_backup', 'device_protection', 'tech_support',\n",
       "       'streaming_tv', 'streaming_movies', 'paperless_billing',\n",
       "       'monthly_charges', 'total_charges', 'churn', 'contract_type',\n",
       "       'internet_service_type', 'payment_type', 'is_male', 'has_phone',\n",
       "       'has_internet_service', 'has_partner', 'has_dependent', 'is_paperless',\n",
       "       'is_month_to_month', 'is_autopay', 'has_streaming'],\n",
       "      dtype='object')"
      ]
     },
     "execution_count": 92,
     "metadata": {},
     "output_type": "execute_result"
    }
   ],
   "source": [
    "train.columns"
   ]
  },
  {
   "cell_type": "code",
   "execution_count": 93,
   "id": "f97f0469-aabf-4cf0-b8a4-ce424bbca911",
   "metadata": {},
   "outputs": [
    {
     "name": "stdout",
     "output_type": "stream",
     "text": [
      "is_male\n",
      "We fail to reject the null hypothesis\n",
      "is_senior_citizen\n",
      "We reject the null hypothesis\n",
      "has_partner\n",
      "We reject the null hypothesis\n",
      "has_dependent\n",
      "We reject the null hypothesis\n",
      "is_paperless\n",
      "We reject the null hypothesis\n",
      "is_autopay\n",
      "We reject the null hypothesis\n",
      "is_month_to_month\n",
      "We reject the null hypothesis\n",
      "has_phone\n",
      "We fail to reject the null hypothesis\n",
      "has_internet_service\n",
      "We reject the null hypothesis\n",
      "has_streaming\n",
      "We reject the null hypothesis\n"
     ]
    }
   ],
   "source": [
    "groups = ['is_male', 'is_senior_citizen', 'has_partner', 'has_dependent', 'is_paperless','is_autopay','is_month_to_month','has_phone','has_internet_service','has_streaming']\n",
    "reject_null = []\n",
    "churn_rate=[]\n",
    "for group in groups:\n",
    "    observed = pd.crosstab(train.churn, train[group])\n",
    "    chi2, p, dof, expected = stats.chi2_contingency(observed)\n",
    "    print(group)\n",
    "    # print('Observed\\n')\n",
    "    # print(observed.values)\n",
    "    # print('---\\nExpected\\n')\n",
    "    # print(expected.astype(int))\n",
    "    # print('---\\n')\n",
    "    # print(f'chi^2 = {chi2:.4f}')\n",
    "    # print(f'p     = {p:.4f}')\n",
    "    if p < alpha:\n",
    "        print(\"We reject the null hypothesis\")\n",
    "    else:\n",
    "        print(\"We fail to reject the null hypothesis\")\n",
    "    churn_rate.append((train.churn[train[group] == 1]).mean())\n",
    "    reject_null.append(p<alpha)\n",
    "    \n",
    "results = pd.DataFrame(data = {'churn_rate':churn_rate,'reject_null':reject_null},index = groups)\n",
    "results = results.sort_values(by= 'churn_rate')\n",
    "        "
   ]
  },
  {
   "cell_type": "code",
   "execution_count": 94,
   "id": "415c75e3-2183-4abc-bcb4-493ccf0e8593",
   "metadata": {},
   "outputs": [
    {
     "data": {
      "text/html": [
       "<div>\n",
       "<style scoped>\n",
       "    .dataframe tbody tr th:only-of-type {\n",
       "        vertical-align: middle;\n",
       "    }\n",
       "\n",
       "    .dataframe tbody tr th {\n",
       "        vertical-align: top;\n",
       "    }\n",
       "\n",
       "    .dataframe thead th {\n",
       "        text-align: right;\n",
       "    }\n",
       "</style>\n",
       "<table border=\"1\" class=\"dataframe\">\n",
       "  <thead>\n",
       "    <tr style=\"text-align: right;\">\n",
       "      <th></th>\n",
       "      <th>churn_rate</th>\n",
       "      <th>reject_null</th>\n",
       "    </tr>\n",
       "  </thead>\n",
       "  <tbody>\n",
       "    <tr>\n",
       "      <th>has_dependent</th>\n",
       "      <td>0.156040</td>\n",
       "      <td>True</td>\n",
       "    </tr>\n",
       "    <tr>\n",
       "      <th>is_autopay</th>\n",
       "      <td>0.167331</td>\n",
       "      <td>True</td>\n",
       "    </tr>\n",
       "    <tr>\n",
       "      <th>has_partner</th>\n",
       "      <td>0.200524</td>\n",
       "      <td>True</td>\n",
       "    </tr>\n",
       "    <tr>\n",
       "      <th>is_male</th>\n",
       "      <td>0.265688</td>\n",
       "      <td>False</td>\n",
       "    </tr>\n",
       "    <tr>\n",
       "      <th>has_phone</th>\n",
       "      <td>0.267957</td>\n",
       "      <td>False</td>\n",
       "    </tr>\n",
       "    <tr>\n",
       "      <th>has_streaming</th>\n",
       "      <td>0.295408</td>\n",
       "      <td>True</td>\n",
       "    </tr>\n",
       "    <tr>\n",
       "      <th>has_internet_service</th>\n",
       "      <td>0.319870</td>\n",
       "      <td>True</td>\n",
       "    </tr>\n",
       "    <tr>\n",
       "      <th>is_paperless</th>\n",
       "      <td>0.335628</td>\n",
       "      <td>True</td>\n",
       "    </tr>\n",
       "    <tr>\n",
       "      <th>is_senior_citizen</th>\n",
       "      <td>0.426772</td>\n",
       "      <td>True</td>\n",
       "    </tr>\n",
       "    <tr>\n",
       "      <th>is_month_to_month</th>\n",
       "      <td>0.428176</td>\n",
       "      <td>True</td>\n",
       "    </tr>\n",
       "  </tbody>\n",
       "</table>\n",
       "</div>"
      ],
      "text/plain": [
       "                      churn_rate  reject_null\n",
       "has_dependent           0.156040         True\n",
       "is_autopay              0.167331         True\n",
       "has_partner             0.200524         True\n",
       "is_male                 0.265688        False\n",
       "has_phone               0.267957        False\n",
       "has_streaming           0.295408         True\n",
       "has_internet_service    0.319870         True\n",
       "is_paperless            0.335628         True\n",
       "is_senior_citizen       0.426772         True\n",
       "is_month_to_month       0.428176         True"
      ]
     },
     "execution_count": 94,
     "metadata": {},
     "output_type": "execute_result"
    }
   ],
   "source": [
    "results"
   ]
  },
  {
   "cell_type": "code",
   "execution_count": 95,
   "id": "27ee1a4f-97ad-4c9f-a291-fcbf9e90d9d3",
   "metadata": {},
   "outputs": [
    {
     "data": {
      "text/plain": [
       "<matplotlib.lines.Line2D at 0x7ff06b628340>"
      ]
     },
     "execution_count": 95,
     "metadata": {},
     "output_type": "execute_result"
    },
    {
     "data": {
      "image/png": "[encoded data removed]",
      "text/plain": [
       "<Figure size 1008x648 with 1 Axes>"
      ]
     },
     "metadata": {},
     "output_type": "display_data"
    }
   ],
   "source": [
    "sns.set(rc={'figure.figsize':(14,9)})\n",
    "sns.barplot(data = results, x = results.index ,y = 'churn_rate', hue = 'reject_null')\n",
    "plt.tight_layout()\n",
    "plt.title('Churn Rates by Group - Chi Squared results\\nGreen line shows overall churn rate')\n",
    "plt.axhline(y=baseline_churn, color = 'green')\n",
    "# plt.bar_label(splot.containers[0])"
   ]
  },
  {
   "cell_type": "markdown",
   "id": "74d71306-44ab-4ccd-8e52-b60f5b60df36",
   "metadata": {},
   "source": [
    "## Four groups churn at rates significantly higher than the overall mean:\n",
    "    - Senior citizens: 43%\n",
    "    - Paperless billing: 34%\n",
    "    - Month to Month: 43%\n",
    "    - Those with internet service: 32%"
   ]
  },
  {
   "cell_type": "markdown",
   "id": "98127004-4ca5-4d9c-ad74-daeb8b684e49",
   "metadata": {},
   "source": [
    "## Three groups churn at rates significantly below the overall mean:\n",
    "    - With dependents\n",
    "    - Autopayers\n",
    "    - With partners"
   ]
  },
  {
   "cell_type": "markdown",
   "id": "a12e05b0-a606-408e-93a8-e163109160f1",
   "metadata": {},
   "source": [
    "# Do the churners on the month to month plan pay higher per month on average than those who don't churn on month to month?\n",
    "### Perform independent t test 2 sample"
   ]
  },
  {
   "cell_type": "markdown",
   "id": "bd7f3c7c-b085-4240-bc39-4d71d998262d",
   "metadata": {},
   "source": [
    "- $H_0$ Those who churn on month to month plan pay the same or less as those who don't churn on month to month\n",
    "- $H_a$ Those who churn on month to month plan pay more than those who don't churn"
   ]
  },
  {
   "cell_type": "code",
   "execution_count": 97,
   "id": "3dd24545-f9cc-4336-b437-75fc89ade702",
   "metadata": {},
   "outputs": [
    {
     "data": {
      "text/html": [
       "<div>\n",
       "<style scoped>\n",
       "    .dataframe tbody tr th:only-of-type {\n",
       "        vertical-align: middle;\n",
       "    }\n",
       "\n",
       "    .dataframe tbody tr th {\n",
       "        vertical-align: top;\n",
       "    }\n",
       "\n",
       "    .dataframe thead th {\n",
       "        text-align: right;\n",
       "    }\n",
       "</style>\n",
       "<table border=\"1\" class=\"dataframe\">\n",
       "  <thead>\n",
       "    <tr style=\"text-align: right;\">\n",
       "      <th></th>\n",
       "      <th>customer_id</th>\n",
       "      <th>is_senior_citizen</th>\n",
       "      <th>tenure</th>\n",
       "      <th>multiple_lines</th>\n",
       "      <th>online_security</th>\n",
       "      <th>online_backup</th>\n",
       "      <th>device_protection</th>\n",
       "      <th>tech_support</th>\n",
       "      <th>streaming_tv</th>\n",
       "      <th>streaming_movies</th>\n",
       "      <th>...</th>\n",
       "      <th>payment_type</th>\n",
       "      <th>is_male</th>\n",
       "      <th>has_phone</th>\n",
       "      <th>has_internet_service</th>\n",
       "      <th>has_partner</th>\n",
       "      <th>has_dependent</th>\n",
       "      <th>is_paperless</th>\n",
       "      <th>is_month_to_month</th>\n",
       "      <th>is_autopay</th>\n",
       "      <th>has_streaming</th>\n",
       "    </tr>\n",
       "  </thead>\n",
       "  <tbody>\n",
       "    <tr>\n",
       "      <th>5054</th>\n",
       "      <td>7107-UBYKY</td>\n",
       "      <td>0</td>\n",
       "      <td>35</td>\n",
       "      <td>Yes</td>\n",
       "      <td>No internet service</td>\n",
       "      <td>No internet service</td>\n",
       "      <td>No internet service</td>\n",
       "      <td>No internet service</td>\n",
       "      <td>No internet service</td>\n",
       "      <td>No internet service</td>\n",
       "      <td>...</td>\n",
       "      <td>Electronic check</td>\n",
       "      <td>0</td>\n",
       "      <td>1</td>\n",
       "      <td>0</td>\n",
       "      <td>1</td>\n",
       "      <td>1</td>\n",
       "      <td>1</td>\n",
       "      <td>1</td>\n",
       "      <td>0</td>\n",
       "      <td>False</td>\n",
       "    </tr>\n",
       "    <tr>\n",
       "      <th>2355</th>\n",
       "      <td>3373-YZZYM</td>\n",
       "      <td>0</td>\n",
       "      <td>1</td>\n",
       "      <td>No</td>\n",
       "      <td>No internet service</td>\n",
       "      <td>No internet service</td>\n",
       "      <td>No internet service</td>\n",
       "      <td>No internet service</td>\n",
       "      <td>No internet service</td>\n",
       "      <td>No internet service</td>\n",
       "      <td>...</td>\n",
       "      <td>Mailed check</td>\n",
       "      <td>1</td>\n",
       "      <td>1</td>\n",
       "      <td>0</td>\n",
       "      <td>1</td>\n",
       "      <td>1</td>\n",
       "      <td>0</td>\n",
       "      <td>1</td>\n",
       "      <td>0</td>\n",
       "      <td>False</td>\n",
       "    </tr>\n",
       "    <tr>\n",
       "      <th>6992</th>\n",
       "      <td>9921-ZVRHG</td>\n",
       "      <td>0</td>\n",
       "      <td>14</td>\n",
       "      <td>Yes</td>\n",
       "      <td>No</td>\n",
       "      <td>No</td>\n",
       "      <td>Yes</td>\n",
       "      <td>No</td>\n",
       "      <td>No</td>\n",
       "      <td>No</td>\n",
       "      <td>...</td>\n",
       "      <td>Electronic check</td>\n",
       "      <td>0</td>\n",
       "      <td>1</td>\n",
       "      <td>1</td>\n",
       "      <td>0</td>\n",
       "      <td>0</td>\n",
       "      <td>1</td>\n",
       "      <td>1</td>\n",
       "      <td>0</td>\n",
       "      <td>False</td>\n",
       "    </tr>\n",
       "    <tr>\n",
       "      <th>4352</th>\n",
       "      <td>6135-OZQVA</td>\n",
       "      <td>0</td>\n",
       "      <td>7</td>\n",
       "      <td>Yes</td>\n",
       "      <td>Yes</td>\n",
       "      <td>No</td>\n",
       "      <td>No</td>\n",
       "      <td>No</td>\n",
       "      <td>No</td>\n",
       "      <td>No</td>\n",
       "      <td>...</td>\n",
       "      <td>Electronic check</td>\n",
       "      <td>0</td>\n",
       "      <td>1</td>\n",
       "      <td>1</td>\n",
       "      <td>0</td>\n",
       "      <td>0</td>\n",
       "      <td>1</td>\n",
       "      <td>1</td>\n",
       "      <td>0</td>\n",
       "      <td>False</td>\n",
       "    </tr>\n",
       "    <tr>\n",
       "      <th>6845</th>\n",
       "      <td>9722-UJOJR</td>\n",
       "      <td>0</td>\n",
       "      <td>29</td>\n",
       "      <td>No</td>\n",
       "      <td>No</td>\n",
       "      <td>No</td>\n",
       "      <td>No</td>\n",
       "      <td>No</td>\n",
       "      <td>No</td>\n",
       "      <td>No</td>\n",
       "      <td>...</td>\n",
       "      <td>Electronic check</td>\n",
       "      <td>1</td>\n",
       "      <td>1</td>\n",
       "      <td>1</td>\n",
       "      <td>1</td>\n",
       "      <td>1</td>\n",
       "      <td>1</td>\n",
       "      <td>1</td>\n",
       "      <td>0</td>\n",
       "      <td>False</td>\n",
       "    </tr>\n",
       "    <tr>\n",
       "      <th>...</th>\n",
       "      <td>...</td>\n",
       "      <td>...</td>\n",
       "      <td>...</td>\n",
       "      <td>...</td>\n",
       "      <td>...</td>\n",
       "      <td>...</td>\n",
       "      <td>...</td>\n",
       "      <td>...</td>\n",
       "      <td>...</td>\n",
       "      <td>...</td>\n",
       "      <td>...</td>\n",
       "      <td>...</td>\n",
       "      <td>...</td>\n",
       "      <td>...</td>\n",
       "      <td>...</td>\n",
       "      <td>...</td>\n",
       "      <td>...</td>\n",
       "      <td>...</td>\n",
       "      <td>...</td>\n",
       "      <td>...</td>\n",
       "      <td>...</td>\n",
       "    </tr>\n",
       "    <tr>\n",
       "      <th>4561</th>\n",
       "      <td>6429-SHBCB</td>\n",
       "      <td>0</td>\n",
       "      <td>19</td>\n",
       "      <td>Yes</td>\n",
       "      <td>No</td>\n",
       "      <td>No</td>\n",
       "      <td>No</td>\n",
       "      <td>No</td>\n",
       "      <td>Yes</td>\n",
       "      <td>Yes</td>\n",
       "      <td>...</td>\n",
       "      <td>Mailed check</td>\n",
       "      <td>1</td>\n",
       "      <td>1</td>\n",
       "      <td>1</td>\n",
       "      <td>0</td>\n",
       "      <td>0</td>\n",
       "      <td>0</td>\n",
       "      <td>1</td>\n",
       "      <td>0</td>\n",
       "      <td>True</td>\n",
       "    </tr>\n",
       "    <tr>\n",
       "      <th>394</th>\n",
       "      <td>0581-MDMPW</td>\n",
       "      <td>0</td>\n",
       "      <td>24</td>\n",
       "      <td>Yes</td>\n",
       "      <td>No</td>\n",
       "      <td>No</td>\n",
       "      <td>Yes</td>\n",
       "      <td>No</td>\n",
       "      <td>Yes</td>\n",
       "      <td>No</td>\n",
       "      <td>...</td>\n",
       "      <td>Credit card (automatic)</td>\n",
       "      <td>0</td>\n",
       "      <td>1</td>\n",
       "      <td>1</td>\n",
       "      <td>0</td>\n",
       "      <td>0</td>\n",
       "      <td>1</td>\n",
       "      <td>1</td>\n",
       "      <td>1</td>\n",
       "      <td>True</td>\n",
       "    </tr>\n",
       "    <tr>\n",
       "      <th>3763</th>\n",
       "      <td>5299-RULOA</td>\n",
       "      <td>0</td>\n",
       "      <td>10</td>\n",
       "      <td>Yes</td>\n",
       "      <td>Yes</td>\n",
       "      <td>No</td>\n",
       "      <td>No</td>\n",
       "      <td>No</td>\n",
       "      <td>Yes</td>\n",
       "      <td>Yes</td>\n",
       "      <td>...</td>\n",
       "      <td>Electronic check</td>\n",
       "      <td>0</td>\n",
       "      <td>1</td>\n",
       "      <td>1</td>\n",
       "      <td>1</td>\n",
       "      <td>1</td>\n",
       "      <td>1</td>\n",
       "      <td>1</td>\n",
       "      <td>0</td>\n",
       "      <td>True</td>\n",
       "    </tr>\n",
       "    <tr>\n",
       "      <th>1002</th>\n",
       "      <td>1452-KIOVK</td>\n",
       "      <td>0</td>\n",
       "      <td>22</td>\n",
       "      <td>Yes</td>\n",
       "      <td>No</td>\n",
       "      <td>Yes</td>\n",
       "      <td>No</td>\n",
       "      <td>No</td>\n",
       "      <td>Yes</td>\n",
       "      <td>No</td>\n",
       "      <td>...</td>\n",
       "      <td>Credit card (automatic)</td>\n",
       "      <td>1</td>\n",
       "      <td>1</td>\n",
       "      <td>1</td>\n",
       "      <td>0</td>\n",
       "      <td>1</td>\n",
       "      <td>1</td>\n",
       "      <td>1</td>\n",
       "      <td>1</td>\n",
       "      <td>True</td>\n",
       "    </tr>\n",
       "    <tr>\n",
       "      <th>4192</th>\n",
       "      <td>5919-VCZYM</td>\n",
       "      <td>0</td>\n",
       "      <td>2</td>\n",
       "      <td>No</td>\n",
       "      <td>No internet service</td>\n",
       "      <td>No internet service</td>\n",
       "      <td>No internet service</td>\n",
       "      <td>No internet service</td>\n",
       "      <td>No internet service</td>\n",
       "      <td>No internet service</td>\n",
       "      <td>...</td>\n",
       "      <td>Mailed check</td>\n",
       "      <td>1</td>\n",
       "      <td>1</td>\n",
       "      <td>0</td>\n",
       "      <td>0</td>\n",
       "      <td>0</td>\n",
       "      <td>0</td>\n",
       "      <td>1</td>\n",
       "      <td>0</td>\n",
       "      <td>False</td>\n",
       "    </tr>\n",
       "  </tbody>\n",
       "</table>\n",
       "<p>2165 rows × 26 columns</p>\n",
       "</div>"
      ],
      "text/plain": [
       "     customer_id  is_senior_citizen  tenure multiple_lines  \\\n",
       "5054  7107-UBYKY                  0      35            Yes   \n",
       "2355  3373-YZZYM                  0       1             No   \n",
       "6992  9921-ZVRHG                  0      14            Yes   \n",
       "4352  6135-OZQVA                  0       7            Yes   \n",
       "6845  9722-UJOJR                  0      29             No   \n",
       "...          ...                ...     ...            ...   \n",
       "4561  6429-SHBCB                  0      19            Yes   \n",
       "394   0581-MDMPW                  0      24            Yes   \n",
       "3763  5299-RULOA                  0      10            Yes   \n",
       "1002  1452-KIOVK                  0      22            Yes   \n",
       "4192  5919-VCZYM                  0       2             No   \n",
       "\n",
       "          online_security        online_backup    device_protection  \\\n",
       "5054  No internet service  No internet service  No internet service   \n",
       "2355  No internet service  No internet service  No internet service   \n",
       "6992                   No                   No                  Yes   \n",
       "4352                  Yes                   No                   No   \n",
       "6845                   No                   No                   No   \n",
       "...                   ...                  ...                  ...   \n",
       "4561                   No                   No                   No   \n",
       "394                    No                   No                  Yes   \n",
       "3763                  Yes                   No                   No   \n",
       "1002                   No                  Yes                   No   \n",
       "4192  No internet service  No internet service  No internet service   \n",
       "\n",
       "             tech_support         streaming_tv     streaming_movies  ...  \\\n",
       "5054  No internet service  No internet service  No internet service  ...   \n",
       "2355  No internet service  No internet service  No internet service  ...   \n",
       "6992                   No                   No                   No  ...   \n",
       "4352                   No                   No                   No  ...   \n",
       "6845                   No                   No                   No  ...   \n",
       "...                   ...                  ...                  ...  ...   \n",
       "4561                   No                  Yes                  Yes  ...   \n",
       "394                    No                  Yes                   No  ...   \n",
       "3763                   No                  Yes                  Yes  ...   \n",
       "1002                   No                  Yes                   No  ...   \n",
       "4192  No internet service  No internet service  No internet service  ...   \n",
       "\n",
       "                 payment_type  is_male  has_phone  has_internet_service  \\\n",
       "5054         Electronic check        0          1                     0   \n",
       "2355             Mailed check        1          1                     0   \n",
       "6992         Electronic check        0          1                     1   \n",
       "4352         Electronic check        0          1                     1   \n",
       "6845         Electronic check        1          1                     1   \n",
       "...                       ...      ...        ...                   ...   \n",
       "4561             Mailed check        1          1                     1   \n",
       "394   Credit card (automatic)        0          1                     1   \n",
       "3763         Electronic check        0          1                     1   \n",
       "1002  Credit card (automatic)        1          1                     1   \n",
       "4192             Mailed check        1          1                     0   \n",
       "\n",
       "     has_partner has_dependent is_paperless  is_month_to_month  is_autopay  \\\n",
       "5054           1             1            1                  1           0   \n",
       "2355           1             1            0                  1           0   \n",
       "6992           0             0            1                  1           0   \n",
       "4352           0             0            1                  1           0   \n",
       "6845           1             1            1                  1           0   \n",
       "...          ...           ...          ...                ...         ...   \n",
       "4561           0             0            0                  1           0   \n",
       "394            0             0            1                  1           1   \n",
       "3763           1             1            1                  1           0   \n",
       "1002           0             1            1                  1           1   \n",
       "4192           0             0            0                  1           0   \n",
       "\n",
       "      has_streaming  \n",
       "5054          False  \n",
       "2355          False  \n",
       "6992          False  \n",
       "4352          False  \n",
       "6845          False  \n",
       "...             ...  \n",
       "4561           True  \n",
       "394            True  \n",
       "3763           True  \n",
       "1002           True  \n",
       "4192          False  \n",
       "\n",
       "[2165 rows x 26 columns]"
      ]
     },
     "execution_count": 97,
     "metadata": {},
     "output_type": "execute_result"
    }
   ],
   "source": [
    "train[train.is_month_to_month==1]"
   ]
  },
  {
   "cell_type": "code",
   "execution_count": 115,
   "id": "0b425aea-f498-4f97-89d7-d41cf0996aba",
   "metadata": {},
   "outputs": [],
   "source": [
    "month_to_month = train[train.is_month_to_month==1]\n",
    "churn_sample = month_to_month[month_to_month.churn == 1].monthly_charges\n",
    "non_churn_sample = month_to_month[month_to_month.churn == 0].monthly_charges"
   ]
  },
  {
   "cell_type": "code",
   "execution_count": 116,
   "id": "b5b59f9e-edbe-4a6a-a002-683d5cc53a61",
   "metadata": {},
   "outputs": [],
   "source": [
    "# check for equal variances\n",
    "t, p = stats.levene(churn_sample, non_churn_sample)"
   ]
  },
  {
   "cell_type": "code",
   "execution_count": 117,
   "id": "390c887f-f348-421d-bafa-c6894a302080",
   "metadata": {},
   "outputs": [
    {
     "data": {
      "text/plain": [
       "(86.0603459327302, 4.09717334487726e-20)"
      ]
     },
     "execution_count": 117,
     "metadata": {},
     "output_type": "execute_result"
    }
   ],
   "source": [
    "t, p"
   ]
  },
  {
   "cell_type": "code",
   "execution_count": 118,
   "id": "33cb516a-de45-41a7-9323-5817692cf582",
   "metadata": {},
   "outputs": [],
   "source": [
    "t, p = stats.ttest_ind(churn_sample, non_churn_sample, equal_var=False)"
   ]
  },
  {
   "cell_type": "code",
   "execution_count": 119,
   "id": "f98474d7-50a1-492c-944d-a0f11bc30360",
   "metadata": {},
   "outputs": [
    {
     "data": {
      "text/plain": [
       "(11.098473710039949, 7.272957354190089e-28)"
      ]
     },
     "execution_count": 119,
     "metadata": {},
     "output_type": "execute_result"
    }
   ],
   "source": [
    "t,p"
   ]
  },
  {
   "cell_type": "code",
   "execution_count": 120,
   "id": "2579aeb6-a6bf-44df-b4ec-4dcc843b1bd6",
   "metadata": {},
   "outputs": [
    {
     "data": {
      "text/plain": [
       "True"
      ]
     },
     "execution_count": 120,
     "metadata": {},
     "output_type": "execute_result"
    }
   ],
   "source": [
    "p<alpha"
   ]
  },
  {
   "cell_type": "code",
   "execution_count": 121,
   "id": "71f9275f-93b0-4bc5-9b9c-6329c676b32d",
   "metadata": {},
   "outputs": [
    {
     "data": {
      "text/plain": [
       "True"
      ]
     },
     "execution_count": 121,
     "metadata": {},
     "output_type": "execute_result"
    }
   ],
   "source": [
    "t>0"
   ]
  },
  {
   "cell_type": "code",
   "execution_count": 122,
   "id": "173d4ae4-c861-489d-a72a-8f3c194d4e31",
   "metadata": {},
   "outputs": [
    {
     "data": {
      "text/plain": [
       "Text(0, 0.5, 'Average monthly charge ($)')"
      ]
     },
     "execution_count": 122,
     "metadata": {},
     "output_type": "execute_result"
    },
    {
     "data": {
      "image/png": "[encoded data removed]",
      "text/plain": [
       "<Figure size 1008x648 with 1 Axes>"
      ]
     },
     "metadata": {},
     "output_type": "display_data"
    }
   ],
   "source": [
    "plt.bar(x=['Churn','Non-churn'], height =[churn_sample.mean(),non_churn_sample.mean()])\n",
    "plt.title('Average monthly charge for churners vs non churners on month to month plan')\n",
    "plt.axhline(train.monthly_charges.mean(), color = 'green')\n",
    "plt.ylabel('Average monthly charge ($)')"
   ]
  },
  {
   "cell_type": "markdown",
   "id": "81dc9b78-ec99-42a5-9448-0befbda8582b",
   "metadata": {},
   "source": [
    "## Churners on month to month pay more than non churners"
   ]
  },
  {
   "cell_type": "markdown",
   "id": "17f37a1c-5eb3-4f22-9599-e34d3b225fc2",
   "metadata": {
    "tags": []
   },
   "source": [
    "# Of the groups that churn at higher than overall average, do any particular sub groups churn higher? Chi Square test\n",
    "    - Focus on internet customers: Fiber vs DSL"
   ]
  },
  {
   "cell_type": "code",
   "execution_count": 28,
   "id": "fe2c8f16-abb7-49fb-a51d-c425808924a1",
   "metadata": {},
   "outputs": [
    {
     "data": {
      "text/html": [
       "<div>\n",
       "<style scoped>\n",
       "    .dataframe tbody tr th:only-of-type {\n",
       "        vertical-align: middle;\n",
       "    }\n",
       "\n",
       "    .dataframe tbody tr th {\n",
       "        vertical-align: top;\n",
       "    }\n",
       "\n",
       "    .dataframe thead th {\n",
       "        text-align: right;\n",
       "    }\n",
       "</style>\n",
       "<table border=\"1\" class=\"dataframe\">\n",
       "  <thead>\n",
       "    <tr style=\"text-align: right;\">\n",
       "      <th>internet_service_type</th>\n",
       "      <th>DSL</th>\n",
       "      <th>Fiber optic</th>\n",
       "    </tr>\n",
       "    <tr>\n",
       "      <th>churn</th>\n",
       "      <th></th>\n",
       "      <th></th>\n",
       "    </tr>\n",
       "  </thead>\n",
       "  <tbody>\n",
       "    <tr>\n",
       "      <th>0</th>\n",
       "      <td>1101</td>\n",
       "      <td>987</td>\n",
       "    </tr>\n",
       "    <tr>\n",
       "      <th>1</th>\n",
       "      <td>247</td>\n",
       "      <td>735</td>\n",
       "    </tr>\n",
       "  </tbody>\n",
       "</table>\n",
       "</div>"
      ],
      "text/plain": [
       "internet_service_type   DSL  Fiber optic\n",
       "churn                                   \n",
       "0                      1101          987\n",
       "1                       247          735"
      ]
     },
     "execution_count": 28,
     "metadata": {},
     "output_type": "execute_result"
    }
   ],
   "source": [
    "# DF of just internet customers from train\n",
    "internet = train[train.has_internet_service == 1]\n",
    "\n",
    "observed = pd.crosstab(internet.churn, internet.internet_service_type)\n",
    "\n",
    "observed"
   ]
  },
  {
   "cell_type": "code",
   "execution_count": 29,
   "id": "25e06991-7249-4c67-aad7-758adcc87278",
   "metadata": {},
   "outputs": [],
   "source": [
    "chi2, p, dof, expected = stats.chi2_contingency(observed)"
   ]
  },
  {
   "cell_type": "code",
   "execution_count": 30,
   "id": "928d2b00-c90d-48cc-9fa5-61e96491a622",
   "metadata": {},
   "outputs": [
    {
     "name": "stdout",
     "output_type": "stream",
     "text": [
      "Observed\n",
      "\n",
      "[[1101  987]\n",
      " [ 247  735]]\n",
      "---\n",
      "Expected\n",
      "\n",
      "[[ 916 1171]\n",
      " [ 431  550]]\n",
      "---\n",
      "\n",
      "chi^2 = 205.1136\n",
      "p     = 0.0000\n",
      "We reject the null hypothesis\n"
     ]
    }
   ],
   "source": [
    "print('Observed\\n')\n",
    "print(observed.values)\n",
    "print('---\\nExpected\\n')\n",
    "print(expected.astype(int))\n",
    "print('---\\n')\n",
    "print(f'chi^2 = {chi2:.4f}')\n",
    "print(f'p     = {p:.4f}')\n",
    "if p < alpha:\n",
    "    print(\"We reject the null hypothesis\")\n",
    "else:\n",
    "    print(\"We fail to reject the null hypothesis\")"
   ]
  },
  {
   "cell_type": "code",
   "execution_count": 31,
   "id": "b6128a55-e873-4f2d-9021-932cc013bbd0",
   "metadata": {},
   "outputs": [
    {
     "data": {
      "text/plain": [
       "(0.31986970684039084,\n",
       " 0.3198697068403909,\n",
       " 0.18323442136498516,\n",
       " 0.4268292682926829)"
      ]
     },
     "execution_count": 31,
     "metadata": {},
     "output_type": "execute_result"
    }
   ],
   "source": [
    "\n",
    "expected_df = pd.DataFrame(expected,index=[0,1], columns=['DSL','Fiber optic'])\n",
    "expected_dsl_churn = expected_df['DSL'].iloc[1]/expected_df['DSL'].sum()\n",
    "expected_fiber_churn = expected_df['Fiber optic'].iloc[1]/expected_df['Fiber optic'].sum()\n",
    "observed_dsl_churn = observed['DSL'].iloc[1]/observed['DSL'].sum()\n",
    "observed_fiber_churn = observed['Fiber optic'].iloc[1]/observed['Fiber optic'].sum()\n",
    "\n",
    "expected_dsl_churn, expected_fiber_churn, observed_dsl_churn, observed_fiber_churn"
   ]
  },
  {
   "cell_type": "markdown",
   "id": "8b368203-ef4f-4391-b823-a4285ff103f0",
   "metadata": {
    "tags": []
   },
   "source": [
    "### Churn and the type of internet service are not independent.\n",
    "### We expect the following churn %:\n",
    "    - DSL: 432/(432+917) = 32%\n",
    "    - Fiber: 551/(551+1171) = 32 %\n",
    "### Actual churn %:\n",
    "    - DSL: 247/(247+1101) = 14%\n",
    "    - Fiber: 735/(735+987) = 42%\n",
    "    "
   ]
  },
  {
   "cell_type": "markdown",
   "id": "270668e7-61dc-4538-bbec-53168f79cd7f",
   "metadata": {
    "tags": []
   },
   "source": [
    "# Fiber customers churn 10% higher than expected"
   ]
  },
  {
   "cell_type": "code",
   "execution_count": 32,
   "id": "0ed3a126-6048-4dfa-a73b-71e462962fde",
   "metadata": {},
   "outputs": [
    {
     "data": {
      "text/plain": [
       "<AxesSubplot:xlabel='internet_service_type'>"
      ]
     },
     "execution_count": 32,
     "metadata": {},
     "output_type": "execute_result"
    },
    {
     "data": {
      "image/png": "[encoded data removed]",
      "text/plain": [
       "<Figure size 1008x648 with 2 Axes>"
      ]
     },
     "metadata": {},
     "output_type": "display_data"
    }
   ],
   "source": [
    "observed.index.name=\"\"\n",
    "expected_df = pd.DataFrame(expected,index=[0,1], columns=['DSL','Fiber optic'])\n",
    "observed - expected_df\n",
    "sns.heatmap(data = observed-expected_df, yticklabels=['No churn','Churn'])"
   ]
  },
  {
   "cell_type": "markdown",
   "id": "dbe28cf3-7d2f-435a-bbbe-85fb0b8a7fcc",
   "metadata": {},
   "source": [
    "### Within fiber customers - is there a particular option that is resulting in greater or less churn?"
   ]
  },
  {
   "cell_type": "markdown",
   "id": "6a4809c8-a78e-4456-b346-e410ae5ae158",
   "metadata": {},
   "source": [
    "#### Looking at the internet service group, there are several options:\n",
    "    - Streaming TV\n",
    "    - Streaming movies\n",
    "    - Tech support\n",
    "    - Online security\n",
    "    - Device protection\n",
    "    - Online backup\n",
    "### Is whether a fiber customer churns independent of the options he or she has?"
   ]
  },
  {
   "cell_type": "code",
   "execution_count": 33,
   "id": "1fcc4d79-3d72-4fbb-8e42-48b95732615e",
   "metadata": {},
   "outputs": [],
   "source": [
    "# create df of train customers who are fiber internet\n",
    "fiber = train[train.internet_service_type == 'Fiber optic']"
   ]
  },
  {
   "cell_type": "code",
   "execution_count": 34,
   "id": "679dafcf-d377-4484-ba9f-1ee7bb5fc199",
   "metadata": {},
   "outputs": [
    {
     "data": {
      "text/plain": [
       "(1722, 26)"
      ]
     },
     "execution_count": 34,
     "metadata": {},
     "output_type": "execute_result"
    }
   ],
   "source": [
    "# plenty of samples\n",
    "fiber.shape"
   ]
  },
  {
   "cell_type": "code",
   "execution_count": 35,
   "id": "00908bd5-8e23-478b-82f8-72125d95e2b3",
   "metadata": {},
   "outputs": [
    {
     "data": {
      "text/plain": [
       "Index(['customer_id', 'is_senior_citizen', 'tenure', 'multiple_lines',\n",
       "       'online_security', 'online_backup', 'device_protection', 'tech_support',\n",
       "       'streaming_tv', 'streaming_movies', 'paperless_billing',\n",
       "       'monthly_charges', 'total_charges', 'churn', 'contract_type',\n",
       "       'internet_service_type', 'payment_type', 'is_male', 'has_phone',\n",
       "       'has_internet_service', 'has_partner', 'has_dependent', 'is_paperless',\n",
       "       'is_month_to_month', 'is_autopay', 'has_streaming'],\n",
       "      dtype='object')"
      ]
     },
     "execution_count": 35,
     "metadata": {},
     "output_type": "execute_result"
    }
   ],
   "source": [
    "fiber.columns"
   ]
  },
  {
   "cell_type": "markdown",
   "id": "10508635-ac9b-4bab-bd2a-dadf9bcb27b5",
   "metadata": {},
   "source": [
    "## First testing whether having streaming or not makes a difference. Is the churn rate of those fiber customers with streaming signicantly higher than the fiber average? \n",
    "### Use a chi square test"
   ]
  },
  {
   "cell_type": "code",
   "execution_count": 36,
   "id": "c34b4b12-db0e-45b8-a4a5-7074353a0ee9",
   "metadata": {},
   "outputs": [],
   "source": [
    "# Sets this variable to whether has any form of streaming (or both)\n",
    "fiber['has_streaming'] = ((fiber.streaming_movies == 'Yes')|(fiber.streaming_tv == 'Yes'))"
   ]
  },
  {
   "cell_type": "code",
   "execution_count": 37,
   "id": "1994d485-53aa-438c-9a1b-4f37019b2751",
   "metadata": {},
   "outputs": [
    {
     "data": {
      "text/plain": [
       "1222"
      ]
     },
     "execution_count": 37,
     "metadata": {},
     "output_type": "execute_result"
    }
   ],
   "source": [
    "fiber.has_streaming.sum()"
   ]
  },
  {
   "cell_type": "code",
   "execution_count": 38,
   "id": "a246805d-8e84-429a-a029-17b75b01724d",
   "metadata": {},
   "outputs": [
    {
     "data": {
      "text/plain": [
       "0.395253682487725"
      ]
     },
     "execution_count": 38,
     "metadata": {},
     "output_type": "execute_result"
    }
   ],
   "source": [
    "(fiber.churn[fiber.has_streaming]).mean()"
   ]
  },
  {
   "cell_type": "code",
   "execution_count": 39,
   "id": "1904e884-dfcf-43a6-a607-496d3bb78624",
   "metadata": {},
   "outputs": [
    {
     "data": {
      "text/plain": [
       "True     1222\n",
       "False     500\n",
       "Name: has_streaming, dtype: int64"
      ]
     },
     "execution_count": 39,
     "metadata": {},
     "output_type": "execute_result"
    }
   ],
   "source": [
    "fiber.has_streaming.value_counts()"
   ]
  },
  {
   "cell_type": "code",
   "execution_count": 40,
   "id": "dec61e5d-347d-4bda-8896-bafef412da29",
   "metadata": {},
   "outputs": [
    {
     "data": {
      "text/plain": [
       "0    987\n",
       "1    735\n",
       "Name: churn, dtype: int64"
      ]
     },
     "execution_count": 40,
     "metadata": {},
     "output_type": "execute_result"
    }
   ],
   "source": [
    "fiber.churn.value_counts()"
   ]
  },
  {
   "cell_type": "code",
   "execution_count": 41,
   "id": "cf1aa8c5-d63c-4429-8895-b1c71b0d832a",
   "metadata": {},
   "outputs": [
    {
     "name": "stdout",
     "output_type": "stream",
     "text": [
      "Observed\n",
      "\n",
      "[[248 739]\n",
      " [252 483]]\n",
      "---\n",
      "Expected\n",
      "\n",
      "[[286 700]\n",
      " [213 521]]\n",
      "---\n",
      "\n",
      "chi^2 = 16.7098\n",
      "p     = 0.0000\n",
      "We reject the null hypothesis\n"
     ]
    }
   ],
   "source": [
    "\n",
    "observed = pd.crosstab(fiber.churn, fiber.has_streaming)\n",
    "chi2, p, dof, expected = stats.chi2_contingency(observed)\n",
    "\n",
    "print('Observed\\n')\n",
    "print(observed.values)\n",
    "print('---\\nExpected\\n')\n",
    "print(expected.astype(int))\n",
    "print('---\\n')\n",
    "print(f'chi^2 = {chi2:.4f}')\n",
    "print(f'p     = {p:.4f}')\n",
    "if p < alpha:\n",
    "    print(\"We reject the null hypothesis\")\n",
    "else:\n",
    "    print(\"We fail to reject the null hypothesis\")\n",
    "# churn_rate.append((train.churn[train[group] == 1]).mean())\n",
    "# reject_null.append(p<alpha)\n",
    "    \n",
    "# results = pd.DataFrame(data = {'churn_rate':churn_rate,'reject_null':reject_null},index = groups)\n",
    "# results = results.sort_values(by= 'churn_rate')\n"
   ]
  },
  {
   "cell_type": "markdown",
   "id": "e216d80a-a99c-4e54-8cc3-3775de47e06d",
   "metadata": {},
   "source": [
    "- $H_0$: churn is independent of whether fiber customer has streaming or not\n",
    "- $H_a$: churn is not independent of whether fiber customer has streaming or not"
   ]
  },
  {
   "cell_type": "code",
   "execution_count": 42,
   "id": "c0719daa-929e-45dd-abb8-0494999288f7",
   "metadata": {},
   "outputs": [
    {
     "name": "stdout",
     "output_type": "stream",
     "text": [
      "Fiber streaming churn rate: 0.395253682487725\n",
      "Fiber non-streaming churn rate: 0.504\n",
      "Overall fiber churn rate: 0.4268292682926829\n",
      "Overall churn for all customers 0.2656845313690627\n"
     ]
    }
   ],
   "source": [
    "print(f\"Fiber streaming churn rate: {(fiber.churn[fiber.has_streaming]).mean()}\")\n",
    "print(f\"Fiber non-streaming churn rate: {(fiber.churn[~fiber.has_streaming]).mean()}\")\n",
    "print(f\"Overall fiber churn rate: {(fiber.churn.mean())}\")\n",
    "print(f\"Overall churn for all customers {train.churn.mean()}\")\n",
    "\n"
   ]
  },
  {
   "cell_type": "code",
   "execution_count": 43,
   "id": "c4ae7989-a27d-4b62-85df-7162998ed9a6",
   "metadata": {},
   "outputs": [
    {
     "data": {
      "text/html": [
       "<div>\n",
       "<style scoped>\n",
       "    .dataframe tbody tr th:only-of-type {\n",
       "        vertical-align: middle;\n",
       "    }\n",
       "\n",
       "    .dataframe tbody tr th {\n",
       "        vertical-align: top;\n",
       "    }\n",
       "\n",
       "    .dataframe thead th {\n",
       "        text-align: right;\n",
       "    }\n",
       "</style>\n",
       "<table border=\"1\" class=\"dataframe\">\n",
       "  <thead>\n",
       "    <tr style=\"text-align: right;\">\n",
       "      <th>has_streaming</th>\n",
       "      <th>False</th>\n",
       "      <th>True</th>\n",
       "    </tr>\n",
       "    <tr>\n",
       "      <th>churn</th>\n",
       "      <th></th>\n",
       "      <th></th>\n",
       "    </tr>\n",
       "  </thead>\n",
       "  <tbody>\n",
       "    <tr>\n",
       "      <th>0</th>\n",
       "      <td>248</td>\n",
       "      <td>739</td>\n",
       "    </tr>\n",
       "    <tr>\n",
       "      <th>1</th>\n",
       "      <td>252</td>\n",
       "      <td>483</td>\n",
       "    </tr>\n",
       "  </tbody>\n",
       "</table>\n",
       "</div>"
      ],
      "text/plain": [
       "has_streaming  False  True\n",
       "churn                     \n",
       "0                248   739\n",
       "1                252   483"
      ]
     },
     "execution_count": 43,
     "metadata": {},
     "output_type": "execute_result"
    }
   ],
   "source": [
    "observed"
   ]
  },
  {
   "cell_type": "markdown",
   "id": "26858e21-8949-483d-880e-dd4fb9a61f06",
   "metadata": {
    "tags": []
   },
   "source": [
    "## We reject the null hypothesis that churn is independent of whether the fiber customer is streaming or not. The churn rate of fiber customers with streaming is lower than the average fiber customer. Customers seem to be happy with our streaming service. The churn rate of non-streaming customers is actually higher than average!"
   ]
  },
  {
   "cell_type": "markdown",
   "id": "b2f44a19-4c26-4d5b-a3b6-b2c543fe530c",
   "metadata": {},
   "source": [
    "### looking at the non-streamers - is there a specific option that leads to lower churn rate? Will check using chi squared"
   ]
  },
  {
   "cell_type": "code",
   "execution_count": 44,
   "id": "8dc53587-cbe3-4a1a-92c3-e1b35fc339e5",
   "metadata": {},
   "outputs": [],
   "source": [
    "fiber_non_streamers = fiber[~fiber.has_streaming]"
   ]
  },
  {
   "cell_type": "code",
   "execution_count": 45,
   "id": "b5b566fe-d64f-47ba-93a8-011ebf550dff",
   "metadata": {},
   "outputs": [
    {
     "data": {
      "text/plain": [
       "(500, 26)"
      ]
     },
     "execution_count": 45,
     "metadata": {},
     "output_type": "execute_result"
    }
   ],
   "source": [
    "fiber_non_streamers.shape"
   ]
  },
  {
   "cell_type": "code",
   "execution_count": 46,
   "id": "740b89dd-6225-4e25-929f-0c88116e44db",
   "metadata": {},
   "outputs": [],
   "source": [
    "internet_options = ['online_security',\n",
    "       'online_backup', 'device_protection', 'tech_support']"
   ]
  },
  {
   "cell_type": "code",
   "execution_count": 47,
   "id": "c456c02b-9338-4124-8ab7-54b0d9b97b5d",
   "metadata": {},
   "outputs": [
    {
     "data": {
      "text/plain": [
       "online_security  online_backup  device_protection  tech_support\n",
       "No               No             No                 No              219\n",
       "                 Yes            No                 No               65\n",
       "                 No             Yes                No               46\n",
       "Yes              No             No                 No               28\n",
       "No               Yes            Yes                No               25\n",
       "Yes              Yes            Yes                No               18\n",
       "No               Yes            Yes                Yes              15\n",
       "Yes              Yes            No                 No               15\n",
       "No               No             Yes                Yes              13\n",
       "Yes              No             Yes                No               13\n",
       "No               No             No                 Yes              11\n",
       "Yes              Yes            No                 Yes              11\n",
       "No               Yes            No                 Yes               6\n",
       "Yes              Yes            Yes                Yes               6\n",
       "                 No             No                 Yes               5\n",
       "                                Yes                Yes               4\n",
       "dtype: int64"
      ]
     },
     "execution_count": 47,
     "metadata": {},
     "output_type": "execute_result"
    }
   ],
   "source": [
    "fiber_non_streamers[internet_options].value_counts()"
   ]
  },
  {
   "cell_type": "markdown",
   "id": "c989ebb4-3509-446c-954d-4366db03ba8b",
   "metadata": {},
   "source": [
    "### Independent samples to compare churn rates between them. Will consider the following:\n",
    "    - Online backup only\n",
    "    - Device protection only\n",
    "    - Online security only\n",
    "    - Tech support only"
   ]
  },
  {
   "cell_type": "code",
   "execution_count": 48,
   "id": "783e80c9-d118-4935-8f11-65bba0c6747a",
   "metadata": {},
   "outputs": [],
   "source": [
    "# encode option variables\n",
    "to_binary_dict = {'Yes':1,'No':0}\n",
    "fiber_non_streamers[['online_security','online_backup','device_protection','tech_support']] = fiber_non_streamers[['online_security','online_backup','device_protection','tech_support']].applymap(to_binary_dict.get)"
   ]
  },
  {
   "cell_type": "code",
   "execution_count": 49,
   "id": "f9c08cfb-be86-484f-a5c1-875b4ba16e25",
   "metadata": {},
   "outputs": [],
   "source": [
    "fiber_non_streamers['online_security_only'] = ((fiber_non_streamers.online_security == 1)&(fiber_non_streamers[['online_security','online_backup','device_protection','tech_support']].sum(axis=1)==1))\n",
    "fiber_non_streamers['device_protection_only'] = ((fiber_non_streamers.device_protection == 1)&(fiber_non_streamers[['online_security','online_backup','device_protection','tech_support']].sum(axis=1)==1))\n",
    "fiber_non_streamers['tech_support_only'] = ((fiber_non_streamers.tech_support == 1)&(fiber_non_streamers[['online_security','online_backup','device_protection','tech_support']].sum(axis=1)==1))\n",
    "fiber_non_streamers['online_backup_only'] = ((fiber_non_streamers.online_backup == 1)&(fiber_non_streamers[['online_security','online_backup','device_protection','tech_support']].sum(axis=1)==1))"
   ]
  },
  {
   "cell_type": "code",
   "execution_count": 50,
   "id": "69a22cd2-2c4e-418e-946f-235df76d8b10",
   "metadata": {},
   "outputs": [
    {
     "name": "stdout",
     "output_type": "stream",
     "text": [
      "online_security_only\n",
      "Observed\n",
      "\n",
      "[[230  18]\n",
      " [242  10]]\n",
      "---\n",
      "Expected\n",
      "\n",
      "[[234  13]\n",
      " [237  14]]\n",
      "---\n",
      "\n",
      "chi^2 = 1.9745\n",
      "p     = 0.1600\n",
      "We fail to reject the null hypothesis\n",
      "online_backup_only\n",
      "Observed\n",
      "\n",
      "[[220  28]\n",
      " [215  37]]\n",
      "---\n",
      "Expected\n",
      "\n",
      "[[215  32]\n",
      " [219  32]]\n",
      "---\n",
      "\n",
      "chi^2 = 0.9895\n",
      "p     = 0.3199\n",
      "We fail to reject the null hypothesis\n",
      "device_protection_only\n",
      "Observed\n",
      "\n",
      "[[225  23]\n",
      " [229  23]]\n",
      "---\n",
      "Expected\n",
      "\n",
      "[[225  22]\n",
      " [228  23]]\n",
      "---\n",
      "\n",
      "chi^2 = 0.0000\n",
      "p     = 1.0000\n",
      "We fail to reject the null hypothesis\n",
      "tech_support_only\n",
      "Observed\n",
      "\n",
      "[[242   6]\n",
      " [247   5]]\n",
      "---\n",
      "Expected\n",
      "\n",
      "[[242   5]\n",
      " [246   5]]\n",
      "---\n",
      "\n",
      "chi^2 = 0.0007\n",
      "p     = 0.9786\n",
      "We fail to reject the null hypothesis\n"
     ]
    }
   ],
   "source": [
    "internet_options = ['online_security_only',\n",
    "       'online_backup_only', 'device_protection_only', 'tech_support_only']\n",
    "reject_null = []\n",
    "churn_rate=[]\n",
    "\n",
    "for option in internet_options:\n",
    "    observed = pd.crosstab(fiber_non_streamers.churn, fiber_non_streamers[option])\n",
    "    chi2, p, dof, expected = stats.chi2_contingency(observed)\n",
    "    print(option)\n",
    "    print('Observed\\n')\n",
    "    print(observed.values)\n",
    "    print('---\\nExpected\\n')\n",
    "    print(expected.astype(int))\n",
    "    print('---\\n')\n",
    "    print(f'chi^2 = {chi2:.4f}')\n",
    "    print(f'p     = {p:.4f}')\n",
    "    if p < alpha:\n",
    "        print(\"We reject the null hypothesis\")\n",
    "    else:\n",
    "        print(\"We fail to reject the null hypothesis\")\n",
    "    churn_rate.append((fiber_non_streamers.churn[fiber_non_streamers[option] == 1]).mean())\n",
    "    reject_null.append(p<alpha)\n",
    "    \n",
    "results = pd.DataFrame(data = {'churn_rate':churn_rate,'reject_null':reject_null},index = internet_options)\n",
    "results = results.sort_values(by= 'churn_rate')"
   ]
  },
  {
   "cell_type": "code",
   "execution_count": 51,
   "id": "8e577b23-2dc0-46bc-9b0e-216683725d27",
   "metadata": {},
   "outputs": [
    {
     "data": {
      "text/html": [
       "<div>\n",
       "<style scoped>\n",
       "    .dataframe tbody tr th:only-of-type {\n",
       "        vertical-align: middle;\n",
       "    }\n",
       "\n",
       "    .dataframe tbody tr th {\n",
       "        vertical-align: top;\n",
       "    }\n",
       "\n",
       "    .dataframe thead th {\n",
       "        text-align: right;\n",
       "    }\n",
       "</style>\n",
       "<table border=\"1\" class=\"dataframe\">\n",
       "  <thead>\n",
       "    <tr style=\"text-align: right;\">\n",
       "      <th></th>\n",
       "      <th>churn_rate</th>\n",
       "      <th>reject_null</th>\n",
       "    </tr>\n",
       "  </thead>\n",
       "  <tbody>\n",
       "    <tr>\n",
       "      <th>online_security_only</th>\n",
       "      <td>0.357143</td>\n",
       "      <td>False</td>\n",
       "    </tr>\n",
       "    <tr>\n",
       "      <th>tech_support_only</th>\n",
       "      <td>0.454545</td>\n",
       "      <td>False</td>\n",
       "    </tr>\n",
       "    <tr>\n",
       "      <th>device_protection_only</th>\n",
       "      <td>0.500000</td>\n",
       "      <td>False</td>\n",
       "    </tr>\n",
       "    <tr>\n",
       "      <th>online_backup_only</th>\n",
       "      <td>0.569231</td>\n",
       "      <td>False</td>\n",
       "    </tr>\n",
       "  </tbody>\n",
       "</table>\n",
       "</div>"
      ],
      "text/plain": [
       "                        churn_rate  reject_null\n",
       "online_security_only      0.357143        False\n",
       "tech_support_only         0.454545        False\n",
       "device_protection_only    0.500000        False\n",
       "online_backup_only        0.569231        False"
      ]
     },
     "execution_count": 51,
     "metadata": {},
     "output_type": "execute_result"
    }
   ],
   "source": [
    "results"
   ]
  },
  {
   "cell_type": "code",
   "execution_count": 52,
   "id": "527d5122-0629-4ab3-a9c0-0ba664007817",
   "metadata": {},
   "outputs": [],
   "source": [
    "baseline_churn = (fiber_non_streamers.churn == 1).mean()"
   ]
  },
  {
   "cell_type": "code",
   "execution_count": 53,
   "id": "3db0c9f9-aa8a-4e86-9c8f-d874b99c367d",
   "metadata": {},
   "outputs": [
    {
     "data": {
      "text/plain": [
       "<matplotlib.lines.Line2D at 0x7ff06bd0ee80>"
      ]
     },
     "execution_count": 53,
     "metadata": {},
     "output_type": "execute_result"
    },
    {
     "data": {
      "image/png": "[encoded data removed]",
      "text/plain": [
       "<Figure size 1008x648 with 1 Axes>"
      ]
     },
     "metadata": {},
     "output_type": "display_data"
    }
   ],
   "source": [
    "sns.set(rc={'figure.figsize':(14,9)})\n",
    "sns.barplot(data = results, x = results.index ,y = 'churn_rate', hue = 'reject_null')\n",
    "plt.tight_layout()\n",
    "plt.title('Churn Rates by Group - Chi Squared results\\nGreen line shows fiber non streamer churn rate')\n",
    "plt.axhline(y=baseline_churn, color = 'green')\n",
    "# plt.bar_label(splot.containers[0])"
   ]
  },
  {
   "cell_type": "markdown",
   "id": "21b6c8c4-2cb0-4ace-9eea-24e110856d71",
   "metadata": {},
   "source": [
    "### We cannot reject the null hypothesis for any of the options alone. Seems to imply that whether a customer churns or not is independent of which options they have!"
   ]
  },
  {
   "cell_type": "markdown",
   "id": "2f7ecf94-aa3f-4efb-8d0c-fdaf01d97840",
   "metadata": {},
   "source": [
    "## Do non streaming fiber customers who churn pay more than those who don't churn?\n",
    "\n",
    "### Will do a two sample t - test\n",
    " - $H_0$ non streaming churners pay on average the same or less than that of non streaming non-churners\n",
    " - $H_a$ non streaming churners pay on average more than non streaming non-churners"
   ]
  },
  {
   "cell_type": "code",
   "execution_count": 54,
   "id": "6fc3c975-03e8-4aa1-85c3-45df6721ad18",
   "metadata": {},
   "outputs": [],
   "source": [
    "fiber_streamers = fiber[fiber.has_streaming]"
   ]
  },
  {
   "cell_type": "code",
   "execution_count": 55,
   "id": "33372250-496f-406f-b312-f60c100d7f0f",
   "metadata": {},
   "outputs": [],
   "source": [
    "# performe a levene test to check for equal variances\n",
    "# H0 : variances are equal\n",
    "# HAL variances not equal\n",
    "stat, p = stats.levene(fiber_non_streamers[fiber_non_streamers.churn==1].monthly_charges, fiber_non_streamers[fiber_non_streamers.churn==0].monthly_charges)"
   ]
  },
  {
   "cell_type": "code",
   "execution_count": 56,
   "id": "87db72f6-04e7-40bc-ab24-c5a27923331b",
   "metadata": {},
   "outputs": [
    {
     "data": {
      "text/plain": [
       "True"
      ]
     },
     "execution_count": 56,
     "metadata": {},
     "output_type": "execute_result"
    }
   ],
   "source": [
    "p<alpha"
   ]
  },
  {
   "cell_type": "code",
   "execution_count": 57,
   "id": "7e469787-261e-4ac1-a384-9e05199674ba",
   "metadata": {},
   "outputs": [
    {
     "data": {
      "text/plain": [
       "24.953417125150185"
      ]
     },
     "execution_count": 57,
     "metadata": {},
     "output_type": "execute_result"
    }
   ],
   "source": [
    "# reject null -variances are not equal\n",
    "fiber_non_streamers[fiber_non_streamers.churn==1].monthly_charges.var()"
   ]
  },
  {
   "cell_type": "code",
   "execution_count": 58,
   "id": "0354574f-281a-4ab3-8132-84ad03b9afa7",
   "metadata": {},
   "outputs": [
    {
     "data": {
      "text/plain": [
       "45.476457979626495"
      ]
     },
     "execution_count": 58,
     "metadata": {},
     "output_type": "execute_result"
    }
   ],
   "source": [
    "fiber_non_streamers[fiber_non_streamers.churn==0].monthly_charges.var()"
   ]
  },
  {
   "cell_type": "markdown",
   "id": "4d064913-09ac-4e99-8846-8c5c05b84ce5",
   "metadata": {},
   "source": []
  },
  {
   "cell_type": "code",
   "execution_count": 59,
   "id": "bed648cf-a558-49b9-94df-5a58ef988452",
   "metadata": {},
   "outputs": [
    {
     "data": {
      "text/plain": [
       "(-6.649883914355402, 4.2124135327910584e-11)"
      ]
     },
     "execution_count": 59,
     "metadata": {},
     "output_type": "execute_result"
    }
   ],
   "source": [
    "t, p = stats.ttest_ind(fiber_non_streamers[fiber_non_streamers.churn==1].monthly_charges, fiber_non_streamers[fiber_non_streamers.churn==0].monthly_charges,equal_var=False)\n",
    "t, p/2"
   ]
  },
  {
   "cell_type": "code",
   "execution_count": 60,
   "id": "5405c2fd-2777-48e5-8ead-7e1709ab0b9e",
   "metadata": {},
   "outputs": [
    {
     "name": "stdout",
     "output_type": "stream",
     "text": [
      "Average monthly charge for churning non streaming fiber customers :75.47063492063492\n",
      "Average monthly charge for non churning non streaming fiber customers :79.00443548387099\n"
     ]
    }
   ],
   "source": [
    "print(f\"Average monthly charge for churning non streaming fiber customers :{fiber_non_streamers[fiber_non_streamers.churn==1].monthly_charges.mean()}\")\n",
    "print(f\"Average monthly charge for non churning non streaming fiber customers :{fiber_non_streamers[fiber_non_streamers.churn==0].monthly_charges.mean()}\")"
   ]
  },
  {
   "cell_type": "markdown",
   "id": "07eb664f-bd3d-4570-b69f-b814035a00d4",
   "metadata": {},
   "source": [
    "## p/2 is less than alpha but t is > 0 , so we fail to reject the null hypothesis\n",
    "## Non streaming fiber churners do not pay more than streaming churners!!"
   ]
  },
  {
   "cell_type": "markdown",
   "id": "67b52611-a498-4630-aa45-82a9ef181324",
   "metadata": {},
   "source": [
    "# Is there a significant difference in churn between non streaming fiber customers vs dsl customers? "
   ]
  },
  {
   "cell_type": "code",
   "execution_count": null,
   "id": "a600cc4a-9bfe-411a-8296-c59c863a7f1d",
   "metadata": {},
   "outputs": [],
   "source": []
  },
  {
   "cell_type": "markdown",
   "id": "3b1408ef-eb60-48e4-812f-b8d990f22ffc",
   "metadata": {
    "tags": []
   },
   "source": [
    "## Categorical variables"
   ]
  },
  {
   "cell_type": "markdown",
   "id": "1b6c60f8-5f0e-4df5-93b8-a89aa8f002af",
   "metadata": {},
   "source": [
    "### Takeaways:\n",
    "- Evenly distributed by gender and partner\n",
    "- Two broad categories lead to subcategories that would be worthwhile to look at individually:\n",
    "    - Phone service or not: \n",
    "        - Multiple lines\n",
    "    - Internet Service or not:\n",
    "        - online security\n",
    "        - online backup\n",
    "        - tech support\n",
    "        - device protection\n",
    "        - streaming tv\n",
    "        - streaming movies\n",
    "        - service type (DSL vs Fiber)\n",
    "     "
   ]
  }
 ],
 "metadata": {
  "kernelspec": {
   "display_name": "Python 3.9.7 64-bit ('base': conda)",
   "language": "python",
   "name": "python397jvsc74a57bd038cca0c38332a56087b24af0bc80247f4fced29cb4f7f437d91dc159adec9c4e"
  },
  "language_info": {
   "codemirror_mode": {
    "name": "ipython",
    "version": 3
   },
   "file_extension": ".py",
   "mimetype": "text/x-python",
   "name": "python",
   "nbconvert_exporter": "python",
   "pygments_lexer": "ipython3",
   "version": "3.9.7"
  }
 },
 "nbformat": 4,
 "nbformat_minor": 5
}
