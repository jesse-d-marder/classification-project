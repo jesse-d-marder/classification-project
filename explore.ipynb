{
 "cells": [
  {
   "cell_type": "code",
   "execution_count": 294,
   "id": "5eb7e8ce-4f58-46cd-87ba-c1614c41e4e8",
   "metadata": {},
   "outputs": [],
   "source": [
    "from acquire import get_telco_data\n",
    "from prepare import train_validate_test_split\n",
    "import pandas as pd\n",
    "import numpy as np\n",
    "import matplotlib.pyplot as plt\n",
    "import seaborn as sns\n",
    "import explore\n",
    "from scipy import stats"
   ]
  },
  {
   "cell_type": "code",
   "execution_count": 313,
   "id": "0a70fbe3-d8de-463e-8b51-ab73ea9c4089",
   "metadata": {},
   "outputs": [
    {
     "name": "stdout",
     "output_type": "stream",
     "text": [
      "Using cached data\n"
     ]
    }
   ],
   "source": [
    "df = get_telco_data()"
   ]
  },
  {
   "cell_type": "markdown",
   "id": "807c2d17-2660-4b11-814e-cccd9c32d91c",
   "metadata": {
    "tags": []
   },
   "source": [
    "# Prepare Exploration (Pre-split)"
   ]
  },
  {
   "cell_type": "code",
   "execution_count": 314,
   "id": "d3bdc45d-d4d3-4ba2-82da-7478beb35454",
   "metadata": {},
   "outputs": [
    {
     "data": {
      "text/plain": [
       "customer_id               object\n",
       "gender                    object\n",
       "senior_citizen             int64\n",
       "partner                   object\n",
       "dependents                object\n",
       "tenure                     int64\n",
       "phone_service             object\n",
       "multiple_lines            object\n",
       "online_security           object\n",
       "online_backup             object\n",
       "device_protection         object\n",
       "tech_support              object\n",
       "streaming_tv              object\n",
       "streaming_movies          object\n",
       "paperless_billing         object\n",
       "monthly_charges          float64\n",
       "total_charges            float64\n",
       "churn                     object\n",
       "contract_type             object\n",
       "internet_service_type     object\n",
       "payment_type              object\n",
       "dtype: object"
      ]
     },
     "execution_count": 314,
     "metadata": {},
     "output_type": "execute_result"
    }
   ],
   "source": [
    "# Initially drop redundant columns\n",
    "df = df.drop(columns = ['payment_type_id','internet_service_type_id','contract_type_id'])\n",
    "\n",
    "# From prior exploration of dataset a small number of the total_charges are just whitespace - these are all new customers who haven't been with the company for >1 month.\n",
    "# Given that it is a very small proportion of the total dataset these rows will be deleted for ease of computation later on\n",
    "(df == \" \").sum()\n",
    "\n",
    "df = df.drop(df[df.total_charges == \" \"].index)\n",
    "\n",
    "# Confirm no more blanks\n",
    "(df == \" \").sum().sum()\n",
    "\n",
    "# Confirm no nulls\n",
    "(df.isna().sum()).sum()\n",
    "\n",
    "# Convert total_charges to float for later analysis\n",
    "df.total_charges = df.total_charges.astype('float64')\n",
    "\n",
    "# Confirm dtypes\n",
    "df.dtypes"
   ]
  },
  {
   "cell_type": "code",
   "execution_count": 324,
   "id": "da88beae-4d10-4fff-bf92-950454690b7d",
   "metadata": {},
   "outputs": [
    {
     "data": {
      "text/plain": [
       "1    5512\n",
       "0    1520\n",
       "Name: has_internet_service, dtype: int64"
      ]
     },
     "execution_count": 324,
     "metadata": {},
     "output_type": "execute_result"
    }
   ],
   "source": [
    "df.has_internet_service.value_counts()"
   ]
  },
  {
   "cell_type": "code",
   "execution_count": 316,
   "id": "0126b4dd-8dea-449d-ae59-4456bf3d9fb4",
   "metadata": {},
   "outputs": [],
   "source": [
    "df = df.rename(columns={'senior_citizen':'is_senior_citizen'})\n",
    "df.churn = df.churn.map({'Yes':1,'No':0})\n",
    "df['is_male'] = df.gender.map({'Male':1,'Female':0})\n",
    "df['has_phone'] = df.phone_service.map({'Yes':1,'No':0})\n",
    "df['has_internet_service'] = df.internet_service_type.map({'Fiber optic':1,'DSL':1,'None':0})\n",
    "df['has_partner']= df.partner.map({'Yes':1,'No':0})\n",
    "df['has_dependent'] = df.dependents.map({'Yes':1,'No':0})\n",
    "df['is_paperless'] = df.paperless_billing.map({'Yes':1,'No':0})\n",
    "df['is_month_to_month'] = df.contract_type.map({'Two year':0,'One year':0, 'Month-to-month':1})\n",
    "df['is_autopay'] = df.payment_type.map({'Electronic check': 0, 'Mailed check': 0, 'Bank transfer (automatic)':1, 'Credit card (automatic)': 1})"
   ]
  },
  {
   "cell_type": "code",
   "execution_count": 317,
   "id": "f3202c1f-2bea-41d3-b5fb-bc15984cead0",
   "metadata": {},
   "outputs": [
    {
     "data": {
      "text/plain": [
       "Index(['customer_id', 'gender', 'is_senior_citizen', 'partner', 'dependents',\n",
       "       'tenure', 'phone_service', 'multiple_lines', 'online_security',\n",
       "       'online_backup', 'device_protection', 'tech_support', 'streaming_tv',\n",
       "       'streaming_movies', 'paperless_billing', 'monthly_charges',\n",
       "       'total_charges', 'churn', 'contract_type', 'internet_service_type',\n",
       "       'payment_type', 'is_male', 'has_phone', 'has_internet_service',\n",
       "       'has_partner', 'has_dependent', 'is_paperless', 'is_month_to_month',\n",
       "       'is_autopay'],\n",
       "      dtype='object')"
      ]
     },
     "execution_count": 317,
     "metadata": {},
     "output_type": "execute_result"
    }
   ],
   "source": [
    "df.columns"
   ]
  },
  {
   "cell_type": "code",
   "execution_count": 318,
   "id": "05e7f975-a3c2-408b-ad4c-f8807882ba64",
   "metadata": {},
   "outputs": [],
   "source": [
    "# # Determine the categorical variables - here defined as object data type (non-numeric) and with fewer than 5 values\n",
    "# catcol = df.columns[(df.nunique()<5)&(df.dtypes == 'object')]\n",
    "# # Encode categoricals\n",
    "# dummy_df = pd.get_dummies(df[catcol], dummy_na=False, drop_first=True)\n",
    "# # Concatenate dummy df to original df\n",
    "# df = pd.concat([df,dummy_df],axis=1)\n",
    "# # Remove the original categorical columns after encoding\n",
    "# df = df.drop(columns=catcol)"
   ]
  },
  {
   "cell_type": "markdown",
   "id": "b52692e3-6e5f-44cd-a067-ce8289f7b809",
   "metadata": {},
   "source": [
    "# Exploration (Post-split)"
   ]
  },
  {
   "cell_type": "markdown",
   "id": "df995b77-df66-4222-a5e1-f6afaf717a0f",
   "metadata": {},
   "source": [
    "### Question to explore:\n",
    "    - Do any groups churn at higher than the overall average rate? YES\n",
    "    - Do any groups churn at lower than the overall average rate? YES\n",
    "    - For the month to month plan - do churners pay more than non churners? YES\n",
    "    - Of the groups that churn at higher than overall average, do any particular sub groups churn higher? Internet customers - Fiber\n",
    "    - Within the sub groups do any specific options lead to higher churn? NO for fiber non streamer\n",
    "    \n",
    "    \n",
    "    - Which groups make the most money for the company? Any above the overall average?\n",
    "    - Do any of these groups align with the the groups that churn the most? With the least churn rate?\n",
    " \n",
    "    "
   ]
  },
  {
   "cell_type": "code",
   "execution_count": 319,
   "id": "83531997-db1d-445f-8ba6-21916044ac9d",
   "metadata": {},
   "outputs": [],
   "source": [
    "train, validate, test = train_validate_test_split(df, target = 'churn', seed =123)"
   ]
  },
  {
   "cell_type": "code",
   "execution_count": 320,
   "id": "573ab61d-252d-44b9-9737-bd3024f765fe",
   "metadata": {},
   "outputs": [
    {
     "data": {
      "text/plain": [
       "((3937, 29), (1688, 29), (1407, 29))"
      ]
     },
     "execution_count": 320,
     "metadata": {},
     "output_type": "execute_result"
    }
   ],
   "source": [
    "train.shape, validate.shape, test.shape"
   ]
  },
  {
   "cell_type": "code",
   "execution_count": 403,
   "id": "1b491684-4e04-4932-8465-99b145816051",
   "metadata": {},
   "outputs": [],
   "source": [
    "# Baseline churn rate\n",
    "baseline_churn = (train.churn == 1).mean()"
   ]
  },
  {
   "cell_type": "markdown",
   "id": "c83fbbc6-2d8c-45d9-a8f6-2531dd947649",
   "metadata": {
    "tags": []
   },
   "source": [
    "## Do any groups churn at rates significantly above or below the overall (baseline) mean?\n",
    "\n",
    "### Groups defined as:\n",
    "    - senior citizen\n",
    "    - male vs female\n",
    "    - partner vs no partner\n",
    "    - dependent vs no dependent\n",
    "    - Auto vs manual payers\n",
    "    - Paperless billing vs not\n",
    "    - Month to month vs long term\n",
    "    - Internet service or not\n",
    "    - Phone service or not\n",
    "\n",
    "    \n",
    "### Will perform chi square test\n",
    "#### Enough samples to assume normal distribution\n",
    "    "
   ]
  },
  {
   "cell_type": "code",
   "execution_count": 322,
   "id": "c3c9abd5-4dd0-4dda-9c3e-75962f903b24",
   "metadata": {},
   "outputs": [],
   "source": [
    "alpha = 0.05"
   ]
  },
  {
   "cell_type": "code",
   "execution_count": 323,
   "id": "460d4866-bee3-43cd-8f31-bba28a9c73e6",
   "metadata": {},
   "outputs": [
    {
     "data": {
      "text/plain": [
       "Index(['customer_id', 'gender', 'is_senior_citizen', 'partner', 'dependents',\n",
       "       'tenure', 'phone_service', 'multiple_lines', 'online_security',\n",
       "       'online_backup', 'device_protection', 'tech_support', 'streaming_tv',\n",
       "       'streaming_movies', 'paperless_billing', 'monthly_charges',\n",
       "       'total_charges', 'churn', 'contract_type', 'internet_service_type',\n",
       "       'payment_type', 'is_male', 'has_phone', 'has_internet_service',\n",
       "       'has_partner', 'has_dependent', 'is_paperless', 'is_month_to_month',\n",
       "       'is_autopay'],\n",
       "      dtype='object')"
      ]
     },
     "execution_count": 323,
     "metadata": {},
     "output_type": "execute_result"
    }
   ],
   "source": [
    "train.columns"
   ]
  },
  {
   "cell_type": "code",
   "execution_count": 525,
   "id": "5b65910b-38d7-4406-995e-a6dfba751759",
   "metadata": {},
   "outputs": [
    {
     "name": "stdout",
     "output_type": "stream",
     "text": [
      "For is_male 0.4998503909528952 0.0003750617495743298\n",
      "For is_senior_citizen 6.657399538355316e-16 8.200566219243903\n",
      "For has_partner 8.13331609478488e-13 -7.110579138485949\n",
      "For has_dependent 1.0112048946230359e-24 -10.427077128848588\n",
      "For is_paperless 6.257952653084417e-13 7.139016011077522\n",
      "For is_autopay 9.41555705559799e-28 -11.041538009099208\n",
      "For is_month_to_month 2.0592279592357914e-50 15.27620998607843\n",
      "For has_phone 0.37969038010059053 0.30631757033098383\n",
      "For has_internet_service 7.104763737818995e-11 6.435707727568809\n"
     ]
    }
   ],
   "source": [
    "groups = ['is_male', 'is_senior_citizen', 'has_partner', 'has_dependent', 'is_paperless','is_autopay','is_month_to_month','has_phone','has_internet_service']\n",
    "ts={}\n",
    "p_over_2s={}\n",
    "churn_rate = {}\n",
    "\n",
    "for group in groups:\n",
    "    t, p = stats.ttest_1samp(train.churn[train[group] == 1], train.churn.mean())\n",
    "    print(f'For {group} {p/2} {t}')\n",
    "    \n",
    "    ts[group] = t\n",
    "    p_over_2s[group] = p/2\n",
    "    churn_rate[group] = (train.churn[train[group] == 1]).mean()\n",
    "\n",
    "results = pd.DataFrame(data = [ts, p_over_2s,churn_rate], index= ['t','p_over_2','churn_rate']).T\n",
    "\n",
    "results['significantly_greater'] = (results.p_over_2<alpha) & (results.t>0)\n",
    "results['significantly_lower'] = (results.p_over_2<alpha) & (results.t<0)\n",
    "results['significant'] = (results.significantly_greater) | (results.significantly_lower)\n",
    "results = results.sort_values(by = 'churn_rate')"
   ]
  },
  {
   "cell_type": "code",
   "execution_count": 616,
   "id": "f97f0469-aabf-4cf0-b8a4-ce424bbca911",
   "metadata": {},
   "outputs": [
    {
     "name": "stdout",
     "output_type": "stream",
     "text": [
      "is_male\n",
      "We fail to reject the null hypothesis\n",
      "is_senior_citizen\n",
      "We reject the null hypothesis\n",
      "has_partner\n",
      "We reject the null hypothesis\n",
      "has_dependent\n",
      "We reject the null hypothesis\n",
      "is_paperless\n",
      "We reject the null hypothesis\n",
      "is_autopay\n",
      "We reject the null hypothesis\n",
      "is_month_to_month\n",
      "We reject the null hypothesis\n",
      "has_phone\n",
      "We fail to reject the null hypothesis\n",
      "has_internet_service\n",
      "We reject the null hypothesis\n"
     ]
    }
   ],
   "source": [
    "groups = ['is_male', 'is_senior_citizen', 'has_partner', 'has_dependent', 'is_paperless','is_autopay','is_month_to_month','has_phone','has_internet_service']\n",
    "reject_null = []\n",
    "churn_rate=[]\n",
    "for group in groups:\n",
    "    observed = pd.crosstab(train.churn, train[group])\n",
    "    chi2, p, dof, expected = stats.chi2_contingency(observed)\n",
    "    print(group)\n",
    "    # print('Observed\\n')\n",
    "    # print(observed.values)\n",
    "    # print('---\\nExpected\\n')\n",
    "    # print(expected.astype(int))\n",
    "    # print('---\\n')\n",
    "    # print(f'chi^2 = {chi2:.4f}')\n",
    "    # print(f'p     = {p:.4f}')\n",
    "    if p < alpha:\n",
    "        print(\"We reject the null hypothesis\")\n",
    "    else:\n",
    "        print(\"We fail to reject the null hypothesis\")\n",
    "    churn_rate.append((train.churn[train[group] == 1]).mean())\n",
    "    reject_null.append(p<alpha)\n",
    "    \n",
    "results = pd.DataFrame(data = {'churn_rate':churn_rate,'reject_null':reject_null},index = groups)\n",
    "results = results.sort_values(by= 'churn_rate')\n",
    "        "
   ]
  },
  {
   "cell_type": "code",
   "execution_count": 540,
   "id": "415c75e3-2183-4abc-bcb4-493ccf0e8593",
   "metadata": {},
   "outputs": [
    {
     "data": {
      "text/html": [
       "<div>\n",
       "<style scoped>\n",
       "    .dataframe tbody tr th:only-of-type {\n",
       "        vertical-align: middle;\n",
       "    }\n",
       "\n",
       "    .dataframe tbody tr th {\n",
       "        vertical-align: top;\n",
       "    }\n",
       "\n",
       "    .dataframe thead th {\n",
       "        text-align: right;\n",
       "    }\n",
       "</style>\n",
       "<table border=\"1\" class=\"dataframe\">\n",
       "  <thead>\n",
       "    <tr style=\"text-align: right;\">\n",
       "      <th></th>\n",
       "      <th>churn_rate</th>\n",
       "      <th>reject_null</th>\n",
       "    </tr>\n",
       "  </thead>\n",
       "  <tbody>\n",
       "    <tr>\n",
       "      <th>has_dependent</th>\n",
       "      <td>0.156040</td>\n",
       "      <td>True</td>\n",
       "    </tr>\n",
       "    <tr>\n",
       "      <th>is_autopay</th>\n",
       "      <td>0.167331</td>\n",
       "      <td>True</td>\n",
       "    </tr>\n",
       "    <tr>\n",
       "      <th>has_partner</th>\n",
       "      <td>0.200524</td>\n",
       "      <td>True</td>\n",
       "    </tr>\n",
       "    <tr>\n",
       "      <th>is_male</th>\n",
       "      <td>0.265688</td>\n",
       "      <td>False</td>\n",
       "    </tr>\n",
       "    <tr>\n",
       "      <th>has_phone</th>\n",
       "      <td>0.267957</td>\n",
       "      <td>False</td>\n",
       "    </tr>\n",
       "    <tr>\n",
       "      <th>has_internet_service</th>\n",
       "      <td>0.319870</td>\n",
       "      <td>True</td>\n",
       "    </tr>\n",
       "    <tr>\n",
       "      <th>is_paperless</th>\n",
       "      <td>0.335628</td>\n",
       "      <td>True</td>\n",
       "    </tr>\n",
       "    <tr>\n",
       "      <th>is_senior_citizen</th>\n",
       "      <td>0.426772</td>\n",
       "      <td>True</td>\n",
       "    </tr>\n",
       "    <tr>\n",
       "      <th>is_month_to_month</th>\n",
       "      <td>0.428176</td>\n",
       "      <td>True</td>\n",
       "    </tr>\n",
       "  </tbody>\n",
       "</table>\n",
       "</div>"
      ],
      "text/plain": [
       "                      churn_rate  reject_null\n",
       "has_dependent           0.156040         True\n",
       "is_autopay              0.167331         True\n",
       "has_partner             0.200524         True\n",
       "is_male                 0.265688        False\n",
       "has_phone               0.267957        False\n",
       "has_internet_service    0.319870         True\n",
       "is_paperless            0.335628         True\n",
       "is_senior_citizen       0.426772         True\n",
       "is_month_to_month       0.428176         True"
      ]
     },
     "execution_count": 540,
     "metadata": {},
     "output_type": "execute_result"
    }
   ],
   "source": [
    "results"
   ]
  },
  {
   "cell_type": "code",
   "execution_count": 551,
   "id": "27ee1a4f-97ad-4c9f-a291-fcbf9e90d9d3",
   "metadata": {},
   "outputs": [
    {
     "data": {
      "text/plain": [
       "<matplotlib.lines.Line2D at 0x7fe40ddf1850>"
      ]
     },
     "execution_count": 551,
     "metadata": {},
     "output_type": "execute_result"
    },
    {
     "data": {
      "image/png": "[encoded data removed]",
      "text/plain": [
       "<Figure size 1008x648 with 1 Axes>"
      ]
     },
     "metadata": {},
     "output_type": "display_data"
    }
   ],
   "source": [
    "sns.set(rc={'figure.figsize':(14,9)})\n",
    "sns.barplot(data = results, x = results.index ,y = 'churn_rate', hue = 'reject_null')\n",
    "plt.tight_layout()\n",
    "plt.title('Churn Rates by Group - Chi Squared results\\nGreen line shows overall churn rate')\n",
    "plt.axhline(y=baseline_churn, color = 'green')\n",
    "# plt.bar_label(splot.containers[0])"
   ]
  },
  {
   "cell_type": "markdown",
   "id": "74d71306-44ab-4ccd-8e52-b60f5b60df36",
   "metadata": {},
   "source": [
    "## Four groups churn at rates significantly higher than the overall mean:\n",
    "    - Senior citizens: 43%\n",
    "    - Paperless billing: 34%\n",
    "    - Month to Month: 43%\n",
    "    - Those with internet service: 32%"
   ]
  },
  {
   "cell_type": "code",
   "execution_count": null,
   "id": "370722c4-c2d2-422a-865b-7d314e195fcd",
   "metadata": {},
   "outputs": [],
   "source": []
  },
  {
   "cell_type": "markdown",
   "id": "a12e05b0-a606-408e-93a8-e163109160f1",
   "metadata": {},
   "source": [
    "# Do the churners on the month to month plan pay higher per month on average than those who don't churn on month to month?\n",
    "### Perform independent t test 2 sample"
   ]
  },
  {
   "cell_type": "markdown",
   "id": "bd7f3c7c-b085-4240-bc39-4d71d998262d",
   "metadata": {},
   "source": [
    "- $H_0$ Those who churn on month to month plan pay the same or less as those who don't churn on month to month\n",
    "- $H_a$ Those who churn on month to month plan pay more than those who don't churn"
   ]
  },
  {
   "cell_type": "code",
   "execution_count": 692,
   "id": "0b425aea-f498-4f97-89d7-d41cf0996aba",
   "metadata": {},
   "outputs": [],
   "source": [
    "churn_sample = train[train.is_month_to_month == 1].monthly_charges"
   ]
  },
  {
   "cell_type": "code",
   "execution_count": 693,
   "id": "485fdcf2-0f56-4786-bf09-dd8e1ab86bd4",
   "metadata": {},
   "outputs": [],
   "source": [
    "non_churn_sample = train[train.is_month_to_month == 0].monthly_charges"
   ]
  },
  {
   "cell_type": "code",
   "execution_count": 703,
   "id": "b5b59f9e-edbe-4a6a-a002-683d5cc53a61",
   "metadata": {},
   "outputs": [],
   "source": [
    "# check for equal variances\n",
    "t, p = stats.levene(churn_sample, non_churn_sample)"
   ]
  },
  {
   "cell_type": "code",
   "execution_count": 704,
   "id": "390c887f-f348-421d-bafa-c6894a302080",
   "metadata": {},
   "outputs": [
    {
     "data": {
      "text/plain": [
       "(163.51485216543205, 1.0291156241073953e-36)"
      ]
     },
     "execution_count": 704,
     "metadata": {},
     "output_type": "execute_result"
    }
   ],
   "source": [
    "t, p"
   ]
  },
  {
   "cell_type": "code",
   "execution_count": 696,
   "id": "33cb516a-de45-41a7-9323-5817692cf582",
   "metadata": {},
   "outputs": [],
   "source": [
    "t, p = stats.ttest_ind(churn_sample, non_churn_sample, equal_var=False)"
   ]
  },
  {
   "cell_type": "code",
   "execution_count": 698,
   "id": "f98474d7-50a1-492c-944d-a0f11bc30360",
   "metadata": {},
   "outputs": [
    {
     "data": {
      "text/plain": [
       "(2.7380394089814692, 0.006212670228116539)"
      ]
     },
     "execution_count": 698,
     "metadata": {},
     "output_type": "execute_result"
    }
   ],
   "source": [
    "t,p"
   ]
  },
  {
   "cell_type": "code",
   "execution_count": 699,
   "id": "2579aeb6-a6bf-44df-b4ec-4dcc843b1bd6",
   "metadata": {},
   "outputs": [
    {
     "data": {
      "text/plain": [
       "True"
      ]
     },
     "execution_count": 699,
     "metadata": {},
     "output_type": "execute_result"
    }
   ],
   "source": [
    "p<alpha"
   ]
  },
  {
   "cell_type": "code",
   "execution_count": 700,
   "id": "71f9275f-93b0-4bc5-9b9c-6329c676b32d",
   "metadata": {},
   "outputs": [
    {
     "data": {
      "text/plain": [
       "True"
      ]
     },
     "execution_count": 700,
     "metadata": {},
     "output_type": "execute_result"
    }
   ],
   "source": [
    "t>0"
   ]
  },
  {
   "cell_type": "code",
   "execution_count": 720,
   "id": "173d4ae4-c861-489d-a72a-8f3c194d4e31",
   "metadata": {},
   "outputs": [
    {
     "data": {
      "text/plain": [
       "Text(0, 0.5, 'Average monthly charge ($)')"
      ]
     },
     "execution_count": 720,
     "metadata": {},
     "output_type": "execute_result"
    },
    {
     "data": {
      "image/png": "[encoded data removed]",
      "text/plain": [
       "<Figure size 1008x648 with 1 Axes>"
      ]
     },
     "metadata": {},
     "output_type": "display_data"
    }
   ],
   "source": [
    "plt.bar(x=['Churn','Non-churn'], height =[churn_sample.mean(),non_churn_sample.mean()])\n",
    "plt.title('Average monthly charge for churners vs non churners on month to month plan')\n",
    "plt.axhline(train.monthly_charges.mean(), color = 'green')\n",
    "plt.ylabel('Average monthly charge ($)')"
   ]
  },
  {
   "cell_type": "markdown",
   "id": "81dc9b78-ec99-42a5-9448-0befbda8582b",
   "metadata": {},
   "source": [
    "## Churners on month to month pay more than non churners"
   ]
  },
  {
   "cell_type": "markdown",
   "id": "17f37a1c-5eb3-4f22-9599-e34d3b225fc2",
   "metadata": {
    "tags": []
   },
   "source": [
    "# Of the groups that churn at higher than overall average, do any particular sub groups churn higher? Chi Square test\n",
    "    - Focus on internet customers: Fiber vs DSL"
   ]
  },
  {
   "cell_type": "code",
   "execution_count": 721,
   "id": "fe2c8f16-abb7-49fb-a51d-c425808924a1",
   "metadata": {},
   "outputs": [
    {
     "data": {
      "text/html": [
       "<div>\n",
       "<style scoped>\n",
       "    .dataframe tbody tr th:only-of-type {\n",
       "        vertical-align: middle;\n",
       "    }\n",
       "\n",
       "    .dataframe tbody tr th {\n",
       "        vertical-align: top;\n",
       "    }\n",
       "\n",
       "    .dataframe thead th {\n",
       "        text-align: right;\n",
       "    }\n",
       "</style>\n",
       "<table border=\"1\" class=\"dataframe\">\n",
       "  <thead>\n",
       "    <tr style=\"text-align: right;\">\n",
       "      <th>internet_service_type</th>\n",
       "      <th>DSL</th>\n",
       "      <th>Fiber optic</th>\n",
       "    </tr>\n",
       "    <tr>\n",
       "      <th>churn</th>\n",
       "      <th></th>\n",
       "      <th></th>\n",
       "    </tr>\n",
       "  </thead>\n",
       "  <tbody>\n",
       "    <tr>\n",
       "      <th>0</th>\n",
       "      <td>1101</td>\n",
       "      <td>987</td>\n",
       "    </tr>\n",
       "    <tr>\n",
       "      <th>1</th>\n",
       "      <td>247</td>\n",
       "      <td>735</td>\n",
       "    </tr>\n",
       "  </tbody>\n",
       "</table>\n",
       "</div>"
      ],
      "text/plain": [
       "internet_service_type   DSL  Fiber optic\n",
       "churn                                   \n",
       "0                      1101          987\n",
       "1                       247          735"
      ]
     },
     "execution_count": 721,
     "metadata": {},
     "output_type": "execute_result"
    }
   ],
   "source": [
    "# DF of just internet customers from train\n",
    "internet = train[train.has_internet_service == 1]\n",
    "\n",
    "observed = pd.crosstab(internet.churn, internet.internet_service_type)\n",
    "\n",
    "observed"
   ]
  },
  {
   "cell_type": "code",
   "execution_count": 722,
   "id": "25e06991-7249-4c67-aad7-758adcc87278",
   "metadata": {},
   "outputs": [],
   "source": [
    "chi2, p, dof, expected = stats.chi2_contingency(observed)"
   ]
  },
  {
   "cell_type": "code",
   "execution_count": 723,
   "id": "928d2b00-c90d-48cc-9fa5-61e96491a622",
   "metadata": {},
   "outputs": [
    {
     "name": "stdout",
     "output_type": "stream",
     "text": [
      "Observed\n",
      "\n",
      "[[1101  987]\n",
      " [ 247  735]]\n",
      "---\n",
      "Expected\n",
      "\n",
      "[[ 916 1171]\n",
      " [ 431  550]]\n",
      "---\n",
      "\n",
      "chi^2 = 205.1136\n",
      "p     = 0.0000\n",
      "We reject the null hypothesis\n"
     ]
    }
   ],
   "source": [
    "print('Observed\\n')\n",
    "print(observed.values)\n",
    "print('---\\nExpected\\n')\n",
    "print(expected.astype(int))\n",
    "print('---\\n')\n",
    "print(f'chi^2 = {chi2:.4f}')\n",
    "print(f'p     = {p:.4f}')\n",
    "if p < alpha:\n",
    "    print(\"We reject the null hypothesis\")\n",
    "else:\n",
    "    print(\"We fail to reject the null hypothesis\")"
   ]
  },
  {
   "cell_type": "code",
   "execution_count": 724,
   "id": "b6128a55-e873-4f2d-9021-932cc013bbd0",
   "metadata": {},
   "outputs": [
    {
     "data": {
      "text/plain": [
       "(0.31986970684039084,\n",
       " 0.3198697068403909,\n",
       " 0.18323442136498516,\n",
       " 0.4268292682926829)"
      ]
     },
     "execution_count": 724,
     "metadata": {},
     "output_type": "execute_result"
    }
   ],
   "source": [
    "\n",
    "expected_df = pd.DataFrame(expected,index=[0,1], columns=['DSL','Fiber optic'])\n",
    "expected_dsl_churn = expected_df['DSL'].iloc[1]/expected_df['DSL'].sum()\n",
    "expected_fiber_churn = expected_df['Fiber optic'].iloc[1]/expected_df['Fiber optic'].sum()\n",
    "observed_dsl_churn = observed['DSL'].iloc[1]/observed['DSL'].sum()\n",
    "observed_fiber_churn = observed['Fiber optic'].iloc[1]/observed['Fiber optic'].sum()\n",
    "\n",
    "expected_dsl_churn, expected_fiber_churn, observed_dsl_churn, observed_fiber_churn"
   ]
  },
  {
   "cell_type": "markdown",
   "id": "8b368203-ef4f-4391-b823-a4285ff103f0",
   "metadata": {
    "tags": []
   },
   "source": [
    "### Churn and the type of internet service are not independent.\n",
    "### We expect the following churn %:\n",
    "    - DSL: 432/(432+917) = 32%\n",
    "    - Fiber: 551/(551+1171) = 32 %\n",
    "### Actual churn %:\n",
    "    - DSL: 247/(247+1101) = 14%\n",
    "    - Fiber: 735/(735+987) = 42%\n",
    "    "
   ]
  },
  {
   "cell_type": "markdown",
   "id": "270668e7-61dc-4538-bbec-53168f79cd7f",
   "metadata": {
    "tags": []
   },
   "source": [
    "# Fiber customers churn 10% higher than expected"
   ]
  },
  {
   "cell_type": "code",
   "execution_count": 739,
   "id": "0ed3a126-6048-4dfa-a73b-71e462962fde",
   "metadata": {},
   "outputs": [
    {
     "data": {
      "text/plain": [
       "<AxesSubplot:xlabel='internet_service_type'>"
      ]
     },
     "execution_count": 739,
     "metadata": {},
     "output_type": "execute_result"
    },
    {
     "data": {
      "image/png": "[encoded data removed]",
      "text/plain": [
       "<Figure size 1008x648 with 2 Axes>"
      ]
     },
     "metadata": {},
     "output_type": "display_data"
    }
   ],
   "source": [
    "observed.index.name=\"\"\n",
    "expected_df = pd.DataFrame(expected,index=[0,1], columns=['DSL','Fiber optic'])\n",
    "observed - expected_df\n",
    "sns.heatmap(data = observed-expected_df, yticklabels=['No churn','Churn'])"
   ]
  },
  {
   "cell_type": "markdown",
   "id": "dbe28cf3-7d2f-435a-bbbe-85fb0b8a7fcc",
   "metadata": {},
   "source": [
    "### Within fiber customers - is there a particular option that is resulting in greater or less churn?"
   ]
  },
  {
   "cell_type": "markdown",
   "id": "6a4809c8-a78e-4456-b346-e410ae5ae158",
   "metadata": {},
   "source": [
    "#### Looking at the internet service group, there are several options:\n",
    "    - Streaming TV\n",
    "    - Streaming movies\n",
    "    - Tech support\n",
    "    - Online security\n",
    "    - Device protection\n",
    "    - Online backup\n",
    "### Is whether a fiber customer churns independent of the options he or she has?"
   ]
  },
  {
   "cell_type": "code",
   "execution_count": 454,
   "id": "1fcc4d79-3d72-4fbb-8e42-48b95732615e",
   "metadata": {},
   "outputs": [],
   "source": [
    "# create df of train customers who are fiber internet\n",
    "fiber = train[train.internet_service_type == 'Fiber optic']"
   ]
  },
  {
   "cell_type": "code",
   "execution_count": 455,
   "id": "679dafcf-d377-4484-ba9f-1ee7bb5fc199",
   "metadata": {},
   "outputs": [
    {
     "data": {
      "text/plain": [
       "(1722, 29)"
      ]
     },
     "execution_count": 455,
     "metadata": {},
     "output_type": "execute_result"
    }
   ],
   "source": [
    "# plenty of samples\n",
    "fiber.shape"
   ]
  },
  {
   "cell_type": "code",
   "execution_count": 456,
   "id": "00908bd5-8e23-478b-82f8-72125d95e2b3",
   "metadata": {},
   "outputs": [
    {
     "data": {
      "text/plain": [
       "Index(['customer_id', 'gender', 'is_senior_citizen', 'partner', 'dependents',\n",
       "       'tenure', 'phone_service', 'multiple_lines', 'online_security',\n",
       "       'online_backup', 'device_protection', 'tech_support', 'streaming_tv',\n",
       "       'streaming_movies', 'paperless_billing', 'monthly_charges',\n",
       "       'total_charges', 'churn', 'contract_type', 'internet_service_type',\n",
       "       'payment_type', 'is_male', 'has_phone', 'has_internet_service',\n",
       "       'has_partner', 'has_dependent', 'is_paperless', 'is_month_to_month',\n",
       "       'is_autopay'],\n",
       "      dtype='object')"
      ]
     },
     "execution_count": 456,
     "metadata": {},
     "output_type": "execute_result"
    }
   ],
   "source": [
    "fiber.columns"
   ]
  },
  {
   "cell_type": "markdown",
   "id": "10508635-ac9b-4bab-bd2a-dadf9bcb27b5",
   "metadata": {},
   "source": [
    "## First testing whether having streaming or not makes a difference. Is the churn rate of those fiber customers with streaming signicantly higher than the fiber average? \n",
    "### Use a chi square test"
   ]
  },
  {
   "cell_type": "code",
   "execution_count": 751,
   "id": "c34b4b12-db0e-45b8-a4a5-7074353a0ee9",
   "metadata": {},
   "outputs": [
    {
     "name": "stderr",
     "output_type": "stream",
     "text": [
      "/var/folders/tt/99v8dp0d60sfw82fs51dhr4m0000gn/T/ipykernel_39583/1400377631.py:2: SettingWithCopyWarning: \n",
      "A value is trying to be set on a copy of a slice from a DataFrame.\n",
      "Try using .loc[row_indexer,col_indexer] = value instead\n",
      "\n",
      "See the caveats in the documentation: https://pandas.pydata.org/pandas-docs/stable/user_guide/indexing.html#returning-a-view-versus-a-copy\n",
      "  fiber['has_streaming'] = ((fiber.streaming_movies == 'Yes')|(fiber.streaming_tv == 'Yes'))\n"
     ]
    }
   ],
   "source": [
    "# Sets this variable to whether has any form of streaming (or both)\n",
    "fiber['has_streaming'] = ((fiber.streaming_movies == 'Yes')|(fiber.streaming_tv == 'Yes'))"
   ]
  },
  {
   "cell_type": "code",
   "execution_count": 752,
   "id": "1994d485-53aa-438c-9a1b-4f37019b2751",
   "metadata": {},
   "outputs": [
    {
     "data": {
      "text/plain": [
       "1222"
      ]
     },
     "execution_count": 752,
     "metadata": {},
     "output_type": "execute_result"
    }
   ],
   "source": [
    "fiber.has_streaming.sum()"
   ]
  },
  {
   "cell_type": "code",
   "execution_count": 753,
   "id": "a246805d-8e84-429a-a029-17b75b01724d",
   "metadata": {},
   "outputs": [
    {
     "data": {
      "text/plain": [
       "0.395253682487725"
      ]
     },
     "execution_count": 753,
     "metadata": {},
     "output_type": "execute_result"
    }
   ],
   "source": [
    "(fiber.churn[fiber.has_streaming]).mean()"
   ]
  },
  {
   "cell_type": "code",
   "execution_count": 754,
   "id": "1904e884-dfcf-43a6-a607-496d3bb78624",
   "metadata": {},
   "outputs": [
    {
     "data": {
      "text/plain": [
       "True     1222\n",
       "False     500\n",
       "Name: has_streaming, dtype: int64"
      ]
     },
     "execution_count": 754,
     "metadata": {},
     "output_type": "execute_result"
    }
   ],
   "source": [
    "fiber.has_streaming.value_counts()"
   ]
  },
  {
   "cell_type": "code",
   "execution_count": 755,
   "id": "dec61e5d-347d-4bda-8896-bafef412da29",
   "metadata": {},
   "outputs": [
    {
     "data": {
      "text/plain": [
       "0    987\n",
       "1    735\n",
       "Name: churn, dtype: int64"
      ]
     },
     "execution_count": 755,
     "metadata": {},
     "output_type": "execute_result"
    }
   ],
   "source": [
    "fiber.churn.value_counts()"
   ]
  },
  {
   "cell_type": "code",
   "execution_count": 756,
   "id": "cf1aa8c5-d63c-4429-8895-b1c71b0d832a",
   "metadata": {},
   "outputs": [
    {
     "name": "stdout",
     "output_type": "stream",
     "text": [
      "Observed\n",
      "\n",
      "[[248 739]\n",
      " [252 483]]\n",
      "---\n",
      "Expected\n",
      "\n",
      "[[286 700]\n",
      " [213 521]]\n",
      "---\n",
      "\n",
      "chi^2 = 16.7098\n",
      "p     = 0.0000\n",
      "We reject the null hypothesis\n"
     ]
    }
   ],
   "source": [
    "\n",
    "observed = pd.crosstab(fiber.churn, fiber.has_streaming)\n",
    "chi2, p, dof, expected = stats.chi2_contingency(observed)\n",
    "\n",
    "print('Observed\\n')\n",
    "print(observed.values)\n",
    "print('---\\nExpected\\n')\n",
    "print(expected.astype(int))\n",
    "print('---\\n')\n",
    "print(f'chi^2 = {chi2:.4f}')\n",
    "print(f'p     = {p:.4f}')\n",
    "if p < alpha:\n",
    "    print(\"We reject the null hypothesis\")\n",
    "else:\n",
    "    print(\"We fail to reject the null hypothesis\")\n",
    "# churn_rate.append((train.churn[train[group] == 1]).mean())\n",
    "# reject_null.append(p<alpha)\n",
    "    \n",
    "# results = pd.DataFrame(data = {'churn_rate':churn_rate,'reject_null':reject_null},index = groups)\n",
    "# results = results.sort_values(by= 'churn_rate')\n"
   ]
  },
  {
   "cell_type": "markdown",
   "id": "e216d80a-a99c-4e54-8cc3-3775de47e06d",
   "metadata": {},
   "source": [
    "- $H_0$: churn is independent of whether fiber customer has streaming or not\n",
    "- $H_a$: churn is not independent of whether fiber customer has streaming or not"
   ]
  },
  {
   "cell_type": "code",
   "execution_count": 757,
   "id": "c0719daa-929e-45dd-abb8-0494999288f7",
   "metadata": {},
   "outputs": [
    {
     "name": "stdout",
     "output_type": "stream",
     "text": [
      "Fiber streaming churn rate: 0.395253682487725\n",
      "Fiber non-streaming churn rate: 0.504\n",
      "Overall fiber churn rate: 0.4268292682926829\n",
      "Overall churn for all customers 0.2656845313690627\n"
     ]
    }
   ],
   "source": [
    "print(f\"Fiber streaming churn rate: {(fiber.churn[fiber.has_streaming]).mean()}\")\n",
    "print(f\"Fiber non-streaming churn rate: {(fiber.churn[~fiber.has_streaming]).mean()}\")\n",
    "print(f\"Overall fiber churn rate: {(fiber.churn.mean())}\")\n",
    "print(f\"Overall churn for all customers {train.churn.mean()}\")\n",
    "\n"
   ]
  },
  {
   "cell_type": "code",
   "execution_count": 758,
   "id": "c4ae7989-a27d-4b62-85df-7162998ed9a6",
   "metadata": {},
   "outputs": [
    {
     "data": {
      "text/html": [
       "<div>\n",
       "<style scoped>\n",
       "    .dataframe tbody tr th:only-of-type {\n",
       "        vertical-align: middle;\n",
       "    }\n",
       "\n",
       "    .dataframe tbody tr th {\n",
       "        vertical-align: top;\n",
       "    }\n",
       "\n",
       "    .dataframe thead th {\n",
       "        text-align: right;\n",
       "    }\n",
       "</style>\n",
       "<table border=\"1\" class=\"dataframe\">\n",
       "  <thead>\n",
       "    <tr style=\"text-align: right;\">\n",
       "      <th>has_streaming</th>\n",
       "      <th>False</th>\n",
       "      <th>True</th>\n",
       "    </tr>\n",
       "    <tr>\n",
       "      <th>churn</th>\n",
       "      <th></th>\n",
       "      <th></th>\n",
       "    </tr>\n",
       "  </thead>\n",
       "  <tbody>\n",
       "    <tr>\n",
       "      <th>0</th>\n",
       "      <td>248</td>\n",
       "      <td>739</td>\n",
       "    </tr>\n",
       "    <tr>\n",
       "      <th>1</th>\n",
       "      <td>252</td>\n",
       "      <td>483</td>\n",
       "    </tr>\n",
       "  </tbody>\n",
       "</table>\n",
       "</div>"
      ],
      "text/plain": [
       "has_streaming  False  True\n",
       "churn                     \n",
       "0                248   739\n",
       "1                252   483"
      ]
     },
     "execution_count": 758,
     "metadata": {},
     "output_type": "execute_result"
    }
   ],
   "source": [
    "observed"
   ]
  },
  {
   "cell_type": "markdown",
   "id": "26858e21-8949-483d-880e-dd4fb9a61f06",
   "metadata": {
    "tags": []
   },
   "source": [
    "## We reject the null hypothesis that churn is independent of whether the fiber customer is streaming or not. The churn rate of fiber customers with streaming is lower than the average fiber customer. Customers seem to be happy with our streaming service. The churn rate of non-streaming customers is actually higher than average!"
   ]
  },
  {
   "cell_type": "markdown",
   "id": "b2f44a19-4c26-4d5b-a3b6-b2c543fe530c",
   "metadata": {},
   "source": [
    "### looking at the non-streamers - is there a specific option that leads to lower churn rate? Will check using chi squared"
   ]
  },
  {
   "cell_type": "code",
   "execution_count": 645,
   "id": "8dc53587-cbe3-4a1a-92c3-e1b35fc339e5",
   "metadata": {},
   "outputs": [],
   "source": [
    "fiber_non_streamers = fiber[~fiber.has_streaming]"
   ]
  },
  {
   "cell_type": "code",
   "execution_count": 646,
   "id": "b5b566fe-d64f-47ba-93a8-011ebf550dff",
   "metadata": {},
   "outputs": [
    {
     "data": {
      "text/plain": [
       "(500, 30)"
      ]
     },
     "execution_count": 646,
     "metadata": {},
     "output_type": "execute_result"
    }
   ],
   "source": [
    "fiber_non_streamers.shape"
   ]
  },
  {
   "cell_type": "code",
   "execution_count": 647,
   "id": "740b89dd-6225-4e25-929f-0c88116e44db",
   "metadata": {},
   "outputs": [],
   "source": [
    "internet_options = ['online_security',\n",
    "       'online_backup', 'device_protection', 'tech_support']"
   ]
  },
  {
   "cell_type": "code",
   "execution_count": 648,
   "id": "c456c02b-9338-4124-8ab7-54b0d9b97b5d",
   "metadata": {},
   "outputs": [
    {
     "data": {
      "text/plain": [
       "online_security  online_backup  device_protection  tech_support\n",
       "No               No             No                 No              219\n",
       "                 Yes            No                 No               65\n",
       "                 No             Yes                No               46\n",
       "Yes              No             No                 No               28\n",
       "No               Yes            Yes                No               25\n",
       "Yes              Yes            Yes                No               18\n",
       "No               Yes            Yes                Yes              15\n",
       "Yes              Yes            No                 No               15\n",
       "No               No             Yes                Yes              13\n",
       "Yes              No             Yes                No               13\n",
       "No               No             No                 Yes              11\n",
       "Yes              Yes            No                 Yes              11\n",
       "No               Yes            No                 Yes               6\n",
       "Yes              Yes            Yes                Yes               6\n",
       "                 No             No                 Yes               5\n",
       "                                Yes                Yes               4\n",
       "dtype: int64"
      ]
     },
     "execution_count": 648,
     "metadata": {},
     "output_type": "execute_result"
    }
   ],
   "source": [
    "fiber_non_streamers[internet_options].value_counts()"
   ]
  },
  {
   "cell_type": "markdown",
   "id": "c989ebb4-3509-446c-954d-4366db03ba8b",
   "metadata": {},
   "source": [
    "### Independent samples to compare churn rates between them. Will consider the following:\n",
    "    - Online backup only\n",
    "    - Device protection only\n",
    "    - Online security only\n",
    "    - Tech support only"
   ]
  },
  {
   "cell_type": "code",
   "execution_count": 649,
   "id": "783e80c9-d118-4935-8f11-65bba0c6747a",
   "metadata": {},
   "outputs": [],
   "source": [
    "# encode option variables\n",
    "to_binary_dict = {'Yes':1,'No':0}\n",
    "fiber_non_streamers[['online_security','online_backup','device_protection','tech_support']] = fiber_non_streamers[['online_security','online_backup','device_protection','tech_support']].applymap(to_binary_dict.get)"
   ]
  },
  {
   "cell_type": "code",
   "execution_count": 650,
   "id": "f9c08cfb-be86-484f-a5c1-875b4ba16e25",
   "metadata": {},
   "outputs": [
    {
     "name": "stderr",
     "output_type": "stream",
     "text": [
      "/var/folders/tt/99v8dp0d60sfw82fs51dhr4m0000gn/T/ipykernel_39583/3590322596.py:1: SettingWithCopyWarning: \n",
      "A value is trying to be set on a copy of a slice from a DataFrame.\n",
      "Try using .loc[row_indexer,col_indexer] = value instead\n",
      "\n",
      "See the caveats in the documentation: https://pandas.pydata.org/pandas-docs/stable/user_guide/indexing.html#returning-a-view-versus-a-copy\n",
      "  fiber_non_streamers['online_security_only'] = ((fiber_non_streamers.online_security == 1)&(fiber_non_streamers[['online_security','online_backup','device_protection','tech_support']].sum(axis=1)==1))\n",
      "/var/folders/tt/99v8dp0d60sfw82fs51dhr4m0000gn/T/ipykernel_39583/3590322596.py:2: SettingWithCopyWarning: \n",
      "A value is trying to be set on a copy of a slice from a DataFrame.\n",
      "Try using .loc[row_indexer,col_indexer] = value instead\n",
      "\n",
      "See the caveats in the documentation: https://pandas.pydata.org/pandas-docs/stable/user_guide/indexing.html#returning-a-view-versus-a-copy\n",
      "  fiber_non_streamers['device_protection_only'] = ((fiber_non_streamers.device_protection == 1)&(fiber_non_streamers[['online_security','online_backup','device_protection','tech_support']].sum(axis=1)==1))\n",
      "/var/folders/tt/99v8dp0d60sfw82fs51dhr4m0000gn/T/ipykernel_39583/3590322596.py:3: SettingWithCopyWarning: \n",
      "A value is trying to be set on a copy of a slice from a DataFrame.\n",
      "Try using .loc[row_indexer,col_indexer] = value instead\n",
      "\n",
      "See the caveats in the documentation: https://pandas.pydata.org/pandas-docs/stable/user_guide/indexing.html#returning-a-view-versus-a-copy\n",
      "  fiber_non_streamers['tech_support_only'] = ((fiber_non_streamers.tech_support == 1)&(fiber_non_streamers[['online_security','online_backup','device_protection','tech_support']].sum(axis=1)==1))\n",
      "/var/folders/tt/99v8dp0d60sfw82fs51dhr4m0000gn/T/ipykernel_39583/3590322596.py:4: SettingWithCopyWarning: \n",
      "A value is trying to be set on a copy of a slice from a DataFrame.\n",
      "Try using .loc[row_indexer,col_indexer] = value instead\n",
      "\n",
      "See the caveats in the documentation: https://pandas.pydata.org/pandas-docs/stable/user_guide/indexing.html#returning-a-view-versus-a-copy\n",
      "  fiber_non_streamers['online_backup_only'] = ((fiber_non_streamers.online_backup == 1)&(fiber_non_streamers[['online_security','online_backup','device_protection','tech_support']].sum(axis=1)==1))\n"
     ]
    }
   ],
   "source": [
    "fiber_non_streamers['online_security_only'] = ((fiber_non_streamers.online_security == 1)&(fiber_non_streamers[['online_security','online_backup','device_protection','tech_support']].sum(axis=1)==1))\n",
    "fiber_non_streamers['device_protection_only'] = ((fiber_non_streamers.device_protection == 1)&(fiber_non_streamers[['online_security','online_backup','device_protection','tech_support']].sum(axis=1)==1))\n",
    "fiber_non_streamers['tech_support_only'] = ((fiber_non_streamers.tech_support == 1)&(fiber_non_streamers[['online_security','online_backup','device_protection','tech_support']].sum(axis=1)==1))\n",
    "fiber_non_streamers['online_backup_only'] = ((fiber_non_streamers.online_backup == 1)&(fiber_non_streamers[['online_security','online_backup','device_protection','tech_support']].sum(axis=1)==1))"
   ]
  },
  {
   "cell_type": "code",
   "execution_count": 654,
   "id": "69a22cd2-2c4e-418e-946f-235df76d8b10",
   "metadata": {},
   "outputs": [
    {
     "name": "stdout",
     "output_type": "stream",
     "text": [
      "online_security_only\n",
      "Observed\n",
      "\n",
      "[[230  18]\n",
      " [242  10]]\n",
      "---\n",
      "Expected\n",
      "\n",
      "[[234  13]\n",
      " [237  14]]\n",
      "---\n",
      "\n",
      "chi^2 = 1.9745\n",
      "p     = 0.1600\n",
      "We fail to reject the null hypothesis\n",
      "online_backup_only\n",
      "Observed\n",
      "\n",
      "[[220  28]\n",
      " [215  37]]\n",
      "---\n",
      "Expected\n",
      "\n",
      "[[215  32]\n",
      " [219  32]]\n",
      "---\n",
      "\n",
      "chi^2 = 0.9895\n",
      "p     = 0.3199\n",
      "We fail to reject the null hypothesis\n",
      "device_protection_only\n",
      "Observed\n",
      "\n",
      "[[225  23]\n",
      " [229  23]]\n",
      "---\n",
      "Expected\n",
      "\n",
      "[[225  22]\n",
      " [228  23]]\n",
      "---\n",
      "\n",
      "chi^2 = 0.0000\n",
      "p     = 1.0000\n",
      "We fail to reject the null hypothesis\n",
      "tech_support_only\n",
      "Observed\n",
      "\n",
      "[[242   6]\n",
      " [247   5]]\n",
      "---\n",
      "Expected\n",
      "\n",
      "[[242   5]\n",
      " [246   5]]\n",
      "---\n",
      "\n",
      "chi^2 = 0.0007\n",
      "p     = 0.9786\n",
      "We fail to reject the null hypothesis\n"
     ]
    }
   ],
   "source": [
    "internet_options = ['online_security_only',\n",
    "       'online_backup_only', 'device_protection_only', 'tech_support_only']\n",
    "reject_null = []\n",
    "churn_rate=[]\n",
    "\n",
    "for option in internet_options:\n",
    "    observed = pd.crosstab(fiber_non_streamers.churn, fiber_non_streamers[option])\n",
    "    chi2, p, dof, expected = stats.chi2_contingency(observed)\n",
    "    print(option)\n",
    "    print('Observed\\n')\n",
    "    print(observed.values)\n",
    "    print('---\\nExpected\\n')\n",
    "    print(expected.astype(int))\n",
    "    print('---\\n')\n",
    "    print(f'chi^2 = {chi2:.4f}')\n",
    "    print(f'p     = {p:.4f}')\n",
    "    if p < alpha:\n",
    "        print(\"We reject the null hypothesis\")\n",
    "    else:\n",
    "        print(\"We fail to reject the null hypothesis\")\n",
    "    churn_rate.append((fiber_non_streamers.churn[fiber_non_streamers[option] == 1]).mean())\n",
    "    reject_null.append(p<alpha)\n",
    "    \n",
    "results = pd.DataFrame(data = {'churn_rate':churn_rate,'reject_null':reject_null},index = internet_options)\n",
    "results = results.sort_values(by= 'churn_rate')"
   ]
  },
  {
   "cell_type": "code",
   "execution_count": 655,
   "id": "8e577b23-2dc0-46bc-9b0e-216683725d27",
   "metadata": {},
   "outputs": [
    {
     "data": {
      "text/html": [
       "<div>\n",
       "<style scoped>\n",
       "    .dataframe tbody tr th:only-of-type {\n",
       "        vertical-align: middle;\n",
       "    }\n",
       "\n",
       "    .dataframe tbody tr th {\n",
       "        vertical-align: top;\n",
       "    }\n",
       "\n",
       "    .dataframe thead th {\n",
       "        text-align: right;\n",
       "    }\n",
       "</style>\n",
       "<table border=\"1\" class=\"dataframe\">\n",
       "  <thead>\n",
       "    <tr style=\"text-align: right;\">\n",
       "      <th></th>\n",
       "      <th>churn_rate</th>\n",
       "      <th>reject_null</th>\n",
       "    </tr>\n",
       "  </thead>\n",
       "  <tbody>\n",
       "    <tr>\n",
       "      <th>online_security_only</th>\n",
       "      <td>0.357143</td>\n",
       "      <td>False</td>\n",
       "    </tr>\n",
       "    <tr>\n",
       "      <th>tech_support_only</th>\n",
       "      <td>0.454545</td>\n",
       "      <td>False</td>\n",
       "    </tr>\n",
       "    <tr>\n",
       "      <th>device_protection_only</th>\n",
       "      <td>0.500000</td>\n",
       "      <td>False</td>\n",
       "    </tr>\n",
       "    <tr>\n",
       "      <th>online_backup_only</th>\n",
       "      <td>0.569231</td>\n",
       "      <td>False</td>\n",
       "    </tr>\n",
       "  </tbody>\n",
       "</table>\n",
       "</div>"
      ],
      "text/plain": [
       "                        churn_rate  reject_null\n",
       "online_security_only      0.357143        False\n",
       "tech_support_only         0.454545        False\n",
       "device_protection_only    0.500000        False\n",
       "online_backup_only        0.569231        False"
      ]
     },
     "execution_count": 655,
     "metadata": {},
     "output_type": "execute_result"
    }
   ],
   "source": [
    "results"
   ]
  },
  {
   "cell_type": "code",
   "execution_count": 657,
   "id": "527d5122-0629-4ab3-a9c0-0ba664007817",
   "metadata": {},
   "outputs": [],
   "source": [
    "baseline_churn = (fiber_non_streamers.churn == 1).mean()"
   ]
  },
  {
   "cell_type": "code",
   "execution_count": 659,
   "id": "3db0c9f9-aa8a-4e86-9c8f-d874b99c367d",
   "metadata": {},
   "outputs": [
    {
     "data": {
      "text/plain": [
       "<matplotlib.lines.Line2D at 0x7fe417857b80>"
      ]
     },
     "execution_count": 659,
     "metadata": {},
     "output_type": "execute_result"
    },
    {
     "data": {
      "image/png": "[encoded data removed]",
      "text/plain": [
       "<Figure size 1008x648 with 1 Axes>"
      ]
     },
     "metadata": {},
     "output_type": "display_data"
    }
   ],
   "source": [
    "sns.set(rc={'figure.figsize':(14,9)})\n",
    "sns.barplot(data = results, x = results.index ,y = 'churn_rate', hue = 'reject_null')\n",
    "plt.tight_layout()\n",
    "plt.title('Churn Rates by Group - Chi Squared results\\nGreen line shows fiber non streamer churn rate')\n",
    "plt.axhline(y=baseline_churn, color = 'green')\n",
    "# plt.bar_label(splot.containers[0])"
   ]
  },
  {
   "cell_type": "markdown",
   "id": "21b6c8c4-2cb0-4ace-9eea-24e110856d71",
   "metadata": {},
   "source": [
    "### We cannot reject the null hypothesis for any of the options alone. Seems to imply that whether a customer churns or not is independent of which options they have!"
   ]
  },
  {
   "cell_type": "markdown",
   "id": "2f7ecf94-aa3f-4efb-8d0c-fdaf01d97840",
   "metadata": {},
   "source": [
    "## Do non streaming fiber customers who churn pay more than those who don't churn?\n",
    "\n",
    "### Will do a two sample t - test\n",
    " - $H_0$ non streaming churners pay on average the same or less than that of non streaming non-churners\n",
    " - $H_a$ non streaming churners pay on average more than non streaming non-churners"
   ]
  },
  {
   "cell_type": "code",
   "execution_count": 661,
   "id": "6fc3c975-03e8-4aa1-85c3-45df6721ad18",
   "metadata": {},
   "outputs": [],
   "source": [
    "fiber_streamers = fiber[fiber.has_streaming]"
   ]
  },
  {
   "cell_type": "code",
   "execution_count": 670,
   "id": "33372250-496f-406f-b312-f60c100d7f0f",
   "metadata": {},
   "outputs": [],
   "source": [
    "# performe a levene test to check for equal variances\n",
    "# H0 : variances are equal\n",
    "# HAL variances not equal\n",
    "stat, p = stats.levene(fiber_non_streamers[fiber_non_streamers.churn==1].monthly_charges, fiber_non_streamers[fiber_non_streamers.churn==0].monthly_charges)"
   ]
  },
  {
   "cell_type": "code",
   "execution_count": 671,
   "id": "87db72f6-04e7-40bc-ab24-c5a27923331b",
   "metadata": {},
   "outputs": [
    {
     "data": {
      "text/plain": [
       "True"
      ]
     },
     "execution_count": 671,
     "metadata": {},
     "output_type": "execute_result"
    }
   ],
   "source": [
    "p<alpha"
   ]
  },
  {
   "cell_type": "code",
   "execution_count": 672,
   "id": "7e469787-261e-4ac1-a384-9e05199674ba",
   "metadata": {},
   "outputs": [
    {
     "data": {
      "text/plain": [
       "24.953417125150185"
      ]
     },
     "execution_count": 672,
     "metadata": {},
     "output_type": "execute_result"
    }
   ],
   "source": [
    "# reject null -variances are not equal\n",
    "fiber_non_streamers[fiber_non_streamers.churn==1].monthly_charges.var()"
   ]
  },
  {
   "cell_type": "code",
   "execution_count": 673,
   "id": "0354574f-281a-4ab3-8132-84ad03b9afa7",
   "metadata": {},
   "outputs": [
    {
     "data": {
      "text/plain": [
       "45.476457979626495"
      ]
     },
     "execution_count": 673,
     "metadata": {},
     "output_type": "execute_result"
    }
   ],
   "source": [
    "fiber_non_streamers[fiber_non_streamers.churn==0].monthly_charges.var()"
   ]
  },
  {
   "cell_type": "markdown",
   "id": "4d064913-09ac-4e99-8846-8c5c05b84ce5",
   "metadata": {},
   "source": []
  },
  {
   "cell_type": "code",
   "execution_count": 675,
   "id": "bed648cf-a558-49b9-94df-5a58ef988452",
   "metadata": {},
   "outputs": [
    {
     "data": {
      "text/plain": [
       "(-6.649883914355402, 4.2124135327910584e-11)"
      ]
     },
     "execution_count": 675,
     "metadata": {},
     "output_type": "execute_result"
    }
   ],
   "source": [
    "t, p = stats.ttest_ind(fiber_non_streamers[fiber_non_streamers.churn==1].monthly_charges, fiber_non_streamers[fiber_non_streamers.churn==0].monthly_charges,equal_var=False)\n",
    "t, p/2"
   ]
  },
  {
   "cell_type": "code",
   "execution_count": 682,
   "id": "5405c2fd-2777-48e5-8ead-7e1709ab0b9e",
   "metadata": {},
   "outputs": [
    {
     "name": "stdout",
     "output_type": "stream",
     "text": [
      "Average monthly charge for churning non streaming fiber customers :75.47063492063492\n",
      "Average monthly charge for non churning non streaming fiber customers :79.00443548387099\n"
     ]
    }
   ],
   "source": [
    "print(f\"Average monthly charge for churning non streaming fiber customers :{fiber_non_streamers[fiber_non_streamers.churn==1].monthly_charges.mean()}\")\n",
    "print(f\"Average monthly charge for non churning non streaming fiber customers :{fiber_non_streamers[fiber_non_streamers.churn==0].monthly_charges.mean()}\")"
   ]
  },
  {
   "cell_type": "markdown",
   "id": "07eb664f-bd3d-4570-b69f-b814035a00d4",
   "metadata": {},
   "source": [
    "## p/2 is less than alpha but t is > 0 , so we fail to reject the null hypothesis\n",
    "## Non streaming fiber churners do not pay more than streaming churners!!"
   ]
  },
  {
   "cell_type": "markdown",
   "id": "67b52611-a498-4630-aa45-82a9ef181324",
   "metadata": {},
   "source": [
    "# Is there a significant difference in churn between non streaming fiber customers vs dsl customers? "
   ]
  },
  {
   "cell_type": "code",
   "execution_count": null,
   "id": "a600cc4a-9bfe-411a-8296-c59c863a7f1d",
   "metadata": {},
   "outputs": [],
   "source": []
  },
  {
   "cell_type": "markdown",
   "id": "3b1408ef-eb60-48e4-812f-b8d990f22ffc",
   "metadata": {
    "jupyter": {
     "source_hidden": true
    },
    "tags": []
   },
   "source": [
    "## Categorical variables"
   ]
  },
  {
   "cell_type": "markdown",
   "id": "1b6c60f8-5f0e-4df5-93b8-a89aa8f002af",
   "metadata": {},
   "source": [
    "### Takeaways:\n",
    "- Evenly distributed by gender and partner\n",
    "- Two broad categories lead to subcategories that would be worthwhile to look at individually:\n",
    "    - Phone service or not: \n",
    "        - Multiple lines\n",
    "    - Internet Service or not:\n",
    "        - online security\n",
    "        - online backup\n",
    "        - tech support\n",
    "        - device protection\n",
    "        - streaming tv\n",
    "        - streaming movies\n",
    "        - service type (DSL vs Fiber)\n",
    "     "
   ]
  },
  {
   "cell_type": "code",
   "execution_count": 19,
   "id": "b0413969-e391-46ef-945d-ba5cda327002",
   "metadata": {},
   "outputs": [],
   "source": [
    "target = 'churn'"
   ]
  },
  {
   "cell_type": "code",
   "execution_count": 12,
   "id": "c8595dce-6105-4c7a-9ffb-d8f18d85bdfd",
   "metadata": {},
   "outputs": [
    {
     "data": {
      "text/plain": [
       "Index(['gender', 'partner', 'dependents', 'phone_service', 'multiple_lines',\n",
       "       'online_security', 'online_backup', 'device_protection', 'tech_support',\n",
       "       'streaming_tv', 'streaming_movies', 'paperless_billing', 'churn',\n",
       "       'contract_type', 'internet_service_type', 'payment_type'],\n",
       "      dtype='object')"
      ]
     },
     "execution_count": 12,
     "metadata": {},
     "output_type": "execute_result"
    }
   ],
   "source": [
    "catcol"
   ]
  },
  {
   "cell_type": "code",
   "execution_count": 30,
   "id": "31eb4d34-4f2d-48c4-92c0-7e6a7b3c7478",
   "metadata": {},
   "outputs": [
    {
     "data": {
      "text/plain": [
       "5310    Yes\n",
       "3790    Yes\n",
       "4398    Yes\n",
       "2635     No\n",
       "2986    Yes\n",
       "       ... \n",
       "6230    Yes\n",
       "356      No\n",
       "2128    Yes\n",
       "3586     No\n",
       "6817    Yes\n",
       "Name: partner, Length: 3943, dtype: object"
      ]
     },
     "execution_count": 30,
     "metadata": {},
     "output_type": "execute_result"
    }
   ],
   "source": [
    "train['partner']"
   ]
  },
  {
   "cell_type": "code",
   "execution_count": null,
   "id": "355686bc-3b46-41b7-b976-5dafaba9f3ff",
   "metadata": {},
   "outputs": [],
   "source": []
  }
 ],
 "metadata": {
  "kernelspec": {
   "display_name": "Python 3.9.7 64-bit ('base': conda)",
   "language": "python",
   "name": "python397jvsc74a57bd038cca0c38332a56087b24af0bc80247f4fced29cb4f7f437d91dc159adec9c4e"
  },
  "language_info": {
   "codemirror_mode": {
    "name": "ipython",
    "version": 3
   },
   "file_extension": ".py",
   "mimetype": "text/x-python",
   "name": "python",
   "nbconvert_exporter": "python",
   "pygments_lexer": "ipython3",
   "version": "3.9.7"
  }
 },
 "nbformat": 4,
 "nbformat_minor": 5
}
