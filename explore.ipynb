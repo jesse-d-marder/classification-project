{
 "cells": [
  {
   "cell_type": "code",
   "execution_count": 118,
   "id": "5eb7e8ce-4f58-46cd-87ba-c1614c41e4e8",
   "metadata": {},
   "outputs": [],
   "source": [
    "from acquire import get_telco_data\n",
    "from prepare import train_validate_test_split\n",
    "import pandas as pd\n",
    "import numpy as np\n",
    "import matplotlib.pyplot as plt\n",
    "import seaborn as sns\n",
    "import explore\n",
    "from scipy import stats"
   ]
  },
  {
   "cell_type": "code",
   "execution_count": 139,
   "id": "0a70fbe3-d8de-463e-8b51-ab73ea9c4089",
   "metadata": {},
   "outputs": [
    {
     "name": "stdout",
     "output_type": "stream",
     "text": [
      "Using cached data\n"
     ]
    }
   ],
   "source": [
    "df = get_telco_data()"
   ]
  },
  {
   "cell_type": "code",
   "execution_count": 140,
   "id": "1599aae9-9228-4347-8142-3fc6d5fe4422",
   "metadata": {},
   "outputs": [
    {
     "data": {
      "text/plain": [
       "(7043, 24)"
      ]
     },
     "execution_count": 140,
     "metadata": {},
     "output_type": "execute_result"
    }
   ],
   "source": [
    "df.shape"
   ]
  },
  {
   "cell_type": "markdown",
   "id": "807c2d17-2660-4b11-814e-cccd9c32d91c",
   "metadata": {
    "tags": []
   },
   "source": [
    "# Prepare Exploration (Pre-split)"
   ]
  },
  {
   "cell_type": "code",
   "execution_count": 141,
   "id": "5f6f3412-22b4-4fbd-a0a2-a5c8cde46920",
   "metadata": {},
   "outputs": [],
   "source": [
    "# Initially drop redundant columns\n",
    "df = df.drop(columns = ['payment_type_id','internet_service_type_id','contract_type_id'])"
   ]
  },
  {
   "cell_type": "code",
   "execution_count": 142,
   "id": "210c41a7-123b-4d03-a91c-711d887d3452",
   "metadata": {},
   "outputs": [
    {
     "data": {
      "text/plain": [
       "customer_id               0\n",
       "gender                    0\n",
       "senior_citizen            0\n",
       "partner                   0\n",
       "dependents                0\n",
       "tenure                    0\n",
       "phone_service             0\n",
       "multiple_lines            0\n",
       "online_security           0\n",
       "online_backup             0\n",
       "device_protection         0\n",
       "tech_support              0\n",
       "streaming_tv              0\n",
       "streaming_movies          0\n",
       "paperless_billing         0\n",
       "monthly_charges           0\n",
       "total_charges            11\n",
       "churn                     0\n",
       "contract_type             0\n",
       "internet_service_type     0\n",
       "payment_type              0\n",
       "dtype: int64"
      ]
     },
     "execution_count": 142,
     "metadata": {},
     "output_type": "execute_result"
    }
   ],
   "source": [
    "# From prior exploration of dataset a small number of the total_charges are just whitespace - these are all new customers who haven't been with the company for >1 month.\n",
    "# Given that it is a very small proportion of the total dataset these rows will be deleted for ease of computation later on\n",
    "(df == \" \").sum()"
   ]
  },
  {
   "cell_type": "code",
   "execution_count": 143,
   "id": "efc8c28d-6bbd-40bb-bb4a-bc6ad990a379",
   "metadata": {},
   "outputs": [],
   "source": [
    "df = df.drop(df[df.total_charges == \" \"].index)"
   ]
  },
  {
   "cell_type": "code",
   "execution_count": 144,
   "id": "d11f15d2-19be-4b21-a623-61b3eac9bff7",
   "metadata": {},
   "outputs": [
    {
     "data": {
      "text/plain": [
       "0"
      ]
     },
     "execution_count": 144,
     "metadata": {},
     "output_type": "execute_result"
    }
   ],
   "source": [
    "# Confirm no more blanks\n",
    "(df == \" \").sum().sum()"
   ]
  },
  {
   "cell_type": "code",
   "execution_count": 145,
   "id": "bbdcfb71-b175-487d-95e1-592b739fe625",
   "metadata": {},
   "outputs": [
    {
     "data": {
      "text/plain": [
       "0"
      ]
     },
     "execution_count": 145,
     "metadata": {},
     "output_type": "execute_result"
    }
   ],
   "source": [
    "# Confirm no nulls\n",
    "(df.isna().sum()).sum()"
   ]
  },
  {
   "cell_type": "code",
   "execution_count": 146,
   "id": "7a8d3277-8d09-4023-8b3a-16ae57487375",
   "metadata": {},
   "outputs": [],
   "source": [
    "# Convert total_charges to float for later analysis\n",
    "df.total_charges = df.total_charges.astype('float64')"
   ]
  },
  {
   "cell_type": "code",
   "execution_count": 147,
   "id": "140863b4-c4d1-474f-906b-db9bb71f59fc",
   "metadata": {},
   "outputs": [
    {
     "data": {
      "text/plain": [
       "customer_id               object\n",
       "gender                    object\n",
       "senior_citizen             int64\n",
       "partner                   object\n",
       "dependents                object\n",
       "tenure                     int64\n",
       "phone_service             object\n",
       "multiple_lines            object\n",
       "online_security           object\n",
       "online_backup             object\n",
       "device_protection         object\n",
       "tech_support              object\n",
       "streaming_tv              object\n",
       "streaming_movies          object\n",
       "paperless_billing         object\n",
       "monthly_charges          float64\n",
       "total_charges            float64\n",
       "churn                     object\n",
       "contract_type             object\n",
       "internet_service_type     object\n",
       "payment_type              object\n",
       "dtype: object"
      ]
     },
     "execution_count": 147,
     "metadata": {},
     "output_type": "execute_result"
    }
   ],
   "source": [
    "# Confirm dtypes\n",
    "df.dtypes"
   ]
  },
  {
   "cell_type": "code",
   "execution_count": 154,
   "id": "da88beae-4d10-4fff-bf92-950454690b7d",
   "metadata": {},
   "outputs": [
    {
     "data": {
      "text/plain": [
       "Fiber optic    3096\n",
       "DSL            2416\n",
       "None           1520\n",
       "Name: internet_service_type, dtype: int64"
      ]
     },
     "execution_count": 154,
     "metadata": {},
     "output_type": "execute_result"
    }
   ],
   "source": [
    "df.internet_service_type.value_counts()"
   ]
  },
  {
   "cell_type": "code",
   "execution_count": 156,
   "id": "1dc56fdd-8875-404d-82c0-283f2597d555",
   "metadata": {},
   "outputs": [
    {
     "data": {
      "text/plain": [
       "Electronic check             2365\n",
       "Mailed check                 1604\n",
       "Bank transfer (automatic)    1542\n",
       "Credit card (automatic)      1521\n",
       "Name: payment_type, dtype: int64"
      ]
     },
     "execution_count": 156,
     "metadata": {},
     "output_type": "execute_result"
    }
   ],
   "source": [
    "df.payment_type.value_counts()"
   ]
  },
  {
   "cell_type": "code",
   "execution_count": 148,
   "id": "0126b4dd-8dea-449d-ae59-4456bf3d9fb4",
   "metadata": {},
   "outputs": [],
   "source": [
    "df.phone_service = df.phone_service.map({'Yes':1,'No':0})\n",
    "df.churn = df.churn.map({'Yes':1,'No':0})\n",
    "df.partner = df.partner.map({'Yes':1,'No':0})\n",
    "df.dependents = df.dependents.map({'Yes':1,'No':0})\n",
    "df.paperless_billing = df.paperless_billing.map({'Yes':1,'No':0})\n",
    "df.contract_type = df.contract_type.map({'Two year':0,'One year':0})\n",
    "df.payment_type = df.payment_type.map({"
   ]
  },
  {
   "cell_type": "code",
   "execution_count": 149,
   "id": "05e7f975-a3c2-408b-ad4c-f8807882ba64",
   "metadata": {},
   "outputs": [],
   "source": [
    "# # Determine the categorical variables - here defined as object data type (non-numeric) and with fewer than 5 values\n",
    "# catcol = df.columns[(df.nunique()<5)&(df.dtypes == 'object')]\n",
    "# # Encode categoricals\n",
    "# dummy_df = pd.get_dummies(df[catcol], dummy_na=False, drop_first=True)\n",
    "# # Concatenate dummy df to original df\n",
    "# df = pd.concat([df,dummy_df],axis=1)\n",
    "# # Remove the original categorical columns after encoding\n",
    "# df = df.drop(columns=catcol)"
   ]
  },
  {
   "cell_type": "markdown",
   "id": "b52692e3-6e5f-44cd-a067-ce8289f7b809",
   "metadata": {},
   "source": [
    "# Exploration (Post-split)"
   ]
  },
  {
   "cell_type": "code",
   "execution_count": 150,
   "id": "83531997-db1d-445f-8ba6-21916044ac9d",
   "metadata": {},
   "outputs": [],
   "source": [
    "train, validate, test = train_validate_test_split(df, target = 'churn')"
   ]
  },
  {
   "cell_type": "code",
   "execution_count": 151,
   "id": "573ab61d-252d-44b9-9737-bd3024f765fe",
   "metadata": {},
   "outputs": [
    {
     "data": {
      "text/plain": [
       "((3937, 21), (1688, 21), (1407, 21))"
      ]
     },
     "execution_count": 151,
     "metadata": {},
     "output_type": "execute_result"
    }
   ],
   "source": [
    "train.shape, validate.shape, test.shape"
   ]
  },
  {
   "cell_type": "code",
   "execution_count": 152,
   "id": "a3acc0d8-88e9-47e1-b013-bbc8b2619cbf",
   "metadata": {},
   "outputs": [
    {
     "data": {
      "text/plain": [
       "Index(['customer_id', 'gender', 'senior_citizen', 'partner', 'dependents',\n",
       "       'tenure', 'phone_service', 'multiple_lines', 'online_security',\n",
       "       'online_backup', 'device_protection', 'tech_support', 'streaming_tv',\n",
       "       'streaming_movies', 'paperless_billing', 'monthly_charges',\n",
       "       'total_charges', 'churn', 'contract_type', 'internet_service_type',\n",
       "       'payment_type'],\n",
       "      dtype='object')"
      ]
     },
     "execution_count": 152,
     "metadata": {},
     "output_type": "execute_result"
    }
   ],
   "source": [
    "train.columns"
   ]
  },
  {
   "cell_type": "code",
   "execution_count": 153,
   "id": "1b491684-4e04-4932-8465-99b145816051",
   "metadata": {},
   "outputs": [
    {
     "data": {
      "text/plain": [
       "0.2656845313690627"
      ]
     },
     "execution_count": 153,
     "metadata": {},
     "output_type": "execute_result"
    }
   ],
   "source": [
    "# Baseline churn rate\n",
    "(train.churn == 1).mean()"
   ]
  },
  {
   "cell_type": "markdown",
   "id": "c83fbbc6-2d8c-45d9-a8f6-2531dd947649",
   "metadata": {},
   "source": [
    "## Do any groups churn at rates significantly above the overall mean?\n",
    "\n",
    "### Groups defined as:\n",
    "    - senior citizen\n",
    "    - male vs female\n",
    "    - partner vs no partner\n",
    "    - dependent vs no dependent\n",
    "    - Auto vs manual payers\n",
    "    - Paperless billing vs not\n",
    "    - Month to month vs long term\n",
    "    "
   ]
  },
  {
   "cell_type": "code",
   "execution_count": 137,
   "id": "460d4866-bee3-43cd-8f31-bba28a9c73e6",
   "metadata": {},
   "outputs": [
    {
     "data": {
      "text/plain": [
       "Index(['customer_id', 'gender', 'senior_citizen', 'partner', 'dependents',\n",
       "       'tenure', 'phone_service', 'multiple_lines', 'online_security',\n",
       "       'online_backup', 'device_protection', 'tech_support', 'streaming_tv',\n",
       "       'streaming_movies', 'paperless_billing', 'monthly_charges',\n",
       "       'total_charges', 'churn', 'contract_type', 'internet_service_type',\n",
       "       'payment_type'],\n",
       "      dtype='object')"
      ]
     },
     "execution_count": 137,
     "metadata": {},
     "output_type": "execute_result"
    }
   ],
   "source": [
    "train.columns"
   ]
  },
  {
   "cell_type": "code",
   "execution_count": 136,
   "id": "5b65910b-38d7-4406-995e-a6dfba751759",
   "metadata": {},
   "outputs": [
    {
     "data": {
      "text/plain": [
       "(4.100283109621952, 1.3314799076710632e-15)"
      ]
     },
     "execution_count": 136,
     "metadata": {},
     "output_type": "execute_result"
    }
   ],
   "source": [
    "groups = ['gender', 'senior_citizen', 'partner', 'dependents', 'paperless_billing'\n",
    "p, t = stats.ttest_1samp(train.churn[train.senior_citizen == 1], train.churn.mean())\n",
    "p/2, t"
   ]
  },
  {
   "cell_type": "markdown",
   "id": "3b1408ef-eb60-48e4-812f-b8d990f22ffc",
   "metadata": {
    "tags": []
   },
   "source": [
    "## Categorical variables"
   ]
  },
  {
   "cell_type": "markdown",
   "id": "1b6c60f8-5f0e-4df5-93b8-a89aa8f002af",
   "metadata": {},
   "source": [
    "### Takeaways:\n",
    "- Evenly distributed by gender and partner\n",
    "- Two broad categories lead to subcategories that would be worthwhile to look at individually:\n",
    "    - Phone service or not: \n",
    "        - Multiple lines\n",
    "    - Internet Service or not:\n",
    "        - online security\n",
    "        - online backup\n",
    "        - tech support\n",
    "        - device protection\n",
    "        - streaming tv\n",
    "        - streaming movies\n",
    "        - service type (DSL vs Fiber)\n",
    "     "
   ]
  },
  {
   "cell_type": "code",
   "execution_count": 19,
   "id": "b0413969-e391-46ef-945d-ba5cda327002",
   "metadata": {},
   "outputs": [],
   "source": [
    "target = 'churn'"
   ]
  },
  {
   "cell_type": "code",
   "execution_count": 12,
   "id": "c8595dce-6105-4c7a-9ffb-d8f18d85bdfd",
   "metadata": {},
   "outputs": [
    {
     "data": {
      "text/plain": [
       "Index(['gender', 'partner', 'dependents', 'phone_service', 'multiple_lines',\n",
       "       'online_security', 'online_backup', 'device_protection', 'tech_support',\n",
       "       'streaming_tv', 'streaming_movies', 'paperless_billing', 'churn',\n",
       "       'contract_type', 'internet_service_type', 'payment_type'],\n",
       "      dtype='object')"
      ]
     },
     "execution_count": 12,
     "metadata": {},
     "output_type": "execute_result"
    }
   ],
   "source": [
    "catcol"
   ]
  },
  {
   "cell_type": "code",
   "execution_count": 30,
   "id": "31eb4d34-4f2d-48c4-92c0-7e6a7b3c7478",
   "metadata": {},
   "outputs": [
    {
     "data": {
      "text/plain": [
       "5310    Yes\n",
       "3790    Yes\n",
       "4398    Yes\n",
       "2635     No\n",
       "2986    Yes\n",
       "       ... \n",
       "6230    Yes\n",
       "356      No\n",
       "2128    Yes\n",
       "3586     No\n",
       "6817    Yes\n",
       "Name: partner, Length: 3943, dtype: object"
      ]
     },
     "execution_count": 30,
     "metadata": {},
     "output_type": "execute_result"
    }
   ],
   "source": [
    "train['partner']"
   ]
  },
  {
   "cell_type": "code",
   "execution_count": null,
   "id": "355686bc-3b46-41b7-b976-5dafaba9f3ff",
   "metadata": {},
   "outputs": [],
   "source": []
  }
 ],
 "metadata": {
  "kernelspec": {
   "display_name": "Python 3.9.7 64-bit ('base': conda)",
   "language": "python",
   "name": "python397jvsc74a57bd038cca0c38332a56087b24af0bc80247f4fced29cb4f7f437d91dc159adec9c4e"
  },
  "language_info": {
   "codemirror_mode": {
    "name": "ipython",
    "version": 3
   },
   "file_extension": ".py",
   "mimetype": "text/x-python",
   "name": "python",
   "nbconvert_exporter": "python",
   "pygments_lexer": "ipython3",
   "version": "3.9.7"
  }
 },
 "nbformat": 4,
 "nbformat_minor": 5
}
