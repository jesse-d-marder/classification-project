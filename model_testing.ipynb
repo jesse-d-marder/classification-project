{
 "cells": [
  {
   "cell_type": "code",
   "execution_count": 2,
   "id": "dff80535-842b-46b8-b6e3-c6ec1a72207d",
   "metadata": {},
   "outputs": [],
   "source": [
    "from acquire import get_telco_data\n",
    "from prepare import train_validate_test_split, prep_telco\n",
    "import pandas as pd\n",
    "import numpy as np\n",
    "import matplotlib.pyplot as plt\n",
    "import seaborn as sns\n",
    "import explore\n",
    "from scipy import stats\n",
    "\n",
    "from sklearn.tree import DecisionTreeClassifier, plot_tree\n",
    "from sklearn.ensemble import RandomForestClassifier\n",
    "from sklearn.metrics import accuracy_score, classification_report, confusion_matrix\n",
    "from sklearn.neighbors import KNeighborsClassifier\n",
    "from sklearn.linear_model import LogisticRegression\n"
   ]
  },
  {
   "cell_type": "code",
   "execution_count": 3,
   "id": "335fc5eb-8b4e-42a2-a308-a83243e43e30",
   "metadata": {},
   "outputs": [
    {
     "name": "stdout",
     "output_type": "stream",
     "text": [
      "Using cached data\n"
     ]
    }
   ],
   "source": [
    "df = get_telco_data()\n",
    "\n",
    "df = prep_telco(df)\n"
   ]
  },
  {
   "cell_type": "code",
   "execution_count": 5,
   "id": "bb9216f3-b2b1-400c-bea7-d0a496b5c6c5",
   "metadata": {},
   "outputs": [],
   "source": [
    "train, validate, test = train_validate_test_split(df, target = 'churn', seed =123)"
   ]
  },
  {
   "cell_type": "code",
   "execution_count": 6,
   "id": "3798d000-955e-4636-8149-bf39c8bfe2d6",
   "metadata": {},
   "outputs": [
    {
     "data": {
      "text/html": [
       "<div>\n",
       "<style scoped>\n",
       "    .dataframe tbody tr th:only-of-type {\n",
       "        vertical-align: middle;\n",
       "    }\n",
       "\n",
       "    .dataframe tbody tr th {\n",
       "        vertical-align: top;\n",
       "    }\n",
       "\n",
       "    .dataframe thead th {\n",
       "        text-align: right;\n",
       "    }\n",
       "</style>\n",
       "<table border=\"1\" class=\"dataframe\">\n",
       "  <thead>\n",
       "    <tr style=\"text-align: right;\">\n",
       "      <th></th>\n",
       "      <th>customer_id</th>\n",
       "      <th>is_senior_citizen</th>\n",
       "      <th>tenure</th>\n",
       "      <th>multiple_lines</th>\n",
       "      <th>online_security</th>\n",
       "      <th>online_backup</th>\n",
       "      <th>device_protection</th>\n",
       "      <th>tech_support</th>\n",
       "      <th>streaming_tv</th>\n",
       "      <th>streaming_movies</th>\n",
       "      <th>...</th>\n",
       "      <th>internet_service_type</th>\n",
       "      <th>payment_type</th>\n",
       "      <th>is_male</th>\n",
       "      <th>has_phone</th>\n",
       "      <th>has_internet_service</th>\n",
       "      <th>has_partner</th>\n",
       "      <th>has_dependent</th>\n",
       "      <th>is_paperless</th>\n",
       "      <th>is_month_to_month</th>\n",
       "      <th>is_autopay</th>\n",
       "    </tr>\n",
       "  </thead>\n",
       "  <tbody>\n",
       "    <tr>\n",
       "      <th>5919</th>\n",
       "      <td>8331-ZXFOE</td>\n",
       "      <td>0</td>\n",
       "      <td>58</td>\n",
       "      <td>Yes</td>\n",
       "      <td>Yes</td>\n",
       "      <td>Yes</td>\n",
       "      <td>Yes</td>\n",
       "      <td>Yes</td>\n",
       "      <td>No</td>\n",
       "      <td>No</td>\n",
       "      <td>...</td>\n",
       "      <td>DSL</td>\n",
       "      <td>Credit card (automatic)</td>\n",
       "      <td>0</td>\n",
       "      <td>1</td>\n",
       "      <td>1</td>\n",
       "      <td>0</td>\n",
       "      <td>0</td>\n",
       "      <td>1</td>\n",
       "      <td>0</td>\n",
       "      <td>1</td>\n",
       "    </tr>\n",
       "    <tr>\n",
       "      <th>1915</th>\n",
       "      <td>2790-XUYMV</td>\n",
       "      <td>0</td>\n",
       "      <td>71</td>\n",
       "      <td>Yes</td>\n",
       "      <td>Yes</td>\n",
       "      <td>Yes</td>\n",
       "      <td>No</td>\n",
       "      <td>No</td>\n",
       "      <td>No</td>\n",
       "      <td>No</td>\n",
       "      <td>...</td>\n",
       "      <td>Fiber optic</td>\n",
       "      <td>Credit card (automatic)</td>\n",
       "      <td>1</td>\n",
       "      <td>1</td>\n",
       "      <td>1</td>\n",
       "      <td>0</td>\n",
       "      <td>1</td>\n",
       "      <td>1</td>\n",
       "      <td>0</td>\n",
       "      <td>1</td>\n",
       "    </tr>\n",
       "    <tr>\n",
       "      <th>5054</th>\n",
       "      <td>7107-UBYKY</td>\n",
       "      <td>0</td>\n",
       "      <td>35</td>\n",
       "      <td>Yes</td>\n",
       "      <td>No internet service</td>\n",
       "      <td>No internet service</td>\n",
       "      <td>No internet service</td>\n",
       "      <td>No internet service</td>\n",
       "      <td>No internet service</td>\n",
       "      <td>No internet service</td>\n",
       "      <td>...</td>\n",
       "      <td>None</td>\n",
       "      <td>Electronic check</td>\n",
       "      <td>0</td>\n",
       "      <td>1</td>\n",
       "      <td>0</td>\n",
       "      <td>1</td>\n",
       "      <td>1</td>\n",
       "      <td>1</td>\n",
       "      <td>1</td>\n",
       "      <td>0</td>\n",
       "    </tr>\n",
       "    <tr>\n",
       "      <th>2355</th>\n",
       "      <td>3373-YZZYM</td>\n",
       "      <td>0</td>\n",
       "      <td>1</td>\n",
       "      <td>No</td>\n",
       "      <td>No internet service</td>\n",
       "      <td>No internet service</td>\n",
       "      <td>No internet service</td>\n",
       "      <td>No internet service</td>\n",
       "      <td>No internet service</td>\n",
       "      <td>No internet service</td>\n",
       "      <td>...</td>\n",
       "      <td>None</td>\n",
       "      <td>Mailed check</td>\n",
       "      <td>1</td>\n",
       "      <td>1</td>\n",
       "      <td>0</td>\n",
       "      <td>1</td>\n",
       "      <td>1</td>\n",
       "      <td>0</td>\n",
       "      <td>1</td>\n",
       "      <td>0</td>\n",
       "    </tr>\n",
       "    <tr>\n",
       "      <th>6279</th>\n",
       "      <td>8883-GRDWQ</td>\n",
       "      <td>1</td>\n",
       "      <td>20</td>\n",
       "      <td>No</td>\n",
       "      <td>Yes</td>\n",
       "      <td>No</td>\n",
       "      <td>No</td>\n",
       "      <td>Yes</td>\n",
       "      <td>No</td>\n",
       "      <td>No</td>\n",
       "      <td>...</td>\n",
       "      <td>DSL</td>\n",
       "      <td>Mailed check</td>\n",
       "      <td>1</td>\n",
       "      <td>1</td>\n",
       "      <td>1</td>\n",
       "      <td>0</td>\n",
       "      <td>0</td>\n",
       "      <td>0</td>\n",
       "      <td>0</td>\n",
       "      <td>0</td>\n",
       "    </tr>\n",
       "  </tbody>\n",
       "</table>\n",
       "<p>5 rows × 25 columns</p>\n",
       "</div>"
      ],
      "text/plain": [
       "     customer_id  is_senior_citizen  tenure multiple_lines  \\\n",
       "5919  8331-ZXFOE                  0      58            Yes   \n",
       "1915  2790-XUYMV                  0      71            Yes   \n",
       "5054  7107-UBYKY                  0      35            Yes   \n",
       "2355  3373-YZZYM                  0       1             No   \n",
       "6279  8883-GRDWQ                  1      20             No   \n",
       "\n",
       "          online_security        online_backup    device_protection  \\\n",
       "5919                  Yes                  Yes                  Yes   \n",
       "1915                  Yes                  Yes                   No   \n",
       "5054  No internet service  No internet service  No internet service   \n",
       "2355  No internet service  No internet service  No internet service   \n",
       "6279                  Yes                   No                   No   \n",
       "\n",
       "             tech_support         streaming_tv     streaming_movies  ...  \\\n",
       "5919                  Yes                   No                   No  ...   \n",
       "1915                   No                   No                   No  ...   \n",
       "5054  No internet service  No internet service  No internet service  ...   \n",
       "2355  No internet service  No internet service  No internet service  ...   \n",
       "6279                  Yes                   No                   No  ...   \n",
       "\n",
       "     internet_service_type             payment_type  is_male  has_phone  \\\n",
       "5919                   DSL  Credit card (automatic)        0          1   \n",
       "1915           Fiber optic  Credit card (automatic)        1          1   \n",
       "5054                  None         Electronic check        0          1   \n",
       "2355                  None             Mailed check        1          1   \n",
       "6279                   DSL             Mailed check        1          1   \n",
       "\n",
       "     has_internet_service has_partner has_dependent  is_paperless  \\\n",
       "5919                    1           0             0             1   \n",
       "1915                    1           0             1             1   \n",
       "5054                    0           1             1             1   \n",
       "2355                    0           1             1             0   \n",
       "6279                    1           0             0             0   \n",
       "\n",
       "      is_month_to_month  is_autopay  \n",
       "5919                  0           1  \n",
       "1915                  0           1  \n",
       "5054                  1           0  \n",
       "2355                  1           0  \n",
       "6279                  0           0  \n",
       "\n",
       "[5 rows x 25 columns]"
      ]
     },
     "execution_count": 6,
     "metadata": {},
     "output_type": "execute_result"
    }
   ],
   "source": [
    "train.head()"
   ]
  },
  {
   "cell_type": "code",
   "execution_count": 10,
   "id": "d96b4e3b-fabe-4c48-9f29-9712cc47394f",
   "metadata": {},
   "outputs": [],
   "source": [
    "# Baseline churn rate\n",
    "baseline_churn = (train.churn == 0).mean()"
   ]
  },
  {
   "cell_type": "code",
   "execution_count": 11,
   "id": "16425790-09cd-472a-854e-fe2b050cb4cb",
   "metadata": {},
   "outputs": [
    {
     "name": "stdout",
     "output_type": "stream",
     "text": [
      "0.7343154686309372\n"
     ]
    }
   ],
   "source": [
    "print(baseline_churn)"
   ]
  },
  {
   "cell_type": "code",
   "execution_count": 9,
   "id": "5c120d21-503e-4e39-9749-44ee6570d2bd",
   "metadata": {},
   "outputs": [
    {
     "data": {
      "text/plain": [
       "Index(['customer_id', 'is_senior_citizen', 'tenure', 'multiple_lines',\n",
       "       'online_security', 'online_backup', 'device_protection', 'tech_support',\n",
       "       'streaming_tv', 'streaming_movies', 'paperless_billing',\n",
       "       'monthly_charges', 'total_charges', 'churn', 'contract_type',\n",
       "       'internet_service_type', 'payment_type', 'is_male', 'has_phone',\n",
       "       'has_internet_service', 'has_partner', 'has_dependent', 'is_paperless',\n",
       "       'is_month_to_month', 'is_autopay'],\n",
       "      dtype='object')"
      ]
     },
     "execution_count": 9,
     "metadata": {},
     "output_type": "execute_result"
    }
   ],
   "source": [
    "train.columns"
   ]
  },
  {
   "cell_type": "code",
   "execution_count": 160,
   "id": "9c15ddba-7b3e-4839-a0ae-2a8c6eb038b8",
   "metadata": {},
   "outputs": [],
   "source": [
    "selected_features = ['monthly_charges','is_autopay','has_internet_service','tenure','is_month_to_month']\n",
    "target = 'churn'"
   ]
  },
  {
   "cell_type": "code",
   "execution_count": 168,
   "id": "e544cf00-c8a0-4058-97a9-01c9aca401c0",
   "metadata": {},
   "outputs": [],
   "source": [
    "X_train = train[selected_features]\n",
    "y_train = train[[target]]\n",
    "\n",
    "X_validate = validate[selected_features]\n",
    "y_validate = validate[[target]]\n",
    "\n",
    "X_test = test[selected_features]\n",
    "y_test = test[[target]]"
   ]
  },
  {
   "cell_type": "code",
   "execution_count": 169,
   "id": "0ad17990-6621-4eff-b923-29a5946d8e04",
   "metadata": {},
   "outputs": [],
   "source": [
    "clf = DecisionTreeClassifier(max_depth=3, random_state=123)\n",
    "clf = clf.fit(X_train, y_train)\n",
    "y_pred = clf.predict(X_train)"
   ]
  },
  {
   "cell_type": "code",
   "execution_count": 193,
   "id": "565c1b09-5f5b-4fe7-87d0-28d72b557e2d",
   "metadata": {},
   "outputs": [],
   "source": [
    "def decision_tree_train(X_train, y_train, selected_features=selected_features, target=target, d = 10, m=1, print_results = True):\n",
    "  \n",
    "    clf = DecisionTreeClassifier(max_depth=d, min_samples_leaf = m, random_state=123)\n",
    "    clf = clf.fit(X_train, y_train)\n",
    "    accuracy = clf.score(X_train, y_train)\n",
    "    y_pred = clf.predict(X_train)\n",
    "    class_report = classification_report(y_train, y_pred,output_dict=True)\n",
    "    \n",
    "    tn, fp, fn, tp = confusion_matrix(y_train, y_pred).ravel()\n",
    "        \n",
    "    fp_rate = fp/(fp+tn)\n",
    "    fn_rate = fn/(fn+tp)\n",
    "    tp_rate = tp/(tp+fn)\n",
    "    tn_rate = tn/(fp+tn)\n",
    "    if print_results:\n",
    "        print(\"TRAINING RESULTS\")\n",
    "        print(\"----------------\")\n",
    "        print(f\"Accuracy score on training set is: {accuracy:.2f}\")\n",
    "        print(classification_report(y_train, y_pred))\n",
    "\n",
    "\n",
    "        print(f\"False positive rate: {fp/(fp+tn):.2%}\")\n",
    "        print(f\"False negative rate: {fn/(fn+tp):.2%}\")\n",
    "        print(f\"True positive rate: {tp/(tp+fn):.2%}\")\n",
    "        print(f\"True negative rate: {tn/(fp+tn):.2%}\")\n",
    "        print(\"----------------\")\n",
    "    \n",
    "    train_report = {'d':d, \n",
    "                    'accuracy':accuracy, \n",
    "                    'precision':class_report['1']['precision'], \n",
    "                    'recall':class_report['1']['recall'],\n",
    "                   'fp_rate':fp_rate,\n",
    "                   'fn_rate':fn_rate,\n",
    "                   'tp_rate':tp_rate,\n",
    "                   'tn_rate':tn_rate}\n",
    "    \n",
    "    return clf, train_report\n",
    "\n",
    "def classifier_validate(X_validate, y_validate, clf, print_results=True):\n",
    "    d = clf.max_depth\n",
    "    accuracy = clf.score(X_validate, y_validate)\n",
    "\n",
    "\n",
    "    # Produce y_predictions that come from the X_validate\n",
    "    y_pred = clf.predict(X_validate)\n",
    "    \n",
    "    class_report = classification_report(y_validate, y_pred,output_dict=True)\n",
    "    tn, fp, fn, tp = confusion_matrix(y_validate, y_pred).ravel()\n",
    "    \n",
    "    fp_rate = fp/(fp+tn)\n",
    "    fn_rate = fn/(fn+tp)\n",
    "    tp_rate = tp/(tp+fn)\n",
    "    tn_rate = tn/(fp+tn)\n",
    "    # Compare actual y values (from validate) to predicted y_values from the model run on X_validate\n",
    "    if print_results:\n",
    "        print(\"-----VALIDATE RESULTS-----\")\n",
    "        print(classification_report(y_validate, y_pred))\n",
    "\n",
    "        print('Accuracy of Decision Tree classifier on validate set: {:.2f}'\n",
    "             .format(accuracy))\n",
    "    validate_report = {'d':d, \n",
    "                    'accuracy':accuracy, \n",
    "                    'precision':class_report['1']['precision'], \n",
    "                    'recall':class_report['1']['recall'],\n",
    "                   'fp_rate':fp_rate,\n",
    "                   'fn_rate':fn_rate,\n",
    "                   'tp_rate':tp_rate,\n",
    "                   'tn_rate':tn_rate}\n",
    "    \n",
    "    return validate_report"
   ]
  },
  {
   "cell_type": "code",
   "execution_count": 194,
   "id": "566a181e-d087-4173-a338-2a8d8c51fed1",
   "metadata": {},
   "outputs": [],
   "source": [
    "depths =[]\n",
    "min_samples = []\n",
    "accuracies = []\n",
    "precisions = []\n",
    "recalls = []\n",
    "for d in range(1, 100):\n",
    "    min_sample=1\n",
    "    clf, train_report = decision_tree_train(X_train, y_train, d=4, m = min_sample , print_results=False)\n",
    "    depths.append(d)\n",
    "    min_samples.append(min_sample)\n",
    "    accuracies.append(train_report['accuracy'])\n",
    "    precisions.append(train_report['precision'])\n",
    "    recalls.append(train_report['recall'])\n",
    "\n",
    "train_results_df= pd.DataFrame(data = {\"max_depth\":depths,\"min_samples_leaf\":min_samples,\"accuracy\":accuracies,\"precision\":precisions,\"recall\":recalls})"
   ]
  },
  {
   "cell_type": "code",
   "execution_count": 195,
   "id": "64f1df48-ae6a-43dc-8c14-ade52bf7b706",
   "metadata": {},
   "outputs": [
    {
     "data": {
      "image/png": "[encoded data removed]",
      "text/plain": [
       "<Figure size 1152x432 with 6 Axes>"
      ]
     },
     "metadata": {
      "needs_background": "light"
     },
     "output_type": "display_data"
    }
   ],
   "source": [
    "_, ax = plt.subplots(1,3, figsize=(16,6))\n",
    "to_plot = [\"accuracy\",\"precision\",\"recall\"]\n",
    "for i, metric in enumerate(to_plot):\n",
    "    heatmap_df = train_results_df.pivot(\"max_depth\",\"min_samples_leaf\",metric)\n",
    "    sns.heatmap(heatmap_df, ax=ax[i])\n",
    "    plt.suptitle('Train performance')\n",
    "    ax[i].set_title(metric)"
   ]
  },
  {
   "cell_type": "code",
   "execution_count": 196,
   "id": "61a36d15-4c34-4aeb-801a-c65187c8a71f",
   "metadata": {},
   "outputs": [
    {
     "data": {
      "text/plain": [
       "<AxesSubplot:xlabel='max_depth', ylabel='accuracy'>"
      ]
     },
     "execution_count": 196,
     "metadata": {},
     "output_type": "execute_result"
    },
    {
     "data": {
      "image/png": "[encoded data removed]",
      "text/plain": [
       "<Figure size 432x288 with 1 Axes>"
      ]
     },
     "metadata": {
      "needs_background": "light"
     },
     "output_type": "display_data"
    }
   ],
   "source": [
    "sns.lineplot(data = train_results_df, x = 'max_depth', y = 'accuracy')"
   ]
  },
  {
   "cell_type": "code",
   "execution_count": 220,
   "id": "0619cfd1-344a-4917-a297-10cab149cdcb",
   "metadata": {},
   "outputs": [
    {
     "name": "stdout",
     "output_type": "stream",
     "text": [
      "Highest accuracy score on train: 0.9123698247396494 with max depth setting of 14\n",
      "Highest accuracy score on validate: 0.7778436018957346 with max depth setting of 5\n"
     ]
    }
   ],
   "source": [
    "depths =[]\n",
    "min_samples = []\n",
    "train_accuracies = []\n",
    "train_precisions = []\n",
    "train_recalls = []\n",
    "\n",
    "v_accuracies = []\n",
    "v_precisions = []\n",
    "v_recalls = []\n",
    "min_sample_leafs = m = 1\n",
    "\n",
    "for d in range(2, 15):\n",
    "\n",
    "        clf, train_report = decision_tree_train(X_train,y_train,selected_features,target, d, m, print_results=False)\n",
    "        validate_report = classifier_validate(X_validate,y_validate, clf, print_results=False)\n",
    "\n",
    "        depths.append(d)\n",
    "        min_samples.append(min_sample)\n",
    "        train_accuracies.append(train_report['accuracy'])\n",
    "        train_precisions.append(train_report['precision'])\n",
    "        train_recalls.append(train_report['recall'])\n",
    "\n",
    "        v_accuracies.append(validate_report['accuracy'])\n",
    "        v_precisions.append(validate_report['precision'])\n",
    "        v_recalls.append(validate_report['recall'])\n",
    "\n",
    "train_results_df= pd.DataFrame(data = {\"max_depth\":depths,\"min_samples_leaf\":min_samples,\"accuracy\":train_accuracies,\"precision\":train_precisions,\"recall\":train_recalls})\n",
    "validate_results_df= pd.DataFrame(data = {\"max_depth\":depths,\"min_samples_leaf\":min_samples,\"accuracy\":v_accuracies,\"precision\":v_precisions,\"recall\":v_recalls})\n",
    "\n",
    "combined_df = train_results_df.merge(validate_results_df,on=['max_depth','min_samples_leaf'], suffixes=['_train','_validate'])\n",
    "combined_df[\"accuracy_diff\"] = combined_df.accuracy_validate-combined_df.accuracy_train\n",
    "combined_df[\"precision_diff\"] = combined_df.precision_validate-combined_df.precision_train\n",
    "combined_df[\"recall_diff\"] = combined_df.recall_validate-combined_df.recall_train\n",
    "\n",
    "combined_df = combined_df.sort_values(by =['accuracy_validate','accuracy_diff'], ascending=False)\n",
    "print(f\"Highest accuracy score on train: {combined_df.accuracy_train.max()} with max depth setting of {combined_df.max_depth[combined_df.accuracy_train.idxmax()]}\")\n",
    "print(f\"Highest accuracy score on validate: {combined_df.accuracy_validate.max()} with max depth setting of {combined_df.max_depth[combined_df.accuracy_validate.idxmax()]}\")"
   ]
  },
  {
   "cell_type": "code",
   "execution_count": 221,
   "id": "38f1f522-db12-43ca-8c91-67fdc5b565ef",
   "metadata": {},
   "outputs": [
    {
     "data": {
      "text/html": [
       "<div>\n",
       "<style scoped>\n",
       "    .dataframe tbody tr th:only-of-type {\n",
       "        vertical-align: middle;\n",
       "    }\n",
       "\n",
       "    .dataframe tbody tr th {\n",
       "        vertical-align: top;\n",
       "    }\n",
       "\n",
       "    .dataframe thead th {\n",
       "        text-align: right;\n",
       "    }\n",
       "</style>\n",
       "<table border=\"1\" class=\"dataframe\">\n",
       "  <thead>\n",
       "    <tr style=\"text-align: right;\">\n",
       "      <th></th>\n",
       "      <th>max_depth</th>\n",
       "      <th>min_samples_leaf</th>\n",
       "      <th>accuracy_train</th>\n",
       "      <th>precision_train</th>\n",
       "      <th>recall_train</th>\n",
       "      <th>accuracy_validate</th>\n",
       "      <th>precision_validate</th>\n",
       "      <th>recall_validate</th>\n",
       "      <th>accuracy_diff</th>\n",
       "      <th>precision_diff</th>\n",
       "      <th>recall_diff</th>\n",
       "    </tr>\n",
       "  </thead>\n",
       "  <tbody>\n",
       "    <tr>\n",
       "      <th>3</th>\n",
       "      <td>5</td>\n",
       "      <td>1</td>\n",
       "      <td>0.801626</td>\n",
       "      <td>0.6901</td>\n",
       "      <td>0.459847</td>\n",
       "      <td>0.777844</td>\n",
       "      <td>0.614198</td>\n",
       "      <td>0.443207</td>\n",
       "      <td>-0.023782</td>\n",
       "      <td>-0.075903</td>\n",
       "      <td>-0.01664</td>\n",
       "    </tr>\n",
       "  </tbody>\n",
       "</table>\n",
       "</div>"
      ],
      "text/plain": [
       "   max_depth  min_samples_leaf  accuracy_train  precision_train  recall_train  \\\n",
       "3          5                 1        0.801626           0.6901      0.459847   \n",
       "\n",
       "   accuracy_validate  precision_validate  recall_validate  accuracy_diff  \\\n",
       "3           0.777844            0.614198         0.443207      -0.023782   \n",
       "\n",
       "   precision_diff  recall_diff  \n",
       "3       -0.075903     -0.01664  "
      ]
     },
     "execution_count": 221,
     "metadata": {},
     "output_type": "execute_result"
    }
   ],
   "source": [
    "combined_df.head(1)"
   ]
  },
  {
   "cell_type": "code",
   "execution_count": 206,
   "id": "2cf93fc7-08f8-4f60-adb8-9554e07fdf0e",
   "metadata": {},
   "outputs": [
    {
     "data": {
      "image/png": "[encoded data removed]",
      "text/plain": [
       "<Figure size 1152x432 with 6 Axes>"
      ]
     },
     "metadata": {
      "needs_background": "light"
     },
     "output_type": "display_data"
    }
   ],
   "source": [
    "_, ax = plt.subplots(1,3, figsize=(16,6))\n",
    "to_plot = [\"accuracy_diff\",\"precision_diff\",\"recall_diff\"]\n",
    "for i, metric in enumerate(to_plot):\n",
    "    heatmap_df = combined_df.pivot(\"max_depth\",\"min_samples_leaf\",metric)\n",
    "    sns.heatmap(heatmap_df, ax=ax[i])\n",
    "    plt.suptitle('Difference between validate and train performance')\n",
    "    ax[i].set_title(metric)"
   ]
  },
  {
   "cell_type": "code",
   "execution_count": null,
   "id": "b910e7cf-cef2-403c-b839-67ab731eae68",
   "metadata": {},
   "outputs": [],
   "source": []
  },
  {
   "cell_type": "code",
   "execution_count": null,
   "id": "4071d9e5-6694-4fa1-bfdc-6545fc289b96",
   "metadata": {},
   "outputs": [],
   "source": []
  },
  {
   "cell_type": "code",
   "execution_count": null,
   "id": "186fb85b-6838-443f-bb2d-dc23a10a8ea8",
   "metadata": {},
   "outputs": [],
   "source": []
  }
 ],
 "metadata": {
  "kernelspec": {
   "display_name": "Python 3.9.7 64-bit ('base': conda)",
   "language": "python",
   "name": "python397jvsc74a57bd038cca0c38332a56087b24af0bc80247f4fced29cb4f7f437d91dc159adec9c4e"
  },
  "language_info": {
   "codemirror_mode": {
    "name": "ipython",
    "version": 3
   },
   "file_extension": ".py",
   "mimetype": "text/x-python",
   "name": "python",
   "nbconvert_exporter": "python",
   "pygments_lexer": "ipython3",
   "version": "3.9.7"
  }
 },
 "nbformat": 4,
 "nbformat_minor": 5
}
